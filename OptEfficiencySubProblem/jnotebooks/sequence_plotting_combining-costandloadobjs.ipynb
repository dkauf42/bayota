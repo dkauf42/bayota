{
 "cells": [
  {
   "cell_type": "code",
   "execution_count": 2,
   "metadata": {},
   "outputs": [
    {
     "name": "stdout",
     "output_type": "stream",
     "text": [
      "Populating the interactive namespace from numpy and matplotlib\n"
     ]
    }
   ],
   "source": [
    "import sys\n",
    "sys.path.append('..')  # allow this notebook to find equal-level directories\n",
    "%pylab inline\n",
    "from importing_modules import *\n",
    "# pyomo.environ as oe, seaborn as sns, plotly.plotly as py, plotly.graph_objs as go\n",
    "# from util.gjh_wrapper import gjh_solve, make_df, from vis import acres_bars, zL_bars"
   ]
  },
  {
   "cell_type": "markdown",
   "metadata": {},
   "source": [
    "#### Load Solution Sequence"
   ]
  },
  {
   "cell_type": "code",
   "execution_count": 3,
   "metadata": {},
   "outputs": [],
   "source": [
    "filename = 'output/costobj_tausequence_alldfs_ipopt_2018-07-30_142259.csv'\n",
    "df_costobj = pd.read_csv(os.path.join(projectpath, filename))\n",
    "\n",
    "filename = 'output/loadobj_costboundsequence_alldfs_ipopt_2018-07-30_133209.csv'\n",
    "df_loadobj = pd.read_csv(os.path.join(projectpath, filename))"
   ]
  },
  {
   "cell_type": "markdown",
   "metadata": {},
   "source": [
    "#### Pivot table for acres"
   ]
  },
  {
   "cell_type": "code",
   "execution_count": 5,
   "metadata": {},
   "outputs": [],
   "source": [
    "# COST OBJECTIVE\n",
    "df_piv = df_costobj.pivot(index='tau', columns='x', values='acres')\n",
    "df_piv.reset_index(level=['tau'], inplace=True)  # make tau into a regular column\n",
    "df_piv['range']=df_piv.drop('tau', axis=1).apply(lambda x : list((0, int(math.ceil(np.nanmax(x))+1))), 1)\n",
    "df_piv['objective'] = df_piv['tau'].map(dict(zip(df_costobj.tau, df_costobj.solution_objectives)))  # solution_objectives\n",
    "df_piv_costobj = df_piv.copy()\n",
    "\n",
    "\n",
    "# LOAD OBJECTIVE\n",
    "df_piv = df_loadobj.pivot(index='totalcostupperbound', columns='x', values='acres')\n",
    "df_piv.reset_index(level=['totalcostupperbound'], inplace=True)  # make tau into a regular column\n",
    "df_piv['range']=df_piv.drop('totalcostupperbound', axis=1).apply(lambda x : list((0, int(math.ceil(np.nanmax(x))+1))), 1)\n",
    "df_piv['objective'] = df_piv['totalcostupperbound'].map(dict(zip(df_loadobj.totalcostupperbound, df_loadobj.solution_objectives)))  # solution_objectives\n",
    "df_piv_loadobj = df_piv.copy()"
   ]
  },
  {
   "cell_type": "markdown",
   "metadata": {},
   "source": [
    "# Visualizations"
   ]
  },
  {
   "cell_type": "code",
   "execution_count": 11,
   "metadata": {},
   "outputs": [
    {
     "name": "stdout",
     "output_type": "stream",
     "text": [
      "50\n",
      "[\"('ConPlan', 'N42071SL2_2410_2700', 'pas', 1.94)\", \"('CoverCropTradRED', 'N42071SL2_2410_2700', 'gwm', 68.94)\", \"('CoverCropTradRED', 'N42071SL2_2410_2700', 'swm', 68.94)\", \"('HRTill', 'N42071SL2_2410_2700', 'dbl', 0.0)\", \"('HRTill', 'N42071SL2_2410_2700', 'gom', 0.0)\", \"('HRTill', 'N42071SL2_2410_2700', 'gwm', 0.0)\", \"('HRTill', 'N42071SL2_2410_2700', 'oac', 0.0)\", \"('HRTill', 'N42071SL2_2410_2700', 'sch', 0.0)\", \"('HRTill', 'N42071SL2_2410_2700', 'scl', 0.0)\", \"('HRTill', 'N42071SL2_2410_2700', 'sgg', 0.0)\", \"('HRTill', 'N42071SL2_2410_2700', 'som', 0.0)\", \"('HRTill', 'N42071SL2_2410_2700', 'soy', 0.0)\", \"('HRTill', 'N42071SL2_2410_2700', 'swm', 0.0)\", \"('UrbanNMPlanHR', 'N42071SL2_2410_2700', 'mch', 0.0)\", \"('UrbanNMPlanHR', 'N42071SL2_2410_2700', 'mcn', 0.0)\", \"('UrbanNMPlanHR', 'N42071SL2_2410_2700', 'mtg', 0.0)\", \"('UrbanNMPlanHR', 'N42071SL2_2410_2700', 'nch', 0.0)\", \"('UrbanNMPlanHR', 'N42071SL2_2410_2700', 'ntg', 0.0)\", \"('WaterContStruc', 'N42071SL2_2410_2700', 'pas', 17.74)\"]\n",
      "54\n",
      "0\n"
     ]
    },
    {
     "ename": "IndexError",
     "evalue": "too many indices for array",
     "output_type": "error",
     "traceback": [
      "\u001b[0;31m---------------------------------------------------------------------------\u001b[0m",
      "\u001b[0;31mIndexError\u001b[0m                                Traceback (most recent call last)",
      "\u001b[0;32m<ipython-input-11-3bfbda9d9af6>\u001b[0m in \u001b[0;36m<module>\u001b[0;34m()\u001b[0m\n\u001b[1;32m     12\u001b[0m \u001b[0;32mfor\u001b[0m \u001b[0mcounter\u001b[0m\u001b[0;34m,\u001b[0m \u001b[0mcolumnname\u001b[0m \u001b[0;32min\u001b[0m \u001b[0menumerate\u001b[0m\u001b[0;34m(\u001b[0m\u001b[0mcolumnnames\u001b[0m\u001b[0;34m)\u001b[0m\u001b[0;34m:\u001b[0m\u001b[0;34m\u001b[0m\u001b[0m\n\u001b[1;32m     13\u001b[0m     \u001b[0mprint\u001b[0m\u001b[0;34m(\u001b[0m\u001b[0mcounter\u001b[0m\u001b[0;34m)\u001b[0m\u001b[0;34m\u001b[0m\u001b[0m\n\u001b[0;32m---> 14\u001b[0;31m     \u001b[0max\u001b[0m \u001b[0;34m=\u001b[0m \u001b[0maxes\u001b[0m\u001b[0;34m[\u001b[0m\u001b[0mcounter\u001b[0m\u001b[0;34m,\u001b[0m \u001b[0;36m0\u001b[0m\u001b[0;34m]\u001b[0m\u001b[0;34m\u001b[0m\u001b[0m\n\u001b[0m\u001b[1;32m     15\u001b[0m \u001b[0;34m\u001b[0m\u001b[0m\n\u001b[1;32m     16\u001b[0m     \u001b[0max\u001b[0m\u001b[0;34m.\u001b[0m\u001b[0mspines\u001b[0m\u001b[0;34m[\u001b[0m\u001b[0;34m'left'\u001b[0m\u001b[0;34m]\u001b[0m\u001b[0;34m.\u001b[0m\u001b[0mset_visible\u001b[0m\u001b[0;34m(\u001b[0m\u001b[0;32mFalse\u001b[0m\u001b[0;34m)\u001b[0m\u001b[0;34m\u001b[0m\u001b[0m\n",
      "\u001b[0;31mIndexError\u001b[0m: too many indices for array"
     ]
    },
    {
     "data": {
      "image/png": "[encoded data removed]",
      "text/plain": [
       "<Figure size 648x1008 with 50 Axes>"
      ]
     },
     "metadata": {},
     "output_type": "display_data"
    }
   ],
   "source": [
    "loadplotdf = df_piv_loadobj[df_piv_loadobj.columns.difference(['totalcostupperbound', 'range', 'objective'])]\n",
    "costplotdf = df_piv_costobj[df_piv_costobj.columns.difference(['tau', 'range', 'objective'])]\n",
    "\n",
    "varnum = max([loadplotdf.shape[1], costplotdf.shape[1]])\n",
    "print(varnum)\n",
    "print(list(loadplotdf.columns))\n",
    "columnnames = set(list(loadplotdf.columns) + list(costplotdf.columns))\n",
    "print(len(columnnames))\n",
    "\n",
    "fig, axes = plt.subplots(varnum, 1, sharex=True, figsize=(9, 14))\n",
    "\n",
    "for counter, columnname in enumerate(columnnames):\n",
    "    print(counter)\n",
    "    ax = axes[counter, 0]\n",
    "    \n",
    "    ax.spines['left'].set_visible(False)\n",
    "    ax.tick_params(axis=u'both', which=u'both',length=0)\n",
    "    ax.grid(color='#D3D3D3', linestyle='-', linewidth=1)\n",
    "    \n",
    "    ax.plot(df_piv['totalcostupperbound'], df_piv[columnname].round(2))\n",
    "    \n",
    "    ax.set_ylabel(str(columnname), rotation=0, horizontalalignment='right')\n",
    "    \n",
    "df_toplot = df_g_piv[df_g_piv.columns.difference(['totalcostupperbound', 'range', 'objective'])]\n",
    "varnum = df_toplot.shape[1]\n",
    "\n",
    "# maxv = np.nanmax(df_toplot.values)\n",
    "# for counter, columnname in enumerate(df_toplot):\n",
    "#     ax = axes[counter, 1]\n",
    "    \n",
    "#     ax.set_ylim([0,maxv])\n",
    "    \n",
    "# #     ax.spines['top'].set_visible(False)\n",
    "#     ax.spines['right'].set_visible(False)\n",
    "# #     ax.spines['bottom'].set_visible(False)\n",
    "#     ax.spines['left'].set_visible(False)\n",
    "#     ax.tick_params(axis=u'both', which=u'both',length=0)\n",
    "#     ax.grid(color='#D3D3D3', linestyle='-', linewidth=1)\n",
    "    \n",
    "#     ax.plot(df_piv['totalcostupperbound'], df_g_piv[columnname])\n",
    "    \n",
    "# #     ax.set_ylabel(str(columnname), rotation=0, horizontalalignment='right')"
   ]
  },
  {
   "cell_type": "code",
   "execution_count": null,
   "metadata": {},
   "outputs": [],
   "source": []
  }
 ],
 "metadata": {
  "kernelspec": {
   "display_name": "Python [conda env:OptSubProblem]",
   "language": "python",
   "name": "conda-env-OptSubProblem-py"
  },
  "language_info": {
   "codemirror_mode": {
    "name": "ipython",
    "version": 3
   },
   "file_extension": ".py",
   "mimetype": "text/x-python",
   "name": "python",
   "nbconvert_exporter": "python",
   "pygments_lexer": "ipython3",
   "version": "3.6.6"
  }
 },
 "nbformat": 4,
 "nbformat_minor": 2
}
