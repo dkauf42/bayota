{
 "cells": [
  {
   "cell_type": "code",
   "execution_count": 1,
   "metadata": {},
   "outputs": [
    {
     "name": "stdout",
     "output_type": "stream",
     "text": [
      "Populating the interactive namespace from numpy and matplotlib\n"
     ]
    }
   ],
   "source": [
    "import sys\n",
    "sys.path.append('..')  # allow this notebook to find equal-level directories\n",
    "%pylab inline\n",
    "\n",
    "pathtopynumero = '/Users/Danny/Desktop/CATEGORIES/CAREER_MANAGEMENT/CRC_ResearchScientist_Optimization/Optimization_Tool/2_ExperimentFolder/pyomo'\n",
    "sys.path.append(pathtopynumero)\n",
    "\n",
    "from importing_modules import *\n",
    "# pyomo.environ as oe, seaborn as sns, plotly.plotly as py, plotly.graph_objs as go\n",
    "# from util.gjh_wrapper import gjh_solve, make_df, from vis import acres_bars, zL_bars\n",
    "\n",
    "\n",
    "import pyomo.dae as dae\n",
    "from pyomo.contrib.pynumero.sparse import BlockSymMatrix\n",
    "from pyomo.contrib.pynumero.interfaces import PyomoNLP"
   ]
  },
  {
   "cell_type": "code",
   "execution_count": 2,
   "metadata": {},
   "outputs": [
    {
     "ename": "NameError",
     "evalue": "name 'asdjhgj' is not defined",
     "output_type": "error",
     "traceback": [
      "\u001b[0;31m---------------------------------------------------------------------------\u001b[0m",
      "\u001b[0;31mNameError\u001b[0m                                 Traceback (most recent call last)",
      "\u001b[0;32m<ipython-input-2-9b1d313bb128>\u001b[0m in \u001b[0;36m<module>\u001b[0;34m()\u001b[0m\n\u001b[0;32m----> 1\u001b[0;31m \u001b[0masdjhgj\u001b[0m\u001b[0;34m\u001b[0m\u001b[0m\n\u001b[0m\u001b[1;32m      2\u001b[0m \u001b[0;31m# import sys\u001b[0m\u001b[0;34m\u001b[0m\u001b[0;34m\u001b[0m\u001b[0m\n\u001b[1;32m      3\u001b[0m \u001b[0;34m\u001b[0m\u001b[0m\n\u001b[1;32m      4\u001b[0m \u001b[0;31m# sys.path.append('/Users/Danny/Desktop/CATEGORIES/CAREER_MANAGEMENT/CRC_ResearchScientist_Optimization/Optimization_Tool/2_ExperimentFolder/pyomo')  # allow this notebook to find equal-level directories\u001b[0m\u001b[0;34m\u001b[0m\u001b[0;34m\u001b[0m\u001b[0m\n\u001b[1;32m      5\u001b[0m \u001b[0;31m# print('\\n'.join(sys.path))\u001b[0m\u001b[0;34m\u001b[0m\u001b[0;34m\u001b[0m\u001b[0m\n",
      "\u001b[0;31mNameError\u001b[0m: name 'asdjhgj' is not defined"
     ]
    }
   ],
   "source": [
    "asdjhgj\n",
    "# import sys\n",
    "\n",
    "# sys.path.append('/Users/Danny/Desktop/CATEGORIES/CAREER_MANAGEMENT/CRC_ResearchScientist_Optimization/Optimization_Tool/2_ExperimentFolder/pyomo')  # allow this notebook to find equal-level directories\n",
    "# print('\\n'.join(sys.path))"
   ]
  },
  {
   "cell_type": "code",
   "execution_count": null,
   "metadata": {},
   "outputs": [],
   "source": [
    "# import os\n",
    "# import pyomo"
   ]
  },
  {
   "cell_type": "code",
   "execution_count": 3,
   "metadata": {},
   "outputs": [
    {
     "ename": "NameError",
     "evalue": "name 'pyomo' is not defined",
     "output_type": "error",
     "traceback": [
      "\u001b[0;31m---------------------------------------------------------------------------\u001b[0m",
      "\u001b[0;31mNameError\u001b[0m                                 Traceback (most recent call last)",
      "\u001b[0;32m<ipython-input-3-b251152674fc>\u001b[0m in \u001b[0;36m<module>\u001b[0;34m()\u001b[0m\n\u001b[0;32m----> 1\u001b[0;31m \u001b[0mpyomo\u001b[0m\u001b[0;34m.\u001b[0m\u001b[0m__file__\u001b[0m\u001b[0;34m\u001b[0m\u001b[0m\n\u001b[0m",
      "\u001b[0;31mNameError\u001b[0m: name 'pyomo' is not defined"
     ]
    }
   ],
   "source": [
    "pyomo.__file__"
   ]
  },
  {
   "cell_type": "code",
   "execution_count": null,
   "metadata": {},
   "outputs": [],
   "source": [
    "pathtopynumero = '/Users/Danny/Desktop/CATEGORIES/CAREER_MANAGEMENT/CRC_ResearchScientist_Optimization/Optimization_Tool/2_ExperimentFolder/pyomo'\n",
    "\n",
    "# import importlib.util\n",
    "# spec = importlib.util.spec_from_file_location(\"pyomo\", pathtopynumero)\n",
    "# foo = importlib.util.module_from_spec(spec)\n",
    "# spec.loader.exec_module(foo)\n",
    "# # foo.MyClass()"
   ]
  },
  {
   "cell_type": "code",
   "execution_count": null,
   "metadata": {},
   "outputs": [],
   "source": [
    "\n",
    "# sys.path.append('..')  # allow this notebook to find equal-level directories\n",
    "\n",
    "\n",
    "# import pyomo.environ as oe\n",
    "# import pyomo.dae as dae\n",
    "# from pyomo.contrib.pynumero.sparse import BlockSymMatrix\n",
    "# from pyomo.contrib.pynumero.interfaces import PyomoNLP\n",
    "\n",
    "\n",
    "# import matplotlib.pylab as plt\n",
    "# from util.subproblem_model_loadobjective import LoadObj\n",
    "# from util.subproblem_solver_ipopt import SolveAndParse\n",
    "# from vis.acres_bars import acres_bars\n",
    "# from vis.zL_bars import zL_bars\n",
    "\n",
    "# %pylab inline\n",
    "# from datetime import datetime"
   ]
  },
  {
   "cell_type": "code",
   "execution_count": 4,
   "metadata": {},
   "outputs": [],
   "source": [
    "baseexppath = '/Users/Danny/Desktop/CATEGORIES/CAREER_MANAGEMENT/CRC_ResearchScientist_Optimization/Optimization_Tool/2_ExperimentFolder/'\n",
    "projectpath = os.path.join(baseexppath, 'ampl/OptEfficiencySubProblem/')"
   ]
  },
  {
   "cell_type": "markdown",
   "metadata": {},
   "source": [
    "## Create a problem instance"
   ]
  },
  {
   "cell_type": "code",
   "execution_count": 6,
   "metadata": {},
   "outputs": [],
   "source": [
    "# Load data for each set, parameter, etc. to define a problem instance\n",
    "objwrapper = LoadObj()\n",
    "# lrsegs = ['N42071SL2_2410_2700']\n",
    "lrsegs = ['N51133RL0_6450_0000']\n",
    "data = objwrapper.load_data(savedata2file=False, lrsegs_list=lrsegs)\n",
    "\n",
    "# Set the cost bound ----\n",
    "data.totalcostupperbound = 100000\n",
    "costboundstr = str(round(data.totalcostupperbound, 1))\n",
    "\n",
    "# Create concrete problem instance using the separately defined optimization model\n",
    "mdl = objwrapper.create_concrete(data=data)\n",
    "\n",
    "# Retain only the Nitrogen load objective, and deactivate the others\n",
    "mdl.PercentReduction['P'].deactivate()\n",
    "mdl.PercentReduction['S'].deactivate()\n",
    "\n",
    "# ---- Solver name ----\n",
    "localsolver = True\n",
    "solvername = 'ipopt'\n",
    "# solvername = 'minos'"
   ]
  },
  {
   "cell_type": "code",
   "execution_count": 12,
   "metadata": {},
   "outputs": [],
   "source": [
    "# reinitialize the variables\n",
    "for k in mdl.x:\n",
    "#         mdl.x[k] = float(random.randrange(0, 600001))/100\n",
    "    mdl.x[k] = round(random.uniform(0, 6000), 2)"
   ]
  },
  {
   "cell_type": "code",
   "execution_count": 36,
   "metadata": {},
   "outputs": [],
   "source": [
    "nlp = PyomoNLP(mdl)\n",
    "x = nlp.x_init\n",
    "res_c = nlp.evaluate_c(x)\n",
    "xl = nlp.xl\n",
    "xu = nlp.xu\n",
    "res_d1 = nlp.evaluate_d(x)\n",
    "\n",
    "# general inequality constraints (see: https://github.com/santiagoropb/pyomo/blob/pynumero/pyomo/contrib/pynumero/interfaces/nlp.py)\n",
    "gl = nlp.gl\n",
    "gu = nlp.gu\n",
    "g = nlp.evaluate_g(x)\n",
    "res_d2 = gu[nlp.nc:] - g[nlp.nc:]"
   ]
  },
  {
   "cell_type": "code",
   "execution_count": 42,
   "metadata": {},
   "outputs": [
    {
     "name": "stdout",
     "output_type": "stream",
     "text": [
      "[5664.51  547.33 4247.9  ... 4621.14 3979.92 3917.7 ]\n",
      "1339\n",
      "1108\n"
     ]
    }
   ],
   "source": [
    "print(x)\n",
    "print(len(x))\n",
    "print(nlp.ng)"
   ]
  },
  {
   "cell_type": "code",
   "execution_count": 39,
   "metadata": {},
   "outputs": [
    {
     "name": "stdout",
     "output_type": "stream",
     "text": [
      "1108\n",
      "1108\n",
      "1108\n",
      "4672896218.026204\n",
      "-4672796218.026204\n"
     ]
    }
   ],
   "source": [
    "print(len(gl))\n",
    "print(len(res_d1))\n",
    "print(len(res_d2))\n",
    "print(res_d1[0])\n",
    "print(res_d2[0])"
   ]
  },
  {
   "cell_type": "code",
   "execution_count": 31,
   "metadata": {},
   "outputs": [
    {
     "name": "stdout",
     "output_type": "stream",
     "text": [
      "1108\n",
      "4672896218.026204\n",
      "930.91\n",
      "0.0\n",
      "0.0\n",
      "0.0\n",
      "0.0\n",
      "0.0\n",
      "0.0\n",
      "0.0\n",
      "0.0\n",
      "0.0\n",
      "0.0\n",
      "0.0\n",
      "0.0\n",
      "0.0\n"
     ]
    }
   ],
   "source": [
    "print(len(res_d))\n",
    "for i in range(15):\n",
    "    print(nlp.evaluate_d(x)[i])"
   ]
  },
  {
   "cell_type": "code",
   "execution_count": null,
   "metadata": {},
   "outputs": [],
   "source": [
    "looptimestamp = datetime.now().strftime('%Y-%m-%d_%H%M%S')\n",
    "\n",
    "myobj = SolveAndParse(instance=mdl, data=data, localsolver=localsolver, solvername=solvername)\n",
    "\n",
    "# set filepath for saving information about all of the solver iterates\n",
    "output_file_name=os.path.join(projectpath, ''.join(['output/single_LoadObj_', looptimestamp, '.iters']))\n",
    "myobj.modify_ipopt_options(optionsfilepath='ipopt.opt', newoutputfilepath=output_file_name)\n",
    "\n",
    "merged_df = myobj.solve()\n",
    "print('\\nObjective is: %d' % oe.value(mdl.PercentReduction['N']))"
   ]
  },
  {
   "cell_type": "code",
   "execution_count": null,
   "metadata": {},
   "outputs": [],
   "source": [
    "from pyomo.contrib.pynumero.examples import derivatives\n",
    "# derivatives()\n",
    "\n",
    "# Discretize model using Orthogonal Collocation\n",
    "discretizer = oe.TransformationFactory('dae.collocation')\n",
    "discretizer.apply_to(mdl, nfe=100, ncp=3, scheme='LAGRANGE-RADAU')\n",
    "discretizer.reduce_collocation_points(mdl, var=mdl.x, ncp=1, contset=mdl.t)"
   ]
  },
  {
   "cell_type": "code",
   "execution_count": null,
   "metadata": {},
   "outputs": [],
   "source": [
    "# Interface pyomo model with nlp\n",
    "nlp = PyomoNLP(mdl)\n",
    "x = nlp.create_vector_x()\n",
    "lam = nlp.create_vector_y()\n",
    "\n",
    "# Evaluate jacobian\n",
    "jac_c = nlp.jacobian_g(x)\n",
    "plt.spy(jac_c)\n",
    "plt.title('Jacobian of the constraints\\n')\n",
    "plt.show()\n",
    "\n",
    "print(type(jac_c))\n",
    "print(jac_c.shape)"
   ]
  },
  {
   "cell_type": "code",
   "execution_count": null,
   "metadata": {},
   "outputs": [],
   "source": [
    "jac_c"
   ]
  },
  {
   "cell_type": "code",
   "execution_count": null,
   "metadata": {},
   "outputs": [],
   "source": [
    "# Evaluate hessian of the lagrangian\n",
    "hess_lag = nlp.hessian_lag(x, lam)\n",
    "plt.spy(hess_lag)\n",
    "plt.title('Hessian of the Lagrangian function\\n')\n",
    "plt.show()"
   ]
  },
  {
   "cell_type": "code",
   "execution_count": null,
   "metadata": {},
   "outputs": [],
   "source": []
  }
 ],
 "metadata": {
  "kernelspec": {
   "display_name": "Python [conda env:pyomo_pynumero]",
   "language": "python",
   "name": "conda-env-pyomo_pynumero-py"
  },
  "language_info": {
   "codemirror_mode": {
    "name": "ipython",
    "version": 3
   },
   "file_extension": ".py",
   "mimetype": "text/x-python",
   "name": "python",
   "nbconvert_exporter": "python",
   "pygments_lexer": "ipython3",
   "version": "3.6.6"
  }
 },
 "nbformat": 4,
 "nbformat_minor": 2
}
