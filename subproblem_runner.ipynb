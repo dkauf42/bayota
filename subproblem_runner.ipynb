{
 "cells": [
  {
   "cell_type": "code",
   "execution_count": 1,
   "metadata": {},
   "outputs": [],
   "source": [
    "import pyomo.environ as oe\n",
    "import pandas as pd\n",
    "from pyomo.opt import SolverFactory\n",
    "from subproblem_model import build_subproblem_model\n",
    "from subproblem_dataloader import DataLoader"
   ]
  },
  {
   "cell_type": "code",
   "execution_count": 2,
   "metadata": {},
   "outputs": [],
   "source": [
    "data = DataLoader()"
   ]
  },
  {
   "cell_type": "code",
   "execution_count": 3,
   "metadata": {},
   "outputs": [],
   "source": [
    "#display(data.BMPGRPING)\n",
    "#display(data.BMPGRPING)"
   ]
  },
  {
   "cell_type": "code",
   "execution_count": 54,
   "metadata": {},
   "outputs": [],
   "source": [
    "# Note that there is no need to call create_instance on a ConcreteModel\n",
    "mdl = build_subproblem_model(pltnts=data.PLTNTS,\n",
    "                             lrsegs=data.LRSEGS,\n",
    "                             bmps=data.BMPS,\n",
    "                             bmpgrps=data.BMPGRPS,\n",
    "                             bmpgrping=data.BMPGRPING,\n",
    "                             loadsrcs=data.LOADSRCS,\n",
    "                             bmpsrclinks=data.BMPSRCLINKS,\n",
    "                             bmpgrpsrclinks=data.BMPGRPSRCLINKS,\n",
    "                             c=data.c,\n",
    "                             e=data.E,\n",
    "                             tau=data.tau,\n",
    "                             phi=data.phi,\n",
    "                             t=data.T)"
   ]
  },
  {
   "cell_type": "code",
   "execution_count": 58,
   "metadata": {},
   "outputs": [
    {
     "name": "stdout",
     "output_type": "stream",
     "text": [
      "tau[N51133RL0_6450_0000,S]: 7\n",
      "tau[N51133RL0_6450_0000,P]: 7\n",
      "tau[N51133RL0_6450_0000,N]: 7\n"
     ]
    }
   ],
   "source": [
    "for l in mdl.LRSEGS:\n",
    "    for p in mdl.PLTNTS:\n",
    "        print('%s: %d' % (mdl.tau[l,p], mdl.tau[l,p].value))"
   ]
  },
  {
   "cell_type": "code",
   "execution_count": 59,
   "metadata": {},
   "outputs": [
    {
     "name": "stdout",
     "output_type": "stream",
     "text": [
      "MINOS 5.51Objective is:\n",
      "842698.0544321468\n"
     ]
    }
   ],
   "source": [
    "solver = SolverFactory(\"minos\")\n",
    "results = solver.solve(mdl, tee=True, symbolic_solver_labels=True)\n",
    "\n",
    "print('Objective is:')\n",
    "print(mdl.Total_Cost())\n",
    "\n",
    "# print(results)"
   ]
  },
  {
   "cell_type": "code",
   "execution_count": 60,
   "metadata": {},
   "outputs": [
    {
     "name": "stdout",
     "output_type": "stream",
     "text": [
      "TargetPercentReduction[N51133RL0_6450_0000,S]: 45\n",
      "TargetPercentReduction[N51133RL0_6450_0000,P]: 7\n",
      "TargetPercentReduction[N51133RL0_6450_0000,N]: 7\n"
     ]
    }
   ],
   "source": [
    "for l in mdl.LRSEGS:\n",
    "    for p in mdl.PLTNTS:\n",
    "        print('%s: %d' % (mdl.TargetPercentReduction[l,p], oe.value(mdl.TargetPercentReduction[l,p].body)))"
   ]
  },
  {
   "cell_type": "code",
   "execution_count": 32,
   "metadata": {},
   "outputs": [],
   "source": [
    "# Extract just the nonzero optimal variable values\n",
    "tol = 1e-6\n",
    "nzvarnames = []\n",
    "nzvarvalus = []\n",
    "for k in mdl.x.keys():\n",
    "    if (not not mdl.x[k].value):\n",
    "        if abs(mdl.x[k].value)>tol:\n",
    "            nzvarnames.append(mdl.x[k].getname())\n",
    "            nzvarvalus.append(mdl.x[k].value)\n",
    "            \n",
    "# Repeat the same thing, but make a DataFrame\n",
    "nonzerokeyvals_df = pd.DataFrame([[k, mdl.x[k].value]\n",
    "                                  for k in mdl.x.keys()\n",
    "                                  if (not not mdl.x[k].value) \n",
    "                                  if abs(mdl.x[k].value)>tol],\n",
    "                                 columns=['key', 'value'])\n",
    "# display(nonzerokeyvals_df.head(2))\n",
    "\n",
    "nonzerodf = pd.DataFrame.from_dict([{'bmpshortname':x[0],\n",
    "                                     'landriversegment':x[1],\n",
    "                                     'loadsource': x[2],\n",
    "                                     'acres': y}\n",
    "                                    for x, y in zip(nonzerokeyvals_df.key, nonzerokeyvals_df.value)])\n",
    "# display(nonzerodf.head(2))"
   ]
  },
  {
   "cell_type": "code",
   "execution_count": 33,
   "metadata": {},
   "outputs": [],
   "source": [
    "# # Other ways to access the optimal values:\n",
    "# mdl.x['HRTill', 'N51133RL0_6450_0000', 'oac'].value\n",
    "#\n",
    "# tol = 1e-6\n",
    "# for b in mdl.BMPS:\n",
    "#     for lmbda in mdl.LOADSRCS:\n",
    "#         bval = mdl.x[b, 'N51133RL0_6450_0000', lmbda].value\n",
    "#         if not not bval:\n",
    "#             if abs(bval)>tol:\n",
    "#                 print('(%s, %s): %d' % (b, lmbda, bval))"
   ]
  },
  {
   "cell_type": "code",
   "execution_count": 34,
   "metadata": {},
   "outputs": [
    {
     "name": "stdout",
     "output_type": "stream",
     "text": [
      "Populating the interactive namespace from numpy and matplotlib\n"
     ]
    },
    {
     "name": "stderr",
     "output_type": "stream",
     "text": [
      "/Users/Danny/anaconda3/envs/jupytering/lib/python3.6/site-packages/IPython/core/magics/pylab.py:160: UserWarning: pylab import has clobbered these variables: ['datetime']\n",
      "`%matplotlib` prevents importing * from pylab and numpy\n",
      "  \"\\n`%matplotlib` prevents importing * from pylab and numpy\"\n"
     ]
    }
   ],
   "source": [
    "%pylab inline"
   ]
  },
  {
   "cell_type": "code",
   "execution_count": 35,
   "metadata": {},
   "outputs": [],
   "source": [
    "# from matplotlib import pyplot as plt\n",
    "# # barh(range(len(res)),res.values(), align='center')\n",
    "# fig = plt.figure(figsize=(10, 4))\n",
    "# rects = plt.barh(y=nzvarnames, width=nzvarvalus)\n",
    "# ax = plt.gca()\n",
    "# # ax.tick_params(axis='x', colors='white')"
   ]
  },
  {
   "cell_type": "code",
   "execution_count": 36,
   "metadata": {},
   "outputs": [
    {
     "data": {
      "text/html": [
       "<div>\n",
       "<style scoped>\n",
       "    .dataframe tbody tr th:only-of-type {\n",
       "        vertical-align: middle;\n",
       "    }\n",
       "\n",
       "    .dataframe tbody tr th {\n",
       "        vertical-align: top;\n",
       "    }\n",
       "\n",
       "    .dataframe thead th {\n",
       "        text-align: right;\n",
       "    }\n",
       "</style>\n",
       "<table border=\"1\" class=\"dataframe\">\n",
       "  <thead>\n",
       "    <tr style=\"text-align: right;\">\n",
       "      <th></th>\n",
       "      <th>acres</th>\n",
       "      <th>bmpshortname</th>\n",
       "      <th>landriversegment</th>\n",
       "      <th>loadsource</th>\n",
       "      <th>totalannualizedcostperunit</th>\n",
       "    </tr>\n",
       "  </thead>\n",
       "  <tbody>\n",
       "    <tr>\n",
       "      <th>0</th>\n",
       "      <td>18.467817</td>\n",
       "      <td>HRTill</td>\n",
       "      <td>N51133RL0_6450_0000</td>\n",
       "      <td>scl</td>\n",
       "      <td>0.0</td>\n",
       "    </tr>\n",
       "    <tr>\n",
       "      <th>1</th>\n",
       "      <td>149.786346</td>\n",
       "      <td>HRTill</td>\n",
       "      <td>N51133RL0_6450_0000</td>\n",
       "      <td>sgg</td>\n",
       "      <td>0.0</td>\n",
       "    </tr>\n",
       "  </tbody>\n",
       "</table>\n",
       "</div>"
      ],
      "text/plain": [
       "        acres bmpshortname     landriversegment loadsource  \\\n",
       "0   18.467817       HRTill  N51133RL0_6450_0000        scl   \n",
       "1  149.786346       HRTill  N51133RL0_6450_0000        sgg   \n",
       "\n",
       "   totalannualizedcostperunit  \n",
       "0                         0.0  \n",
       "1                         0.0  "
      ]
     },
     "metadata": {},
     "output_type": "display_data"
    },
    {
     "data": {
      "text/html": [
       "<div>\n",
       "<style scoped>\n",
       "    .dataframe tbody tr th:only-of-type {\n",
       "        vertical-align: middle;\n",
       "    }\n",
       "\n",
       "    .dataframe tbody tr th {\n",
       "        vertical-align: top;\n",
       "    }\n",
       "\n",
       "    .dataframe thead th {\n",
       "        text-align: right;\n",
       "    }\n",
       "</style>\n",
       "<table border=\"1\" class=\"dataframe\">\n",
       "  <thead>\n",
       "    <tr style=\"text-align: right;\">\n",
       "      <th></th>\n",
       "      <th>acres</th>\n",
       "      <th>bmpshortname</th>\n",
       "      <th>landriversegment</th>\n",
       "      <th>loadsource</th>\n",
       "      <th>totalannualizedcostperunit</th>\n",
       "      <th>totalinstancecost</th>\n",
       "    </tr>\n",
       "  </thead>\n",
       "  <tbody>\n",
       "    <tr>\n",
       "      <th>0</th>\n",
       "      <td>18.467817</td>\n",
       "      <td>HRTill</td>\n",
       "      <td>N51133RL0_6450_0000</td>\n",
       "      <td>scl</td>\n",
       "      <td>0.0</td>\n",
       "      <td>0.0</td>\n",
       "    </tr>\n",
       "    <tr>\n",
       "      <th>1</th>\n",
       "      <td>149.786346</td>\n",
       "      <td>HRTill</td>\n",
       "      <td>N51133RL0_6450_0000</td>\n",
       "      <td>sgg</td>\n",
       "      <td>0.0</td>\n",
       "      <td>0.0</td>\n",
       "    </tr>\n",
       "  </tbody>\n",
       "</table>\n",
       "</div>"
      ],
      "text/plain": [
       "        acres bmpshortname     landriversegment loadsource  \\\n",
       "0   18.467817       HRTill  N51133RL0_6450_0000        scl   \n",
       "1  149.786346       HRTill  N51133RL0_6450_0000        sgg   \n",
       "\n",
       "   totalannualizedcostperunit  totalinstancecost  \n",
       "0                         0.0                0.0  \n",
       "1                         0.0                0.0  "
      ]
     },
     "metadata": {},
     "output_type": "display_data"
    }
   ],
   "source": [
    "# add cost/unit data to results table\n",
    "costsubtbl = data.costsubtbl\n",
    "# Retain only those costs pertaining to bmps in our set\n",
    "includecols = ['totalannualizedcostperunit', 'bmpshortname']\n",
    "nonzerodf = nonzerodf.merge(costsubtbl.loc[:,includecols])\n",
    "display(nonzerodf.head(2))\n",
    "\n",
    "# Add total cost of each BMP to results table for this instance\n",
    "nonzerodf['totalinstancecost'] = np.multiply(nonzerodf['totalannualizedcostperunit'].values,\n",
    "                                             nonzerodf['acres'].values)\n",
    "display(nonzerodf.head(2))\n",
    "coststrs = [str(x) for x in zip(list(nonzerodf['totalannualizedcostperunit']),\n",
    "                                list(nonzerodf['totalinstancecost']))]\n",
    "# display(coststrs)"
   ]
  },
  {
   "cell_type": "code",
   "execution_count": 39,
   "metadata": {},
   "outputs": [
    {
     "data": {
      "image/png": "[encoded data removed]",
      "text/plain": [
       "<Figure size 720x288 with 1 Axes>"
      ]
     },
     "metadata": {},
     "output_type": "display_data"
    }
   ],
   "source": [
    "from datetime import datetime\n",
    "keystrs = [str([x, y]) for x, y in zip(nonzerodf['bmpshortname'], nonzerodf['loadsource'])]\n",
    "\n",
    "# Make Figure\n",
    "fig = plt.figure(figsize=(10, 4))\n",
    "rects = plt.barh(y=keystrs, width=nonzerodf['acres'])\n",
    "ax = plt.gca()\n",
    "\n",
    "for rect, label in zip(rects, coststrs):\n",
    "    width = rect.get_width()\n",
    "    plt.text(width + 0.1, rect.get_y() + rect.get_height() / 2, label,\n",
    "            ha='left', va='center')\n",
    "\n",
    "objstr = ''.join(['Objective is: ', str(mdl.Total_Cost())])\n",
    "labelstr = 'labels are (cost per unit, total bmp instance cost)'\n",
    "plt.title('\\n'.join([objstr, labelstr]))\n",
    "\n",
    "ax.set_position([0.3,0.1,0.5,0.8])\n",
    "#plt.tight_layout()\n",
    "\n",
    "\n",
    "#plt.savefig(os.path.join(projectpath,''.join(['output/tau19N19P19S_minos_', datetime.now().strftime('%Y-%m-%d_%H%M%S'),'.png'])))"
   ]
  },
  {
   "cell_type": "code",
   "execution_count": null,
   "metadata": {},
   "outputs": [],
   "source": []
  }
 ],
 "metadata": {
  "kernelspec": {
   "display_name": "Python 3",
   "language": "python",
   "name": "python3"
  },
  "language_info": {
   "codemirror_mode": {
    "name": "ipython",
    "version": 3
   },
   "file_extension": ".py",
   "mimetype": "text/x-python",
   "name": "python",
   "nbconvert_exporter": "python",
   "pygments_lexer": "ipython3",
   "version": "3.6.6"
  }
 },
 "nbformat": 4,
 "nbformat_minor": 2
}
