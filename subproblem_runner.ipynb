{
 "cells": [
  {
   "cell_type": "code",
   "execution_count": 1,
   "metadata": {},
   "outputs": [],
   "source": [
    "import pyomo.environ as oe\n",
    "import pandas as pd\n",
    "from pyomo.opt import SolverFactory\n",
    "from subproblem_model import build_subproblem_model\n",
    "from subproblem_dataloader import DataLoader"
   ]
  },
  {
   "cell_type": "code",
   "execution_count": 2,
   "metadata": {},
   "outputs": [],
   "source": [
    "data = DataLoader()"
   ]
  },
  {
   "cell_type": "code",
   "execution_count": 3,
   "metadata": {},
   "outputs": [],
   "source": [
    "#display(data.BMPGRPING)\n",
    "#display(data.BMPGRPING)"
   ]
  },
  {
   "cell_type": "code",
   "execution_count": 4,
   "metadata": {},
   "outputs": [],
   "source": [
    "# Note that there is no need to call create_instance on a ConcreteModel\n",
    "mdl = build_subproblem_model(pltnts=data.PLTNTS,\n",
    "                             lrsegs=data.LRSEGS,\n",
    "                             bmps=data.BMPS,\n",
    "                             bmpgrps=data.BMPGRPS,\n",
    "                             bmpgrping=data.BMPGRPING,\n",
    "                             loadsrcs=data.LOADSRCS,\n",
    "                             bmpsrclinks=data.BMPSRCLINKS,\n",
    "                             bmpgrpsrclinks=data.BMPGRPSRCLINKS,\n",
    "                             c=data.c,\n",
    "                             e=data.E,\n",
    "                             tau=data.tau,\n",
    "                             phi=data.phi,\n",
    "                             t=data.T)"
   ]
  },
  {
   "cell_type": "code",
   "execution_count": 29,
   "metadata": {},
   "outputs": [
    {
     "name": "stdout",
     "output_type": "stream",
     "text": [
      "MINOS 5.51Objective is:\n",
      "842698.0542672966\n",
      "\n",
      "Problem: \n",
      "- Lower bound: -inf\n",
      "  Upper bound: inf\n",
      "  Number of objectives: 1\n",
      "  Number of constraints: 1110\n",
      "  Number of variables: 1339\n",
      "  Sense: unknown\n",
      "Solver: \n",
      "- Status: ok\n",
      "  Message: MINOS 5.51\\x3a optimal solution found.; 34 iterations, objective 842698.0542633871; Nonlin evals\\x3a constrs = 39, Jac = 38.\n",
      "  Termination condition: optimal\n",
      "  Id: 0\n",
      "  Error rc: 0\n",
      "  Time: 0.05178189277648926\n",
      "Solution: \n",
      "- number of solutions: 0\n",
      "  number of solutions displayed: 0\n",
      "\n"
     ]
    }
   ],
   "source": [
    "solver = SolverFactory(\"minos\")\n",
    "results = solver.solve(mdl, tee=True, symbolic_solver_labels=True)\n",
    "\n",
    "print('Objective is:')\n",
    "print(mdl.Total_Cost())\n",
    "\n",
    "# instance.solutions.store_to(results)\n",
    "print(results)"
   ]
  },
  {
   "cell_type": "code",
   "execution_count": 62,
   "metadata": {},
   "outputs": [
    {
     "data": {
      "text/html": [
       "<div>\n",
       "<style scoped>\n",
       "    .dataframe tbody tr th:only-of-type {\n",
       "        vertical-align: middle;\n",
       "    }\n",
       "\n",
       "    .dataframe tbody tr th {\n",
       "        vertical-align: top;\n",
       "    }\n",
       "\n",
       "    .dataframe thead th {\n",
       "        text-align: right;\n",
       "    }\n",
       "</style>\n",
       "<table border=\"1\" class=\"dataframe\">\n",
       "  <thead>\n",
       "    <tr style=\"text-align: right;\">\n",
       "      <th></th>\n",
       "      <th>key</th>\n",
       "      <th>value</th>\n",
       "    </tr>\n",
       "  </thead>\n",
       "  <tbody>\n",
       "    <tr>\n",
       "      <th>0</th>\n",
       "      <td>(DitchFilter, N51133RL0_6450_0000, pas)</td>\n",
       "      <td>423.264709</td>\n",
       "    </tr>\n",
       "    <tr>\n",
       "      <th>1</th>\n",
       "      <td>(IncorpLowEarly, N51133RL0_6450_0000, dbl)</td>\n",
       "      <td>3524.195312</td>\n",
       "    </tr>\n",
       "  </tbody>\n",
       "</table>\n",
       "</div>"
      ],
      "text/plain": [
       "                                          key        value\n",
       "0     (DitchFilter, N51133RL0_6450_0000, pas)   423.264709\n",
       "1  (IncorpLowEarly, N51133RL0_6450_0000, dbl)  3524.195312"
      ]
     },
     "metadata": {},
     "output_type": "display_data"
    },
    {
     "data": {
      "text/html": [
       "<div>\n",
       "<style scoped>\n",
       "    .dataframe tbody tr th:only-of-type {\n",
       "        vertical-align: middle;\n",
       "    }\n",
       "\n",
       "    .dataframe tbody tr th {\n",
       "        vertical-align: top;\n",
       "    }\n",
       "\n",
       "    .dataframe thead th {\n",
       "        text-align: right;\n",
       "    }\n",
       "</style>\n",
       "<table border=\"1\" class=\"dataframe\">\n",
       "  <thead>\n",
       "    <tr style=\"text-align: right;\">\n",
       "      <th></th>\n",
       "      <th>acres</th>\n",
       "      <th>bmpshortname</th>\n",
       "      <th>landriversegment</th>\n",
       "      <th>loadsource</th>\n",
       "    </tr>\n",
       "  </thead>\n",
       "  <tbody>\n",
       "    <tr>\n",
       "      <th>0</th>\n",
       "      <td>423.264709</td>\n",
       "      <td>DitchFilter</td>\n",
       "      <td>N51133RL0_6450_0000</td>\n",
       "      <td>pas</td>\n",
       "    </tr>\n",
       "    <tr>\n",
       "      <th>1</th>\n",
       "      <td>3524.195312</td>\n",
       "      <td>IncorpLowEarly</td>\n",
       "      <td>N51133RL0_6450_0000</td>\n",
       "      <td>dbl</td>\n",
       "    </tr>\n",
       "  </tbody>\n",
       "</table>\n",
       "</div>"
      ],
      "text/plain": [
       "         acres    bmpshortname     landriversegment loadsource\n",
       "0   423.264709     DitchFilter  N51133RL0_6450_0000        pas\n",
       "1  3524.195312  IncorpLowEarly  N51133RL0_6450_0000        dbl"
      ]
     },
     "metadata": {},
     "output_type": "display_data"
    }
   ],
   "source": [
    "# Extract just the nonzero optimal variable values\n",
    "tol = 1e-6\n",
    "nzvarnames = []\n",
    "nzvarvalus = []\n",
    "for k in mdl.x.keys():\n",
    "    if (not not mdl.x[k].value):\n",
    "        if abs(mdl.x[k].value)>tol:\n",
    "            nzvarnames.append(mdl.x[k].getname())\n",
    "            nzvarvalus.append(mdl.x[k].value)\n",
    "            \n",
    "# Repeat the same thing, but make a DataFrame\n",
    "nonzerokeyvals_df = pd.DataFrame([[k, mdl.x[k].value]\n",
    "                                  for k in mdl.x.keys()\n",
    "                                  if (not not mdl.x[k].value) \n",
    "                                  if abs(mdl.x[k].value)>tol],\n",
    "                                 columns=['key', 'value'])\n",
    "display(nonzerokeyvals_df.head(2))\n",
    "\n",
    "nonzerodf = pd.DataFrame.from_dict([{'bmpshortname':x[0],\n",
    "                                     'landriversegment':x[1],\n",
    "                                     'loadsource': x[2],\n",
    "                                     'acres': y}\n",
    "                                    for x, y in zip(nonzerokeyvals_df.key, nonzerokeyvals_df.value)])\n",
    "display(nonzerodf.head(2))"
   ]
  },
  {
   "cell_type": "code",
   "execution_count": 7,
   "metadata": {},
   "outputs": [
    {
     "data": {
      "text/plain": [
       "259.9378662109375"
      ]
     },
     "execution_count": 7,
     "metadata": {},
     "output_type": "execute_result"
    }
   ],
   "source": [
    "mdl.x['HRTill', 'N51133RL0_6450_0000', 'oac'].value"
   ]
  },
  {
   "cell_type": "code",
   "execution_count": 8,
   "metadata": {},
   "outputs": [
    {
     "name": "stdout",
     "output_type": "stream",
     "text": [
      "(DitchFilter, pas): 423\n",
      "(IncorpLowEarly, dbl): 3524\n",
      "(CoverCropTradRED, gom): 782\n",
      "(ConPlan, pas): 423\n",
      "(HRTill, oac): 259\n",
      "(HRTill, gom): 3629\n",
      "(HRTill, scl): 18\n",
      "(HRTill, sch): 13\n",
      "(HRTill, soy): 1631\n",
      "(HRTill, gwm): 796\n",
      "(HRTill, sgg): 149\n",
      "(HRTill, dbl): 3524\n",
      "(UrbanNMPlanHR, ntg): 2834\n",
      "(UrbanNMPlanHR, mcn): 32\n",
      "(UrbanNMPlanHR, nch): 2023\n",
      "(WetPondWetland, ntg): 1914\n"
     ]
    }
   ],
   "source": [
    "tol = 1e-6\n",
    "for b in mdl.BMPS:\n",
    "    for lmbda in mdl.LOADSRCS:\n",
    "        bval = mdl.x[b, 'N51133RL0_6450_0000', lmbda].value\n",
    "        if not not bval:\n",
    "            if abs(bval)>tol:\n",
    "                print('(%s, %s): %d' % (b, lmbda, bval))"
   ]
  },
  {
   "cell_type": "code",
   "execution_count": 15,
   "metadata": {},
   "outputs": [
    {
     "name": "stdout",
     "output_type": "stream",
     "text": [
      "Populating the interactive namespace from numpy and matplotlib\n"
     ]
    }
   ],
   "source": [
    "%pylab inline"
   ]
  },
  {
   "cell_type": "code",
   "execution_count": 63,
   "metadata": {},
   "outputs": [
    {
     "data": {
      "image/png": "[encoded data removed]",
      "text/plain": [
       "<Figure size 720x288 with 1 Axes>"
      ]
     },
     "metadata": {},
     "output_type": "display_data"
    }
   ],
   "source": [
    "from matplotlib import pyplot as plt\n",
    "# barh(range(len(res)),res.values(), align='center')\n",
    "fig = plt.figure(figsize=(10, 4))\n",
    "rects = plt.barh(y=nzvarnames, width=nzvarvalus)\n",
    "ax = plt.gca()\n",
    "# ax.tick_params(axis='x', colors='white')"
   ]
  },
  {
   "cell_type": "code",
   "execution_count": 64,
   "metadata": {},
   "outputs": [
    {
     "data": {
      "text/html": [
       "<div>\n",
       "<style scoped>\n",
       "    .dataframe tbody tr th:only-of-type {\n",
       "        vertical-align: middle;\n",
       "    }\n",
       "\n",
       "    .dataframe tbody tr th {\n",
       "        vertical-align: top;\n",
       "    }\n",
       "\n",
       "    .dataframe thead th {\n",
       "        text-align: right;\n",
       "    }\n",
       "</style>\n",
       "<table border=\"1\" class=\"dataframe\">\n",
       "  <thead>\n",
       "    <tr style=\"text-align: right;\">\n",
       "      <th></th>\n",
       "      <th>acres</th>\n",
       "      <th>bmpshortname</th>\n",
       "      <th>landriversegment</th>\n",
       "      <th>loadsource</th>\n",
       "      <th>totalannualizedcostperunit</th>\n",
       "    </tr>\n",
       "  </thead>\n",
       "  <tbody>\n",
       "    <tr>\n",
       "      <th>0</th>\n",
       "      <td>423.264709</td>\n",
       "      <td>DitchFilter</td>\n",
       "      <td>N51133RL0_6450_0000</td>\n",
       "      <td>pas</td>\n",
       "      <td>10.05</td>\n",
       "    </tr>\n",
       "    <tr>\n",
       "      <th>1</th>\n",
       "      <td>3524.195312</td>\n",
       "      <td>IncorpLowEarly</td>\n",
       "      <td>N51133RL0_6450_0000</td>\n",
       "      <td>dbl</td>\n",
       "      <td>17.34</td>\n",
       "    </tr>\n",
       "  </tbody>\n",
       "</table>\n",
       "</div>"
      ],
      "text/plain": [
       "         acres    bmpshortname     landriversegment loadsource  \\\n",
       "0   423.264709     DitchFilter  N51133RL0_6450_0000        pas   \n",
       "1  3524.195312  IncorpLowEarly  N51133RL0_6450_0000        dbl   \n",
       "\n",
       "   totalannualizedcostperunit  \n",
       "0                       10.05  \n",
       "1                       17.34  "
      ]
     },
     "metadata": {},
     "output_type": "display_data"
    },
    {
     "data": {
      "text/html": [
       "<div>\n",
       "<style scoped>\n",
       "    .dataframe tbody tr th:only-of-type {\n",
       "        vertical-align: middle;\n",
       "    }\n",
       "\n",
       "    .dataframe tbody tr th {\n",
       "        vertical-align: top;\n",
       "    }\n",
       "\n",
       "    .dataframe thead th {\n",
       "        text-align: right;\n",
       "    }\n",
       "</style>\n",
       "<table border=\"1\" class=\"dataframe\">\n",
       "  <thead>\n",
       "    <tr style=\"text-align: right;\">\n",
       "      <th></th>\n",
       "      <th>acres</th>\n",
       "      <th>bmpshortname</th>\n",
       "      <th>landriversegment</th>\n",
       "      <th>loadsource</th>\n",
       "      <th>totalannualizedcostperunit</th>\n",
       "      <th>totalinstancecost</th>\n",
       "    </tr>\n",
       "  </thead>\n",
       "  <tbody>\n",
       "    <tr>\n",
       "      <th>0</th>\n",
       "      <td>423.264709</td>\n",
       "      <td>DitchFilter</td>\n",
       "      <td>N51133RL0_6450_0000</td>\n",
       "      <td>pas</td>\n",
       "      <td>10.05</td>\n",
       "      <td>4253.810330</td>\n",
       "    </tr>\n",
       "    <tr>\n",
       "      <th>1</th>\n",
       "      <td>3524.195312</td>\n",
       "      <td>IncorpLowEarly</td>\n",
       "      <td>N51133RL0_6450_0000</td>\n",
       "      <td>dbl</td>\n",
       "      <td>17.34</td>\n",
       "      <td>61109.546719</td>\n",
       "    </tr>\n",
       "  </tbody>\n",
       "</table>\n",
       "</div>"
      ],
      "text/plain": [
       "         acres    bmpshortname     landriversegment loadsource  \\\n",
       "0   423.264709     DitchFilter  N51133RL0_6450_0000        pas   \n",
       "1  3524.195312  IncorpLowEarly  N51133RL0_6450_0000        dbl   \n",
       "\n",
       "   totalannualizedcostperunit  totalinstancecost  \n",
       "0                       10.05        4253.810330  \n",
       "1                       17.34       61109.546719  "
      ]
     },
     "metadata": {},
     "output_type": "display_data"
    },
    {
     "data": {
      "text/plain": [
       "['(10.05, 4253.8103302001955)',\n",
       " '(17.34, 61109.546718749996)',\n",
       " '(68.94, 53928.91728647074)',\n",
       " '(1.94, 821.1335363769531)',\n",
       " '(0.0, 0.0)',\n",
       " '(0.0, 0.0)',\n",
       " '(0.0, 0.0)',\n",
       " '(0.0, 0.0)',\n",
       " '(0.0, 0.0)',\n",
       " '(0.0, 0.0)',\n",
       " '(0.0, 0.0)',\n",
       " '(0.0, 0.0)',\n",
       " '(0.0, 0.0)',\n",
       " '(0.0, 0.0)',\n",
       " '(0.0, 0.0)',\n",
       " '(377.47, 722584.6463954985)']"
      ]
     },
     "metadata": {},
     "output_type": "display_data"
    }
   ],
   "source": [
    "# add cost/unit data to results table\n",
    "costsubtbl = data.costsubtbl\n",
    "# Retain only those costs pertaining to bmps in our set\n",
    "includecols = ['totalannualizedcostperunit', 'bmpshortname']\n",
    "nonzerodf = nonzerodf.merge(costsubtbl.loc[:,includecols])\n",
    "display(nonzerodf.head(2))\n",
    "\n",
    "# Add total cost of each BMP to results table for this instance\n",
    "nonzerodf['totalinstancecost'] = np.multiply(nonzerodf['totalannualizedcostperunit'].values,\n",
    "                                             nonzerodf['acres'].values)\n",
    "display(nonzerodf.head(2))\n",
    "coststrs = [str(x) for x in zip(list(nonzerodf['totalannualizedcostperunit']),\n",
    "                                list(nonzerodf['totalinstancecost']))]\n",
    "display(coststrs)"
   ]
  },
  {
   "cell_type": "code",
   "execution_count": 67,
   "metadata": {},
   "outputs": [
    {
     "data": {
      "text/plain": [
       "{('N51133RL0_6450_0000', 'N'): 7,\n",
       " ('N51133RL0_6450_0000', 'P'): 7,\n",
       " ('N51133RL0_6450_0000', 'S'): 7}"
      ]
     },
     "execution_count": 67,
     "metadata": {},
     "output_type": "execute_result"
    }
   ],
   "source": [
    "data.tau"
   ]
  },
  {
   "cell_type": "code",
   "execution_count": 66,
   "metadata": {},
   "outputs": [
    {
     "data": {
      "image/png": "[encoded data removed]",
      "text/plain": [
       "<Figure size 720x288 with 1 Axes>"
      ]
     },
     "metadata": {},
     "output_type": "display_data"
    }
   ],
   "source": [
    "from datetime import datetime\n",
    "keystrs = [str([x, y]) for x, y in zip(nonzerodf['bmpshortname'], nonzerodf['loadsource'])]\n",
    "\n",
    "# Make Figure\n",
    "fig = plt.figure(figsize=(10, 4))\n",
    "rects = plt.barh(y=keystrs, width=nonzerodf['acres'])\n",
    "ax = plt.gca()\n",
    "\n",
    "for rect, label in zip(rects, coststrs):\n",
    "    width = rect.get_width()\n",
    "    plt.text(width + 0.1, rect.get_y() + rect.get_height() / 2, label,\n",
    "            ha='left', va='center')\n",
    "\n",
    "objstr = ''.join(['Objective is: ', str(mdl.Total_Cost())])\n",
    "labelstr = 'labels are (cost per unit, total bmp instance cost)'\n",
    "plt.title('\\n'.join([objstr, labelstr]))\n",
    "\n",
    "ax.set_position([0.3,0.1,0.5,0.8])\n",
    "#plt.tight_layout()\n",
    "\n",
    "\n",
    "#plt.savefig(os.path.join(projectpath,''.join(['output/tau19N19P19S_minos_', datetime.now().strftime('%Y-%m-%d_%H%M%S'),'.png'])))"
   ]
  },
  {
   "cell_type": "code",
   "execution_count": null,
   "metadata": {},
   "outputs": [],
   "source": []
  }
 ],
 "metadata": {
  "kernelspec": {
   "display_name": "Python 3",
   "language": "python",
   "name": "python3"
  },
  "language_info": {
   "codemirror_mode": {
    "name": "ipython",
    "version": 3
   },
   "file_extension": ".py",
   "mimetype": "text/x-python",
   "name": "python",
   "nbconvert_exporter": "python",
   "pygments_lexer": "ipython3",
   "version": "3.6.6"
  }
 },
 "nbformat": 4,
 "nbformat_minor": 2
}
