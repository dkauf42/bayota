{
 "cells": [
  {
   "cell_type": "code",
   "execution_count": 1,
   "metadata": {},
   "outputs": [],
   "source": [
    "_project_root = '/Users/Danny/Desktop/CATEGORIES/CAREER_MANAGEMENT/' \\\n",
    "        'CRC_ResearchScientist_Optimization/Optimization_Tool/' \\\n",
    "        '2_ExperimentFolder/bayota/'\n",
    "_package_root = '/Users/Danny/Desktop/CATEGORIES/CAREER_MANAGEMENT/' \\\n",
    "        'CRC_ResearchScientist_Optimization/Optimization_Tool/' \\\n",
    "        '2_ExperimentFolder/bayota/efficiencysubproblem/'\n",
    "import sys\n",
    "if _project_root not in sys.path:\n",
    "    sys.path.append(_project_root)  # allow this notebook to find equal-level directories\n",
    "if _package_root not in sys.path:\n",
    "    sys.path.append(_package_root)  # allow this notebook to find equal-level directories\n",
    "\n",
    "from src.study import Study\n",
    "from src.solver_handling.solvehandler import SolveHandler\n",
    "\n",
    "import pyomo.environ as oe"
   ]
  },
  {
   "cell_type": "code",
   "execution_count": 2,
   "metadata": {},
   "outputs": [
    {
     "name": "stdout",
     "output_type": "stream",
     "text": [
      "DataCountyGeoentitiesMixin._load_set_geographies()\n",
      "DataLoadConstraintAtCountyLevelMixin._load_constraint()\n",
      "DataHandlerBase.init(): LRsegs: ['N42041SL3_2460_2430', 'N42041SL2_2540_2370', 'N42041SL1_2670_2370', 'N42041SL3_2400_2440', 'N42041SL3_2440_2380', 'N42041SL4_2330_2270', 'N42041SL4_2370_2330', 'N42041SL9_2270_2380', 'N42041SL9_2050_2270', 'N42041PU2_2790_3290']\n",
      "ModelCountyGeoentitiesMixin._load_model_geographies()\n",
      "ModelPercentLoadReductionConstraintAtCountyLevelSumMixin._load_model_constraints_other()\n",
      "ModelTotalCostMinObjMixin._load_model_objective()\n",
      "*model instantiation done* <- it took 9.252357 seconds>\n"
     ]
    }
   ],
   "source": [
    "\n",
    "# N51133RL0_6450_0000 = Northumberland County, VA\n",
    "# N24031PM0_4640_4820 = Cabin John Creek, in Montgomery County\n",
    "\n",
    "s = Study(objectivetype='costmin',\n",
    "          geoscale='county', geoentities=['Cumberland, PA'],\n",
    "          baseconstraint=4)"
   ]
  },
  {
   "cell_type": "code",
   "execution_count": null,
   "metadata": {},
   "outputs": [],
   "source": [
    "for k,v in s."
   ]
  },
  {
   "cell_type": "code",
   "execution_count": null,
   "metadata": {},
   "outputs": [],
   "source": [
    "with open('model_pprint_output_20181019.txt', 'w') as f:\n",
    "    f.write(\"My description of the instance!\\n\")\n",
    "    s.modelhandler.model.pprint(ostream=f)"
   ]
  },
  {
   "cell_type": "code",
   "execution_count": 6,
   "metadata": {},
   "outputs": [
    {
     "name": "stdout",
     "output_type": "stream",
     "text": [
      "Solver_Path====/Users/Danny/Desktop/CATEGORIES/CAREER_MANAGEMENT/CRC_ResearchScientist_Optimization/Optimization_Tool/2_ExperimentFolder/ampl/amplide.macosx64/ipopt.opt\n",
      "Ipopt 3.12.8: \n",
      "\n",
      "******************************************************************************\n",
      "This program contains Ipopt, a library for large-scale nonlinear optimization.\n",
      " Ipopt is released as open source code under the Eclipse Public License (EPL).\n",
      "         For more information visit http://projects.coin-or.org/Ipopt\n",
      "******************************************************************************\n",
      "\n",
      "This is Ipopt version 3.12.8, running with linear solver mumps.\n",
      "NOTE: Other linear solvers might be more efficient (see Ipopt documentation).\n",
      "\n",
      "Number of nonzeros in equality constraint Jacobian...:        0\n",
      "Number of nonzeros in inequality constraint Jacobian.:    13390\n",
      "Number of nonzeros in Lagrangian Hessian.............:        0\n",
      "\n",
      "Total number of variables............................:    13390\n",
      "                     variables with only lower bounds:    13390\n",
      "                variables with lower and upper bounds:        0\n",
      "                     variables with only upper bounds:        0\n",
      "Total number of equality constraints.................:        0\n",
      "Total number of inequality constraints...............:    11071\n",
      "        inequality constraints with only lower bounds:        1\n",
      "   inequality constraints with lower and upper bounds:        0\n",
      "        inequality constraints with only upper bounds:    11070\n",
      "\n",
      "iter    objective    inf_pr   inf_du lg(mu)  ||d||  lg(rg) alpha_du alpha_pr  ls\n",
      "   0  1.6347641e+05 4.00e+00 6.34e+01  -1.0 0.00e+00    -  0.00e+00 0.00e+00   0\n",
      "   1  8.4787146e+04 4.00e+00 6.13e+01  -1.0 9.67e+00    -  3.05e-02 9.80e-03f  1\n",
      "   2  8.4689893e+04 4.00e+00 3.72e+03  -1.0 9.76e+00    -  8.96e-02 9.90e-05f  1\n",
      "   3r 8.4689893e+04 4.00e+00 1.00e+03   0.6 0.00e+00    -  0.00e+00 4.95e-07R  2\n",
      "   4r 1.0644007e+05 4.00e+00 9.96e+02   0.6 4.21e+02    -  9.91e-01 3.45e-03f  1\n",
      "   5r 6.5071711e+06 4.00e+00 5.97e+02   0.6 5.16e+01    -  1.00e+00 4.00e-01f  1\n",
      "   6r 7.2865224e+06 4.00e+00 2.81e+02   0.6 2.84e+02    -  1.00e+00 5.39e-01f  1\n",
      "   7r 7.6098198e+06 4.00e+00 4.00e-05   0.6 2.03e+01    -  1.00e+00 1.00e+00f  1\n",
      "   8r 6.6562990e+06 4.00e+00 9.29e+01  -0.8 7.38e+01    -  4.88e-01 3.25e-01f  1\n",
      "   9r 6.4727590e+06 4.00e+00 3.76e+02  -0.8 1.76e+01    -  7.73e-01 2.53e-01f  1\n",
      "iter    objective    inf_pr   inf_du lg(mu)  ||d||  lg(rg) alpha_du alpha_pr  ls\n",
      "  10r 5.8914209e+06 4.00e+00 2.97e+02  -0.8 3.33e+01    -  7.63e-01 4.21e-01f  1\n",
      "  11r 5.5954850e+06 4.00e+00 3.18e+02  -0.8 3.51e+01    -  5.88e-01 1.98e-01f  1\n",
      "  12r 5.1268709e+06 4.00e+00 4.64e+02  -0.8 3.36e+01    -  1.00e+00 3.31e-01f  1\n",
      "  13r 4.7766456e+06 4.00e+00 4.72e+02  -0.8 2.75e+01    -  1.00e+00 3.05e-01f  1\n",
      "  14r 4.3303350e+06 4.00e+00 2.73e+02  -0.8 2.01e+01    -  1.00e+00 5.41e-01f  1\n",
      "  15r 4.1221671e+06 4.00e+00 1.40e+02  -0.8 9.34e+00    -  1.00e+00 5.44e-01f  1\n",
      "  16r 4.0136215e+06 4.00e+00 1.38e+02  -0.8 4.27e+00    -  1.00e+00 6.22e-01f  1\n",
      "  17r 3.9477215e+06 4.00e+00 1.60e-06  -0.8 1.61e+00    -  1.00e+00 1.00e+00f  1\n",
      "  18r 3.3985873e+06 4.00e+00 5.82e+01  -3.4 3.21e+01    -  4.38e-01 3.40e-01f  1\n",
      "  19r 3.3403017e+06 4.00e+00 2.34e+02  -3.4 2.61e+00    -  8.71e-01 4.13e-01f  1\n",
      "iter    objective    inf_pr   inf_du lg(mu)  ||d||  lg(rg) alpha_du alpha_pr  ls\n",
      "  20r 3.3017802e+06 4.00e+00 4.98e+02  -3.4 1.15e+01    -  5.73e-01 6.00e-02f  1\n",
      "  21r 2.6135703e+06 4.00e+00 6.48e+01  -3.4 1.67e+01    -  4.92e-01 7.18e-01f  1\n",
      "  22r 2.0129326e+06 4.00e+00 1.63e+02  -3.4 1.29e+01    -  4.23e-01 7.79e-01f  1\n",
      "  23r 1.4982087e+06 4.00e+00 1.76e+02  -3.4 8.74e+00    -  2.72e-01 1.00e+00f  1\n",
      "  24r 1.2616195e+06 4.00e+00 9.88e+01  -3.4 5.06e+00    -  4.20e-01 1.00e+00f  1\n",
      "  25r 1.1419787e+06 4.00e+00 9.99e+00  -3.4 4.40e+00    -  8.98e-01 1.00e+00f  1\n",
      "  26r 1.0825412e+06 4.00e+00 4.33e-09  -3.4 2.73e+00    -  1.00e+00 1.00e+00f  1\n",
      "  27r 5.9564073e+05 4.00e+00 6.00e+00  -5.0 7.23e+00    -  2.24e-01 9.98e-01f  1\n",
      "  28r 5.9067877e+05 4.00e+00 4.45e+02  -5.0 8.48e-01    -  7.28e-01 2.50e-01f  3\n",
      "  29r 5.3949566e+05 4.00e+00 1.15e+02  -5.0 2.48e+00    -  7.45e-01 1.00e+00f  1\n",
      "iter    objective    inf_pr   inf_du lg(mu)  ||d||  lg(rg) alpha_du alpha_pr  ls\n",
      "  30r 4.7409383e+05 4.00e+00 3.00e+01  -5.0 2.08e+00    -  8.22e-01 1.00e+00f  1\n",
      "  31r 4.4055886e+05 4.00e+00 9.05e-11  -5.0 1.09e+00    -  1.00e+00 1.00e+00f  1\n",
      "  32r 3.9782078e+05 4.00e+00 1.81e+02  -7.6 2.85e+00    -  5.17e-01 2.08e-01f  1\n",
      "  33r 3.8708220e+05 4.00e+00 2.82e+02  -7.6 3.35e-01    -  8.25e-01 4.79e-01f  1\n",
      "  34r 3.2846190e+05 4.00e+00 5.51e+01  -7.6 1.11e+00    -  6.57e-01 7.68e-01f  1\n",
      "  35r 2.4108845e+05 4.00e+00 6.58e+01  -7.6 1.27e+00    -  5.14e-01 9.52e-01f  1\n",
      "  36r 1.7902511e+05 4.00e+00 4.65e+00  -7.6 8.26e-01    -  9.29e-01 1.00e+00f  1\n",
      "\n",
      "Number of Iterations....: 36\n",
      "\n",
      "                                   (scaled)                 (unscaled)\n",
      "Objective...............:   9.3318587864438859e+02    1.3264322742768913e+05\n",
      "Dual infeasibility......:   1.0000000063166185e+02    1.4214020089784541e+04\n",
      "Constraint violation....:   3.9999999599999998e+00    3.9999999599999998e+00\n",
      "Complementarity.........:   3.6515969543608422e-08    5.1903872141224097e-06\n",
      "Overall NLP error.......:   1.0000000063166185e+02    1.4214020089784541e+04\n",
      "\n",
      "\n",
      "Number of objective function evaluations             = 42\n",
      "Number of objective gradient evaluations             = 5\n",
      "Number of equality constraint evaluations            = 0\n",
      "Number of inequality constraint evaluations          = 42\n",
      "Number of equality constraint Jacobian evaluations   = 0\n",
      "Number of inequality constraint Jacobian evaluations = 39\n",
      "Number of Lagrangian Hessian evaluations             = 37\n",
      "Total CPU secs in IPOPT (w/o function evaluations)   =      1.334\n",
      "Total CPU secs in NLP function evaluations           =      0.017\n",
      "\n",
      "EXIT: Converged to a point of local infeasibility. Problem may be infeasible.\n",
      "WARNING: Loading a SolverResults object with a warning status into\n",
      "    model=unknown;\n",
      "        message from solver=Ipopt 3.12.8\\x3a Converged to a locally infeasible\n",
      "        point. Problem may be infeasible.\n",
      "Study._solve_problem_instance(): solution is infeasible\n",
      "infeasible.log_infeasible_constraints(): in the method\n",
      "ERROR: evaluating object as numeric value: -\n",
      "    x[ConPlan,N42041SL3_2400_2440,nci]\n",
      "        (object: <class 'pyomo.core.expr.expr_pyomo5.MonomialTermExpression'>)\n",
      "    No value for uninitialized NumericValue object\n",
      "    x[ConPlan,N42041SL3_2400_2440,nci]\n"
     ]
    },
    {
     "ename": "ValueError",
     "evalue": "No value for uninitialized NumericValue object x[ConPlan,N42041SL3_2400_2440,nci]",
     "output_type": "error",
     "traceback": [
      "\u001b[0;31m---------------------------------------------------------------------------\u001b[0m",
      "\u001b[0;31mValueError\u001b[0m                                Traceback (most recent call last)",
      "\u001b[0;32m<ipython-input-6-71e7e2cff7c8>\u001b[0m in \u001b[0;36m<module>\u001b[0;34m()\u001b[0m\n\u001b[1;32m      3\u001b[0m \u001b[0mmdf\u001b[0m\u001b[0;34m,\u001b[0m\u001b[0;34m\u001b[0m\u001b[0m\n\u001b[1;32m      4\u001b[0m \u001b[0msolution_objective\u001b[0m\u001b[0;34m,\u001b[0m\u001b[0;34m\u001b[0m\u001b[0m\n\u001b[0;32m----> 5\u001b[0;31m feasible_solution) = s.go(5)\n\u001b[0m",
      "\u001b[0;32m~/Desktop/CATEGORIES/CAREER_MANAGEMENT/CRC_ResearchScientist_Optimization/Optimization_Tool/2_ExperimentFolder/bayota/efficiencysubproblem/src/study.py\u001b[0m in \u001b[0;36mgo\u001b[0;34m(self, fileprintlevel)\u001b[0m\n\u001b[1;32m    159\u001b[0m         \u001b[0;32mif\u001b[0m \u001b[0mself\u001b[0m\u001b[0;34m.\u001b[0m\u001b[0mobjectivetype\u001b[0m \u001b[0;34m==\u001b[0m \u001b[0;34m'costmin'\u001b[0m\u001b[0;34m:\u001b[0m\u001b[0;34m\u001b[0m\u001b[0m\n\u001b[1;32m    160\u001b[0m             solver_output_filepath, merged_df, solvetimestamp, feasible_solution = self._solve_problem_instance(mdl,\n\u001b[0;32m--> 161\u001b[0;31m                                                                                              fileprintlevel=fileprintlevel)\n\u001b[0m\u001b[1;32m    162\u001b[0m             \u001b[0msolution_objective\u001b[0m \u001b[0;34m=\u001b[0m \u001b[0moe\u001b[0m\u001b[0;34m.\u001b[0m\u001b[0mvalue\u001b[0m\u001b[0;34m(\u001b[0m\u001b[0mmdl\u001b[0m\u001b[0;34m.\u001b[0m\u001b[0mTotal_Cost\u001b[0m\u001b[0;34m)\u001b[0m\u001b[0;34m\u001b[0m\u001b[0m\n\u001b[1;32m    163\u001b[0m             \u001b[0mmerged_df\u001b[0m\u001b[0;34m[\u001b[0m\u001b[0;34m'solution_objectives'\u001b[0m\u001b[0;34m]\u001b[0m \u001b[0;34m=\u001b[0m \u001b[0moe\u001b[0m\u001b[0;34m.\u001b[0m\u001b[0mvalue\u001b[0m\u001b[0;34m(\u001b[0m\u001b[0mmdl\u001b[0m\u001b[0;34m.\u001b[0m\u001b[0mTotal_Cost\u001b[0m\u001b[0;34m)\u001b[0m\u001b[0;34m\u001b[0m\u001b[0m\n",
      "\u001b[0;32m~/Desktop/CATEGORIES/CAREER_MANAGEMENT/CRC_ResearchScientist_Optimization/Optimization_Tool/2_ExperimentFolder/bayota/efficiencysubproblem/src/study.py\u001b[0m in \u001b[0;36m_solve_problem_instance\u001b[0;34m(self, mdl, randomstart, output_file_str, fileprintlevel)\u001b[0m\n\u001b[1;32m    328\u001b[0m         \u001b[0;31m# ---- SOLVE ----\u001b[0m\u001b[0;34m\u001b[0m\u001b[0;34m\u001b[0m\u001b[0m\n\u001b[1;32m    329\u001b[0m         \u001b[0mget_suffixes\u001b[0m \u001b[0;34m=\u001b[0m \u001b[0;32mFalse\u001b[0m\u001b[0;34m\u001b[0m\u001b[0m\n\u001b[0;32m--> 330\u001b[0;31m         \u001b[0msolved_instance\u001b[0m\u001b[0;34m,\u001b[0m \u001b[0msolved_results\u001b[0m\u001b[0;34m,\u001b[0m \u001b[0mfeasible\u001b[0m \u001b[0;34m=\u001b[0m \u001b[0msolve_handler\u001b[0m\u001b[0;34m.\u001b[0m\u001b[0msolve\u001b[0m\u001b[0;34m(\u001b[0m\u001b[0mget_suffixes\u001b[0m\u001b[0;34m=\u001b[0m\u001b[0mget_suffixes\u001b[0m\u001b[0;34m)\u001b[0m\u001b[0;34m\u001b[0m\u001b[0m\n\u001b[0m\u001b[1;32m    331\u001b[0m \u001b[0;34m\u001b[0m\u001b[0m\n\u001b[1;32m    332\u001b[0m         \u001b[0;31m# ---- PARSE SOLUTION OUTPUT ----\u001b[0m\u001b[0;34m\u001b[0m\u001b[0;34m\u001b[0m\u001b[0m\n",
      "\u001b[0;32m~/Desktop/CATEGORIES/CAREER_MANAGEMENT/CRC_ResearchScientist_Optimization/Optimization_Tool/2_ExperimentFolder/bayota/efficiencysubproblem/src/solver_handling/solvehandler.py\u001b[0m in \u001b[0;36msolve\u001b[0;34m(self, logfilename, get_suffixes)\u001b[0m\n\u001b[1;32m    147\u001b[0m         \u001b[0mlogger\u001b[0m\u001b[0;34m.\u001b[0m\u001b[0minfo\u001b[0m\u001b[0;34m(\u001b[0m\u001b[0;34m'** Before log_infeasible_constraints **'\u001b[0m\u001b[0;34m)\u001b[0m\u001b[0;34m\u001b[0m\u001b[0m\n\u001b[1;32m    148\u001b[0m         \u001b[0mlog_infeasible_constraints\u001b[0m\u001b[0;34m(\u001b[0m\u001b[0mself\u001b[0m\u001b[0;34m.\u001b[0m\u001b[0minstance\u001b[0m\u001b[0;34m,\u001b[0m \u001b[0mlogger\u001b[0m\u001b[0;34m=\u001b[0m\u001b[0mlogger\u001b[0m\u001b[0;34m)\u001b[0m\u001b[0;34m\u001b[0m\u001b[0m\n\u001b[0;32m--> 149\u001b[0;31m         \u001b[0mlog_infeasible_bounds\u001b[0m\u001b[0;34m(\u001b[0m\u001b[0mself\u001b[0m\u001b[0;34m.\u001b[0m\u001b[0minstance\u001b[0m\u001b[0;34m,\u001b[0m \u001b[0mlogger\u001b[0m\u001b[0;34m=\u001b[0m\u001b[0mlogger\u001b[0m\u001b[0;34m)\u001b[0m\u001b[0;34m\u001b[0m\u001b[0m\n\u001b[0m\u001b[1;32m    150\u001b[0m         \u001b[0mlog_close_to_bounds\u001b[0m\u001b[0;34m(\u001b[0m\u001b[0mself\u001b[0m\u001b[0;34m.\u001b[0m\u001b[0minstance\u001b[0m\u001b[0;34m,\u001b[0m \u001b[0mlogger\u001b[0m\u001b[0;34m=\u001b[0m\u001b[0mlogger\u001b[0m\u001b[0;34m)\u001b[0m\u001b[0;34m\u001b[0m\u001b[0m\n\u001b[1;32m    151\u001b[0m         \u001b[0mlog_active_constraints\u001b[0m\u001b[0;34m(\u001b[0m\u001b[0mself\u001b[0m\u001b[0;34m.\u001b[0m\u001b[0minstance\u001b[0m\u001b[0;34m,\u001b[0m \u001b[0mlogger\u001b[0m\u001b[0;34m=\u001b[0m\u001b[0mlogger\u001b[0m\u001b[0;34m)\u001b[0m\u001b[0;34m\u001b[0m\u001b[0m\n",
      "\u001b[0;32m~/Desktop/CATEGORIES/CAREER_MANAGEMENT/CRC_ResearchScientist_Optimization/Optimization_Tool/2_ExperimentFolder/bayota/util/infeasible.py\u001b[0m in \u001b[0;36mlog_infeasible_bounds\u001b[0;34m(m, tol, logger)\u001b[0m\n\u001b[1;32m     42\u001b[0m     for var in m.component_data_objects(\n\u001b[1;32m     43\u001b[0m             ctype=Var, descend_into=True):\n\u001b[0;32m---> 44\u001b[0;31m         \u001b[0;32mif\u001b[0m \u001b[0mvar\u001b[0m\u001b[0;34m.\u001b[0m\u001b[0mhas_lb\u001b[0m\u001b[0;34m(\u001b[0m\u001b[0;34m)\u001b[0m \u001b[0;32mand\u001b[0m \u001b[0mvalue\u001b[0m\u001b[0;34m(\u001b[0m\u001b[0mvar\u001b[0m\u001b[0;34m.\u001b[0m\u001b[0mlb\u001b[0m \u001b[0;34m-\u001b[0m \u001b[0mvar\u001b[0m\u001b[0;34m)\u001b[0m \u001b[0;34m>=\u001b[0m \u001b[0mtol\u001b[0m\u001b[0;34m:\u001b[0m\u001b[0;34m\u001b[0m\u001b[0m\n\u001b[0m\u001b[1;32m     45\u001b[0m             logger.info('VAR {}: {} < LB {}'.format(\n\u001b[1;32m     46\u001b[0m                 var.name, value(var), value(var.lb)))\n",
      "\u001b[0;32m~/anaconda3/envs/OptSubProblem/lib/python3.6/site-packages/pyomo/core/expr/numvalue.py\u001b[0m in \u001b[0;36mvalue\u001b[0;34m(obj, exception)\u001b[0m\n\u001b[1;32m    192\u001b[0m             \u001b[0;32mraise\u001b[0m\u001b[0;34m\u001b[0m\u001b[0m\n\u001b[1;32m    193\u001b[0m     \u001b[0;32mtry\u001b[0m\u001b[0;34m:\u001b[0m\u001b[0;34m\u001b[0m\u001b[0m\n\u001b[0;32m--> 194\u001b[0;31m         \u001b[0mtmp\u001b[0m \u001b[0;34m=\u001b[0m \u001b[0mnumeric\u001b[0m\u001b[0;34m(\u001b[0m\u001b[0mexception\u001b[0m\u001b[0;34m=\u001b[0m\u001b[0mexception\u001b[0m\u001b[0;34m)\u001b[0m\u001b[0;34m\u001b[0m\u001b[0m\n\u001b[0m\u001b[1;32m    195\u001b[0m     \u001b[0;32mexcept\u001b[0m\u001b[0;34m:\u001b[0m\u001b[0;34m\u001b[0m\u001b[0m\n\u001b[1;32m    196\u001b[0m         \u001b[0;32mif\u001b[0m \u001b[0mexception\u001b[0m\u001b[0;34m:\u001b[0m\u001b[0;34m\u001b[0m\u001b[0m\n",
      "\u001b[0;32m~/anaconda3/envs/OptSubProblem/lib/python3.6/site-packages/pyomo/core/expr/expr_pyomo5.py\u001b[0m in \u001b[0;36m__call__\u001b[0;34m(self, exception)\u001b[0m\n\u001b[1;32m   1329\u001b[0m             \u001b[0mThe\u001b[0m \u001b[0mvalue\u001b[0m \u001b[0mof\u001b[0m \u001b[0mthe\u001b[0m \u001b[0mexpression\u001b[0m \u001b[0;32mor\u001b[0m \u001b[0;34m:\u001b[0m\u001b[0mconst\u001b[0m\u001b[0;34m:\u001b[0m\u001b[0;31m`\u001b[0m\u001b[0;32mNone\u001b[0m\u001b[0;31m`\u001b[0m\u001b[0;34m.\u001b[0m\u001b[0;34m\u001b[0m\u001b[0m\n\u001b[1;32m   1330\u001b[0m         \"\"\"\n\u001b[0;32m-> 1331\u001b[0;31m         \u001b[0;32mreturn\u001b[0m \u001b[0mevaluate_expression\u001b[0m\u001b[0;34m(\u001b[0m\u001b[0mself\u001b[0m\u001b[0;34m,\u001b[0m \u001b[0mexception\u001b[0m\u001b[0;34m)\u001b[0m\u001b[0;34m\u001b[0m\u001b[0m\n\u001b[0m\u001b[1;32m   1332\u001b[0m \u001b[0;34m\u001b[0m\u001b[0m\n\u001b[1;32m   1333\u001b[0m     \u001b[0;32mdef\u001b[0m \u001b[0m__str__\u001b[0m\u001b[0;34m(\u001b[0m\u001b[0mself\u001b[0m\u001b[0;34m)\u001b[0m\u001b[0;34m:\u001b[0m\u001b[0;34m\u001b[0m\u001b[0m\n",
      "\u001b[0;32m~/anaconda3/envs/OptSubProblem/lib/python3.6/site-packages/pyomo/core/expr/expr_pyomo5.py\u001b[0m in \u001b[0;36mevaluate_expression\u001b[0;34m(exp, exception)\u001b[0m\n\u001b[1;32m    870\u001b[0m     \u001b[0;32mtry\u001b[0m\u001b[0;34m:\u001b[0m\u001b[0;34m\u001b[0m\u001b[0m\n\u001b[1;32m    871\u001b[0m         \u001b[0mvisitor\u001b[0m \u001b[0;34m=\u001b[0m \u001b[0m_EvaluationVisitor\u001b[0m\u001b[0;34m(\u001b[0m\u001b[0;34m)\u001b[0m\u001b[0;34m\u001b[0m\u001b[0m\n\u001b[0;32m--> 872\u001b[0;31m         \u001b[0;32mreturn\u001b[0m \u001b[0mvisitor\u001b[0m\u001b[0;34m.\u001b[0m\u001b[0mdfs_postorder_stack\u001b[0m\u001b[0;34m(\u001b[0m\u001b[0mexp\u001b[0m\u001b[0;34m)\u001b[0m\u001b[0;34m\u001b[0m\u001b[0m\n\u001b[0m\u001b[1;32m    873\u001b[0m \u001b[0;34m\u001b[0m\u001b[0m\n\u001b[1;32m    874\u001b[0m     \u001b[0;32mexcept\u001b[0m \u001b[0mTemplateExpressionError\u001b[0m\u001b[0;34m:\u001b[0m     \u001b[0;31m#pragma: no cover\u001b[0m\u001b[0;34m\u001b[0m\u001b[0m\n",
      "\u001b[0;32m~/anaconda3/envs/OptSubProblem/lib/python3.6/site-packages/pyomo/core/expr/expr_pyomo5.py\u001b[0m in \u001b[0;36mdfs_postorder_stack\u001b[0;34m(self, node)\u001b[0m\n\u001b[1;32m    464\u001b[0m                 \u001b[0m_sub\u001b[0m \u001b[0;34m=\u001b[0m \u001b[0m_argList\u001b[0m\u001b[0;34m[\u001b[0m\u001b[0m_idx\u001b[0m\u001b[0;34m]\u001b[0m\u001b[0;34m\u001b[0m\u001b[0m\n\u001b[1;32m    465\u001b[0m                 \u001b[0m_idx\u001b[0m \u001b[0;34m+=\u001b[0m \u001b[0;36m1\u001b[0m\u001b[0;34m\u001b[0m\u001b[0m\n\u001b[0;32m--> 466\u001b[0;31m                 \u001b[0mflag\u001b[0m\u001b[0;34m,\u001b[0m \u001b[0mvalue\u001b[0m \u001b[0;34m=\u001b[0m \u001b[0mself\u001b[0m\u001b[0;34m.\u001b[0m\u001b[0mvisiting_potential_leaf\u001b[0m\u001b[0;34m(\u001b[0m\u001b[0m_sub\u001b[0m\u001b[0;34m)\u001b[0m\u001b[0;34m\u001b[0m\u001b[0m\n\u001b[0m\u001b[1;32m    467\u001b[0m                 \u001b[0;32mif\u001b[0m \u001b[0mflag\u001b[0m\u001b[0;34m:\u001b[0m\u001b[0;34m\u001b[0m\u001b[0m\n\u001b[1;32m    468\u001b[0m                     \u001b[0m_result\u001b[0m\u001b[0;34m.\u001b[0m\u001b[0mappend\u001b[0m\u001b[0;34m(\u001b[0m \u001b[0mvalue\u001b[0m \u001b[0;34m)\u001b[0m\u001b[0;34m\u001b[0m\u001b[0m\n",
      "\u001b[0;32m~/anaconda3/envs/OptSubProblem/lib/python3.6/site-packages/pyomo/core/expr/expr_pyomo5.py\u001b[0m in \u001b[0;36mvisiting_potential_leaf\u001b[0;34m(self, node)\u001b[0m\n\u001b[1;32m    842\u001b[0m \u001b[0;34m\u001b[0m\u001b[0m\n\u001b[1;32m    843\u001b[0m         \u001b[0;32mif\u001b[0m \u001b[0mnode\u001b[0m\u001b[0;34m.\u001b[0m\u001b[0mis_variable_type\u001b[0m\u001b[0;34m(\u001b[0m\u001b[0;34m)\u001b[0m\u001b[0;34m:\u001b[0m\u001b[0;34m\u001b[0m\u001b[0m\n\u001b[0;32m--> 844\u001b[0;31m             \u001b[0;32mreturn\u001b[0m \u001b[0;32mTrue\u001b[0m\u001b[0;34m,\u001b[0m \u001b[0mvalue\u001b[0m\u001b[0;34m(\u001b[0m\u001b[0mnode\u001b[0m\u001b[0;34m)\u001b[0m\u001b[0;34m\u001b[0m\u001b[0m\n\u001b[0m\u001b[1;32m    845\u001b[0m \u001b[0;34m\u001b[0m\u001b[0m\n\u001b[1;32m    846\u001b[0m         \u001b[0;32mif\u001b[0m \u001b[0;32mnot\u001b[0m \u001b[0mnode\u001b[0m\u001b[0;34m.\u001b[0m\u001b[0mis_expression_type\u001b[0m\u001b[0;34m(\u001b[0m\u001b[0;34m)\u001b[0m\u001b[0;34m:\u001b[0m\u001b[0;34m\u001b[0m\u001b[0m\n",
      "\u001b[0;32m~/anaconda3/envs/OptSubProblem/lib/python3.6/site-packages/pyomo/core/expr/numvalue.py\u001b[0m in \u001b[0;36mvalue\u001b[0;34m(obj, exception)\u001b[0m\n\u001b[1;32m    204\u001b[0m     \u001b[0;32mif\u001b[0m \u001b[0mexception\u001b[0m \u001b[0;32mand\u001b[0m \u001b[0;34m(\u001b[0m\u001b[0mtmp\u001b[0m \u001b[0;32mis\u001b[0m \u001b[0;32mNone\u001b[0m\u001b[0;34m)\u001b[0m\u001b[0;34m:\u001b[0m\u001b[0;34m\u001b[0m\u001b[0m\n\u001b[1;32m    205\u001b[0m         raise ValueError(\"No value for uninitialized NumericValue object %s\"\n\u001b[0;32m--> 206\u001b[0;31m                          % (obj.name,))\n\u001b[0m\u001b[1;32m    207\u001b[0m     \u001b[0;32mreturn\u001b[0m \u001b[0mtmp\u001b[0m\u001b[0;34m\u001b[0m\u001b[0m\n\u001b[1;32m    208\u001b[0m \u001b[0;34m\u001b[0m\u001b[0m\n",
      "\u001b[0;31mValueError\u001b[0m: No value for uninitialized NumericValue object x[ConPlan,N42041SL3_2400_2440,nci]"
     ]
    }
   ],
   "source": [
    "(solver_output_filepaths,\n",
    "solution_csv_filepath,\n",
    "mdf,\n",
    "solution_objective, \n",
    "feasible_solution) = s.go(5)"
   ]
  },
  {
   "cell_type": "code",
   "execution_count": 8,
   "metadata": {},
   "outputs": [
    {
     "ename": "ValueError",
     "evalue": "No value for uninitialized NumericValue object x[HRTill,N42041SL3_2400_2440,nci]",
     "output_type": "error",
     "traceback": [
      "\u001b[0;31m---------------------------------------------------------------------------\u001b[0m",
      "\u001b[0;31mValueError\u001b[0m                                Traceback (most recent call last)",
      "\u001b[0;32m<ipython-input-8-de1920785924>\u001b[0m in \u001b[0;36m<module>\u001b[0;34m()\u001b[0m\n\u001b[0;32m----> 1\u001b[0;31m \u001b[0moe\u001b[0m\u001b[0;34m.\u001b[0m\u001b[0mvalue\u001b[0m\u001b[0;34m(\u001b[0m\u001b[0ms\u001b[0m\u001b[0;34m.\u001b[0m\u001b[0mmodelhandler\u001b[0m\u001b[0;34m.\u001b[0m\u001b[0mmodel\u001b[0m\u001b[0;34m.\u001b[0m\u001b[0mx\u001b[0m\u001b[0;34m[\u001b[0m\u001b[0;34m'HRTill'\u001b[0m\u001b[0;34m,\u001b[0m\u001b[0;34m'N42041SL3_2400_2440'\u001b[0m\u001b[0;34m,\u001b[0m\u001b[0;34m'nci'\u001b[0m\u001b[0;34m]\u001b[0m\u001b[0;34m)\u001b[0m\u001b[0;34m\u001b[0m\u001b[0m\n\u001b[0m",
      "\u001b[0;32m~/anaconda3/envs/OptSubProblem/lib/python3.6/site-packages/pyomo/core/expr/numvalue.py\u001b[0m in \u001b[0;36mvalue\u001b[0;34m(obj, exception)\u001b[0m\n\u001b[1;32m    204\u001b[0m     \u001b[0;32mif\u001b[0m \u001b[0mexception\u001b[0m \u001b[0;32mand\u001b[0m \u001b[0;34m(\u001b[0m\u001b[0mtmp\u001b[0m \u001b[0;32mis\u001b[0m \u001b[0;32mNone\u001b[0m\u001b[0;34m)\u001b[0m\u001b[0;34m:\u001b[0m\u001b[0;34m\u001b[0m\u001b[0m\n\u001b[1;32m    205\u001b[0m         raise ValueError(\"No value for uninitialized NumericValue object %s\"\n\u001b[0;32m--> 206\u001b[0;31m                          % (obj.name,))\n\u001b[0m\u001b[1;32m    207\u001b[0m     \u001b[0;32mreturn\u001b[0m \u001b[0mtmp\u001b[0m\u001b[0;34m\u001b[0m\u001b[0m\n\u001b[1;32m    208\u001b[0m \u001b[0;34m\u001b[0m\u001b[0m\n",
      "\u001b[0;31mValueError\u001b[0m: No value for uninitialized NumericValue object x[HRTill,N42041SL3_2400_2440,nci]"
     ]
    }
   ],
   "source": [
    "oe.value(s.modelhandler.model.x['HRTill','N42041SL3_2400_2440','nci'])"
   ]
  },
  {
   "cell_type": "code",
   "execution_count": null,
   "metadata": {},
   "outputs": [],
   "source": [
    "feasible_solution"
   ]
  },
  {
   "cell_type": "code",
   "execution_count": null,
   "metadata": {},
   "outputs": [],
   "source": [
    "(solver_output_filepaths,\n",
    "solution_csv_filepath,\n",
    "mdf,\n",
    "solution_objective,\n",
    "feasibility_list)= s.go_constraintsequence(range(3, 4))"
   ]
  },
  {
   "cell_type": "code",
   "execution_count": null,
   "metadata": {},
   "outputs": [],
   "source": [
    "(solver_output_filepaths,\n",
    "solution_csv_filepath,\n",
    "mdf,\n",
    "solution_objective,\n",
    "feasibility_list) = s.go_constraintsequence(range(1, 11))"
   ]
  },
  {
   "cell_type": "code",
   "execution_count": null,
   "metadata": {},
   "outputs": [],
   "source": [
    "feasibility_list"
   ]
  },
  {
   "cell_type": "code",
   "execution_count": null,
   "metadata": {},
   "outputs": [],
   "source": [
    "for k, v in s.modelhandler.model.TargetPercentReduction.items():\n",
    "    print(v)"
   ]
  },
  {
   "cell_type": "code",
   "execution_count": null,
   "metadata": {},
   "outputs": [],
   "source": [
    "oe.value(s.modelhandler.model.tau['N'])\n"
   ]
  },
  {
   "cell_type": "code",
   "execution_count": null,
   "metadata": {},
   "outputs": [],
   "source": [
    "original_load = oe.value(s.modelhandler.model.originalload['N'])\n",
    "\n",
    "percent_reduction = oe.value(s.modelhandler.model.tau['N'])\n",
    "absolute_reduction = (percent_reduction / 100) * original_load\n",
    "\n",
    "display(original_load)\n",
    "display(absolute_reduction)"
   ]
  },
  {
   "cell_type": "code",
   "execution_count": null,
   "metadata": {},
   "outputs": [],
   "source": [
    "s.modelhandler.datahandler."
   ]
  },
  {
   "cell_type": "code",
   "execution_count": null,
   "metadata": {},
   "outputs": [],
   "source": []
  },
  {
   "cell_type": "code",
   "execution_count": null,
   "metadata": {},
   "outputs": [],
   "source": [
    "solver_output_filepaths, solution_csv_filepath, mdf, solution_objective = s.go_constraintsequence(range(1, 21))"
   ]
  },
  {
   "cell_type": "code",
   "execution_count": null,
   "metadata": {},
   "outputs": [],
   "source": [
    "solution_csv_filepath"
   ]
  },
  {
   "cell_type": "code",
   "execution_count": null,
   "metadata": {},
   "outputs": [],
   "source": [
    "import os\n",
    "import pandas as pd\n",
    "import seaborn as sns\n",
    "import plotly.plotly as py\n",
    "import plotly.graph_objs as go\n",
    "%pylab inline\n",
    "from efficiencysubproblem.src.vis.sequence_plot import plotly_costobj\n",
    "from efficiencysubproblem.src.vis.acres_heatmap import heatmap_costobj"
   ]
  },
  {
   "cell_type": "code",
   "execution_count": null,
   "metadata": {},
   "outputs": [],
   "source": [
    "constraintvar = 'tau'\n",
    "from src.solution_handling.solutionhandler import SolutionHandler\n",
    "df_piv = SolutionHandler.make_pivot_from_solution_sequence(solution_csv_filepath=solution_csv_filepath,\n",
    "                                                           constraint_sequencing_var=constraintvar)\n",
    "\n",
    "fig = plotly_costobj(df=df_piv, xname=constraintvar)\n",
    "py.iplot(fig, filename='styled-line')"
   ]
  },
  {
   "cell_type": "code",
   "execution_count": null,
   "metadata": {},
   "outputs": [],
   "source": [
    "# Filepath to save to\n",
    "timestamp = datetime.datetime.now().strftime('%Y-%m-%d_%H%M%S')\n",
    "# filenamestr = ''.join(['output/costobj_heatmap_difstartpoints_', 'ipopt', '_',\n",
    "#                            timestamp, '.png'])\n",
    "filenamestr = ''.join(['output/costobj_heatmap_tausequence_', 'ipopt', '_',\n",
    "                           timestamp, '.png'])\n",
    "savefilepathandname = os.path.join(_package_root, filenamestr)\n",
    "\n",
    "# heatmap_costobj(df=df_piv, savefilepathandname=None, xname='startpointiterate')\n",
    "heatmap_costobj(df=df_piv, figsize=(10,20),\n",
    "                savefilepathandname=savefilepathandname, xname='tau')"
   ]
  },
  {
   "cell_type": "code",
   "execution_count": null,
   "metadata": {},
   "outputs": [],
   "source": []
  }
 ],
 "metadata": {
  "kernelspec": {
   "display_name": "Python [conda env:OptSubProblem]",
   "language": "python",
   "name": "conda-env-OptSubProblem-py"
  },
  "language_info": {
   "codemirror_mode": {
    "name": "ipython",
    "version": 3
   },
   "file_extension": ".py",
   "mimetype": "text/x-python",
   "name": "python",
   "nbconvert_exporter": "python",
   "pygments_lexer": "ipython3",
   "version": "3.6.6"
  }
 },
 "nbformat": 4,
 "nbformat_minor": 2
}
