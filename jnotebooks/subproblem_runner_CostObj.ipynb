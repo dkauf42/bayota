{
 "cells": [
  {
   "cell_type": "code",
   "execution_count": 1,
   "metadata": {},
   "outputs": [
    {
     "name": "stdout",
     "output_type": "stream",
     "text": [
      "Populating the interactive namespace from numpy and matplotlib\n"
     ]
    }
   ],
   "source": [
    "import sys\n",
    "sys.path.append('..')  # allow this notebook to find equal-level directories\n",
    "%pylab inline\n",
    "from importing_modules import *\n",
    "# pyomo.environ as oe, seaborn as sns, plotly.plotly as py, plotly.graph_objs as go\n",
    "# from util.gjh_wrapper import gjh_solve, make_df, from vis import acres_bars, zL_bars"
   ]
  },
  {
   "cell_type": "markdown",
   "metadata": {},
   "source": [
    "## Create problem instance"
   ]
  },
  {
   "cell_type": "code",
   "execution_count": 2,
   "metadata": {},
   "outputs": [
    {
     "name": "stdout",
     "output_type": "stream",
     "text": [
      "tau[N51133RL0_6450_0000,P]: 12\n",
      "tau[N51133RL0_6450_0000,S]: 12\n",
      "tau[N51133RL0_6450_0000,N]: 12\n"
     ]
    }
   ],
   "source": [
    "# Load data for each set, parameter, etc. to define a problem instance\n",
    "objwrapper = CostObj()\n",
    "# lrsegs = ['N42071SL2_2410_2700']\n",
    "lrsegs = ['N51133RL0_6450_0000']\n",
    "data = objwrapper.load_data(savedata2file=False, lrsegs_list=lrsegs)\n",
    "\n",
    "# ---- Set the tau target load ----\n",
    "for k in data.tau:\n",
    "    data.tau[k] = 12\n",
    "    taustr = str(round(data.tau[k], 1))\n",
    "\n",
    "# Create concrete problem instance using the separately defined optimization model\n",
    "mdl = objwrapper.create_concrete(data=data)\n",
    "# Print the target load reduction values\n",
    "for l in mdl.LRSEGS:\n",
    "    for p in mdl.PLTNTS:\n",
    "        print('%s: %d' % (mdl.tau[l,p], mdl.tau[l,p].value))\n",
    "\n",
    "# ---- Solver name ----\n",
    "localsolver = True\n",
    "solvername = 'ipopt'\n",
    "# solvername = 'minos'"
   ]
  },
  {
   "cell_type": "code",
   "execution_count": 3,
   "metadata": {},
   "outputs": [
    {
     "name": "stdout",
     "output_type": "stream",
     "text": [
      "7626\n"
     ]
    }
   ],
   "source": [
    "tol = 1e-2\n",
    "nzvarnames = []\n",
    "nzvarvalus = []\n",
    "i=0\n",
    "for k in mdl.x.keys():\n",
    "#     print(k)\n",
    "    if not not mdl.x[k].value:\n",
    "#         print(mdl.x[k].value)\n",
    "        if abs(mdl.x[k].value) > tol:\n",
    "            nzvarnames.append(mdl.x[k].getname())\n",
    "            nzvarvalus.append(mdl.x[k].value)\n",
    "    i+=1\n",
    "#     if i > 100:\n",
    "#         break\n",
    "print(i)"
   ]
  },
  {
   "cell_type": "code",
   "execution_count": 4,
   "metadata": {},
   "outputs": [],
   "source": [
    "# for index in mdl.x:\n",
    "#     mdl.x[index].value=0\n",
    "#             x_value = oe.value(v[index])\n",
    "\n",
    "# reinitialize the variables\n",
    "for k in mdl.x:\n",
    "#         mdl.x[k] = float(random.randrange(0, 600001))/100\n",
    "    mdl.x[k] = round(random.uniform(0, 6000), 2)"
   ]
  },
  {
   "cell_type": "code",
   "execution_count": 5,
   "metadata": {},
   "outputs": [],
   "source": [
    "# mdl.x.pprint()"
   ]
  },
  {
   "cell_type": "markdown",
   "metadata": {},
   "source": [
    "## Solve problem instance"
   ]
  },
  {
   "cell_type": "code",
   "execution_count": 6,
   "metadata": {},
   "outputs": [
    {
     "name": "stdout",
     "output_type": "stream",
     "text": [
      "Solver log file: 'logfile_loadobjective.log'\n",
      "Solver solution file: '/var/folders/qx/2v7d4gls4d10zzr_ptplrx240000gr/T/tmphe90cxd1.pyomo.sol'\n",
      "Solver problem files: ('/var/folders/qx/2v7d4gls4d10zzr_ptplrx240000gr/T/tmphe90cxd1.pyomo.nl',)\n",
      "Ipopt 3.12.8: \n",
      "\n",
      "******************************************************************************\n",
      "This program contains Ipopt, a library for large-scale nonlinear optimization.\n",
      " Ipopt is released as open source code under the Eclipse Public License (EPL).\n",
      "         For more information visit http://projects.coin-or.org/Ipopt\n",
      "******************************************************************************\n",
      "\n",
      "This is Ipopt version 3.12.8, running with linear solver mumps.\n",
      "NOTE: Other linear solvers might be more efficient (see Ipopt documentation).\n",
      "\n",
      "Number of nonzeros in equality constraint Jacobian...:        0\n",
      "Number of nonzeros in inequality constraint Jacobian.:     3609\n",
      "Number of nonzeros in Lagrangian Hessian.............:     5575\n",
      "\n",
      "Total number of variables............................:     1339\n",
      "                     variables with only lower bounds:     1339\n",
      "                variables with lower and upper bounds:        0\n",
      "                     variables with only upper bounds:        0\n",
      "Total number of equality constraints.................:        0\n",
      "Total number of inequality constraints...............:     1110\n",
      "        inequality constraints with only lower bounds:        3\n",
      "   inequality constraints with lower and upper bounds:        0\n",
      "        inequality constraints with only upper bounds:     1107\n",
      "\n",
      "iter    objective    inf_pr   inf_du lg(mu)  ||d||  lg(rg) alpha_du alpha_pr  ls\n",
      "   0  5.1393255e+09 3.48e+05 6.34e+01  -1.0 0.00e+00    -  0.00e+00 0.00e+00   0\n",
      "   1  2.7026719e+09 3.43e+05 6.27e+01  -1.0 3.75e+05    -  1.17e-02 1.40e-02f  1\n",
      "   2  1.9009732e+09 3.37e+05 6.32e+01  -1.0 1.42e+05    -  1.18e-04 1.81e-02f  1\n",
      "   3  1.5268534e+09 3.33e+05 6.35e+01  -1.0 4.13e+05    -  9.04e-06 1.21e-02f  1\n",
      "   4  1.3843852e+09 3.29e+05 6.24e+01  -1.0 1.18e+05    -  1.63e-02 1.17e-02f  1\n",
      "   5  1.1409617e+09 3.20e+05 6.31e+01  -1.0 2.92e+05    -  7.77e-04 2.77e-02f  1\n",
      "   6  9.6495198e+08 3.11e+05 6.36e+01  -1.0 2.21e+05    -  3.55e-03 2.84e-02f  1\n",
      "   7  8.3584177e+08 3.01e+05 6.42e+01  -1.0 1.83e+05    -  3.95e-03 3.12e-02f  1\n",
      "   8  7.2031958e+08 2.91e+05 6.52e+01  -1.0 1.67e+05    -  1.08e-04 3.48e-02f  1\n",
      "   9  6.2639989e+08 2.80e+05 6.49e+01  -1.0 1.21e+05    -  1.38e-02 3.57e-02f  1\n",
      "iter    objective    inf_pr   inf_du lg(mu)  ||d||  lg(rg) alpha_du alpha_pr  ls\n",
      "  10  5.2220208e+08 2.67e+05 6.61e+01  -1.0 1.29e+05    -  2.30e-03 4.89e-02f  1\n",
      "  11  4.2300726e+08 2.53e+05 6.74e+01  -1.0 1.54e+05    -  1.54e-03 5.11e-02f  1\n",
      "  12  3.4379702e+08 2.40e+05 6.79e+01  -1.0 1.99e+05    -  9.30e-03 5.25e-02f  1\n",
      "  13  2.9903633e+08 2.25e+05 6.92e+01  -1.0 4.27e+04    -  2.53e-03 6.12e-02f  1\n",
      "  14  2.6117666e+08 2.11e+05 6.98e+01  -1.0 4.93e+04    -  9.89e-03 6.36e-02f  1\n",
      "  15  2.2253973e+08 1.95e+05 7.00e+01  -1.0 7.65e+04    -  1.59e-02 7.28e-02f  1\n",
      "  16  1.8263600e+08 1.78e+05 7.13e+01  -1.0 1.06e+05    -  6.24e-03 8.74e-02f  1\n",
      "  17  1.5513576e+08 1.62e+05 6.92e+01  -1.0 8.82e+04    -  4.28e-02 9.08e-02f  1\n",
      "  18  1.1980087e+08 1.41e+05 7.14e+01  -1.0 1.34e+05    -  1.19e-03 1.31e-01f  1\n",
      "  19  9.6926351e+07 1.22e+05 7.11e+01  -1.0 5.46e+04    -  2.61e-02 1.32e-01f  1\n",
      "iter    objective    inf_pr   inf_du lg(mu)  ||d||  lg(rg) alpha_du alpha_pr  ls\n",
      "  20  6.8590319e+07 1.03e+05 7.26e+01  -1.0 1.09e+05    -  6.63e-03 1.55e-01f  1\n",
      "  21  6.0053484e+07 9.21e+04 6.68e+01  -1.0 2.42e+04    -  8.31e-02 1.08e-01f  1\n",
      "  22  5.9535995e+07 9.14e+04 6.66e+01  -1.0 2.18e+04    -  4.03e-03 7.96e-03f  1\n",
      "  23  5.8927434e+07 9.05e+04 6.49e+01  -1.0 2.16e+04    -  2.32e-02 9.37e-03f  1\n",
      "  24  5.3561974e+07 8.29e+04 1.19e+02  -1.0 2.14e+04    -  3.54e-01 8.45e-02f  1\n",
      "  25  4.6897730e+07 7.25e+04 3.86e+01  -1.0 1.97e+04    -  7.11e-02 1.25e-01f  1\n",
      "  26  4.5133418e+07 6.98e+04 3.57e+01  -1.0 1.73e+04    -  3.54e-02 3.76e-02f  1\n",
      "  27  4.2817972e+07 6.63e+04 4.24e+02  -1.0 1.67e+04    -  1.26e-03 5.08e-02f  1\n",
      "  28  4.1150063e+07 6.37e+04 3.35e+02  -1.0 1.60e+04    -  4.45e-02 3.88e-02f  1\n",
      "  29  4.0896372e+07 6.15e+04 5.50e+02  -1.0 1.05e+05    -  9.66e-04 3.50e-02f  1\n",
      "iter    objective    inf_pr   inf_du lg(mu)  ||d||  lg(rg) alpha_du alpha_pr  ls\n",
      "  30  4.0892562e+07 6.14e+04 5.35e+02  -1.0 1.12e+05    -  1.92e-02 1.13e-03f  1\n",
      "  31  4.0780368e+07 6.04e+04 5.32e+02  -1.0 1.03e+05    -  9.38e-03 1.54e-02f  1\n",
      "  32  4.0077054e+07 5.59e+04 5.43e+02  -1.0 9.48e+04    -  3.07e-02 7.52e-02f  1\n",
      "  33  3.9156415e+07 5.29e+04 6.47e+02  -1.0 2.04e+05    -  2.24e-02 5.29e-02f  1\n",
      "  34  3.8689312e+07 5.22e+04 1.81e+02  -1.0 1.63e+05    -  3.36e-02 1.45e-02f  1\n",
      "  35  3.7851958e+07 4.96e+04 1.26e+03  -1.0 1.70e+05    -  3.52e-04 4.90e-02f  1\n",
      "  36  3.8235447e+07 4.90e+04 1.22e+03  -1.0 2.63e+05    -  1.01e-04 1.18e-02h  1\n",
      "  37  3.8333093e+07 4.86e+04 1.30e+03  -1.0 1.31e+05    -  4.93e-02 8.74e-03h  1\n",
      "  38  3.8843314e+07 4.60e+04 1.08e+03  -1.0 8.44e+04    -  8.90e-04 5.39e-02h  1\n",
      "  39  3.9057817e+07 4.33e+04 1.00e+03  -1.0 7.14e+04    -  2.05e-02 5.82e-02h  1\n",
      "iter    objective    inf_pr   inf_du lg(mu)  ||d||  lg(rg) alpha_du alpha_pr  ls\n",
      "  40  3.9066141e+07 4.28e+04 1.02e+03  -1.0 8.87e+04    -  7.61e-03 1.18e-02h  1\n",
      "  41  3.9066030e+07 4.28e+04 9.21e+02  -1.0 9.57e+04    -  1.34e-02 1.25e-04h  1\n",
      "  42  3.9064519e+07 4.28e+04 8.85e+02  -1.0 1.26e+05    -  3.72e-03 4.52e-05f  1\n",
      "  43  3.9004020e+07 4.27e+04 9.00e+02  -1.0 1.29e+05    -  3.57e-05 1.79e-03f  1\n",
      "  44  3.8685915e+07 4.08e+04 1.24e+03  -1.0 1.19e+05    -  2.97e-05 4.48e-02f  1\n",
      "  45  3.8248987e+07 3.85e+04 1.47e+03  -1.0 1.12e+05    -  1.95e-03 5.73e-02f  1\n",
      "  46  3.7510844e+07 3.68e+04 1.65e+03  -1.0 1.02e+05    -  1.56e-02 4.37e-02f  1\n",
      "  47  3.6900705e+07 3.50e+04 2.09e+03  -1.0 1.00e+05    -  3.07e-04 4.90e-02f  1\n",
      "  48  3.6248224e+07 3.33e+04 2.17e+03  -1.0 9.59e+04    -  3.43e-02 4.69e-02f  1\n",
      "  49  3.6013334e+07 3.29e+04 2.39e+03  -1.0 8.27e+04    -  3.62e-03 1.43e-02f  1\n",
      "iter    objective    inf_pr   inf_du lg(mu)  ||d||  lg(rg) alpha_du alpha_pr  ls\n",
      "  50  3.6010855e+07 3.29e+04 2.14e+03  -1.0 8.02e+04    -  9.74e-03 1.48e-04f  1\n",
      "  51  3.6009278e+07 3.28e+04 2.03e+03  -1.0 3.10e+04    -  4.23e-03 6.87e-05f  1\n",
      "  52  3.5366995e+07 3.19e+04 2.49e+03  -1.0 2.95e+04    -  9.19e-03 2.76e-02f  1\n",
      "  53  3.5296728e+07 3.19e+04 2.32e+03  -1.0 5.32e+04    -  8.12e-03 2.56e-03f  1\n",
      "  54  3.5026004e+07 3.16e+04 2.42e+03  -1.0 7.62e+04    -  4.94e-03 9.25e-03f  1\n",
      "  55  3.4732018e+07 3.13e+04 2.64e+03  -1.0 1.01e+05    -  1.20e-03 9.87e-03f  1\n",
      "  56  3.4214759e+07 2.94e+04 4.46e+03  -1.0 5.11e+04    -  1.59e-04 6.05e-02f  1\n",
      "  57  3.3778198e+07 2.82e+04 5.25e+03  -1.0 7.78e+04    -  1.83e-02 3.91e-02f  1\n",
      "  58  3.3521314e+07 2.68e+04 7.00e+03  -1.0 8.05e+04    -  2.89e-03 4.97e-02f  1\n",
      "  59  3.3580818e+07 2.64e+04 7.52e+03  -1.0 4.82e+05    -  1.88e-03 1.56e-02h  1\n",
      "iter    objective    inf_pr   inf_du lg(mu)  ||d||  lg(rg) alpha_du alpha_pr  ls\n",
      "  60  3.3582771e+07 2.64e+04 7.50e+03  -1.0 1.09e+06    -  7.57e-03 6.90e-05h  1\n",
      "  61  3.3581511e+07 2.64e+04 4.33e+03  -1.0 1.10e+05    -  3.86e-02 7.85e-05f  1\n",
      "  62  3.2841219e+07 2.53e+04 8.92e+03  -1.0 1.20e+05    -  4.47e-04 4.28e-02f  1\n",
      "  63  3.2378390e+07 2.47e+04 1.10e+04  -1.0 1.02e+05    -  1.30e-02 2.41e-02f  1\n",
      "  64  3.2037229e+07 2.42e+04 1.92e+04  -1.0 1.32e+05    -  5.31e-05 1.66e-02f  1\n",
      "  65  3.2260918e+07 2.42e+04 1.90e+04  -1.0 3.89e+05    -  2.46e-04 3.60e-03h  1\n",
      "  66  3.2263144e+07 2.42e+04 1.98e+04  -1.0 3.78e+05    -  3.17e-02 3.70e-05h  1\n",
      "  67  3.2261892e+07 2.42e+04 1.75e+04  -1.0 2.32e+05    -  2.54e-03 4.33e-05f  1\n",
      "  68  3.2056575e+07 2.40e+04 2.28e+04  -1.0 2.14e+05    -  1.20e-03 6.76e-03f  1\n",
      "  69  3.1879545e+07 2.38e+04 3.05e+04  -1.0 2.21e+05    -  9.88e-04 5.91e-03f  1\n",
      "iter    objective    inf_pr   inf_du lg(mu)  ||d||  lg(rg) alpha_du alpha_pr  ls\n",
      "  70  3.2308563e+07 2.37e+04 3.36e+04  -1.0 9.29e+04    -  3.04e-05 6.59e-03h  1\n",
      "  71  3.2313197e+07 2.37e+04 3.36e+04  -1.0 1.14e+05    -  5.42e-03 5.38e-05h  1\n",
      "  72r 3.2313197e+07 2.37e+04 1.00e+03   4.4 0.00e+00    -  0.00e+00 3.33e-07R  3\n",
      "  73r 3.1548905e+07 2.36e+04 1.06e+03   4.4 1.02e+08    -  5.72e-05 2.96e-04f  1\n",
      "  74r 3.1480803e+07 2.36e+04 1.41e+03   3.0 7.18e+06    -  1.82e-01 3.84e-04f  1\n",
      "  75r 9.4803504e+06 5.50e+03 1.37e+03   3.0 7.14e+05    -  1.33e-02 2.70e-02f  1\n",
      "  76r 9.3311622e+06 5.37e+03 2.09e+03   3.0 4.01e+05    -  4.66e-02 3.30e-04f  1\n",
      "  77r 7.4071246e+06 2.06e+03 2.02e+03   3.0 1.54e+05    -  4.27e-02 2.25e-02f  1\n",
      "  78  7.4051468e+06 2.06e+03 6.24e+03  -1.0 2.74e+04    -  3.20e-01 6.45e-05f  1\n",
      "  79  7.4035812e+06 2.06e+03 1.28e+03  -1.0 1.78e+04    -  2.79e-02 2.96e-04f  1\n"
     ]
    },
    {
     "name": "stdout",
     "output_type": "stream",
     "text": [
      "iter    objective    inf_pr   inf_du lg(mu)  ||d||  lg(rg) alpha_du alpha_pr  ls\n",
      "  80  7.1219411e+06 1.95e+03 4.19e+03  -1.0 1.90e+04    -  7.80e-04 5.30e-02f  1\n",
      "  81  7.1199392e+06 1.95e+03 4.26e+03  -1.0 3.56e+04    -  9.17e-03 1.63e-04f  1\n",
      "  82  7.1173667e+06 1.95e+03 3.05e+03  -1.0 1.82e+04    -  3.82e-02 1.09e-03f  1\n",
      "  83  6.9130913e+06 1.77e+03 2.79e+03  -1.0 1.81e+04    -  3.30e-02 9.19e-02f  1\n",
      "  84  6.9110838e+06 1.77e+03 2.79e+03  -1.0 1.65e+04    -  1.44e-01 1.01e-03f  1\n",
      "  85  6.9077408e+06 1.77e+03 2.78e+03  -1.0 1.69e+04    -  1.33e-02 1.52e-03f  1\n",
      "  86  5.7779665e+06 8.85e+02 1.39e+03  -1.0 1.78e+04    -  4.62e-03 4.99e-01f  1\n",
      "  87  5.2795136e+06 4.60e+02 7.25e+02  -1.0 8.89e+03    -  1.40e-01 4.80e-01f  1\n",
      "  88  5.1284058e+06 3.51e+02 5.71e+02  -1.0 5.16e+03    -  1.63e-03 2.36e-01f  1\n",
      "  89  5.1258994e+06 3.50e+02 5.51e+02  -1.0 4.48e+03  -4.0 4.82e-01 4.07e-03f  1\n",
      "iter    objective    inf_pr   inf_du lg(mu)  ||d||  lg(rg) alpha_du alpha_pr  ls\n",
      "  90  4.8795576e+06 3.49e+02 5.51e+02  -1.0 7.09e+06    -  4.44e-05 3.37e-04f  1\n",
      "  91  4.8770554e+06 3.49e+02 5.51e+02  -1.0 4.83e+05    -  6.69e-03 5.00e-05f  1\n",
      "  92  4.8666885e+06 3.43e+02 5.41e+02  -1.0 4.77e+03    -  8.54e-02 1.82e-02f  1\n",
      "  93  4.8099385e+06 3.20e+02 4.69e+02  -1.0 3.78e+03    -  8.20e-02 1.33e-01f  1\n",
      "  94  4.7210799e+06 3.91e+02 3.49e+02  -1.0 3.05e+03    -  1.62e-01 2.57e-01f  1\n",
      "  95  4.5331280e+06 1.88e+03 3.21e+02  -1.0 2.11e+04    -  1.82e-03 7.84e-02f  1\n",
      "  96  4.5312194e+06 1.90e+03 3.21e+02  -1.0 9.38e+05    -  1.60e-03 1.76e-05f  1\n",
      "  97  4.5312069e+06 1.85e+03 3.14e+02  -1.0 1.88e+03    -  1.40e-01 2.32e-02h  1\n",
      "  98  4.3654766e+06 1.23e+03 2.08e+02  -1.0 1.05e+04    -  1.63e-03 3.36e-01f  1\n",
      "  99  4.3637987e+06 1.23e+03 2.08e+02  -1.0 4.44e+05    -  8.13e-03 7.94e-05f  1\n",
      "iter    objective    inf_pr   inf_du lg(mu)  ||d||  lg(rg) alpha_du alpha_pr  ls\n",
      " 100  4.3636684e+06 1.17e+03 1.98e+02  -1.0 1.23e+03    -  3.14e-01 5.08e-02h  1\n",
      " 101  4.2466255e+06 5.73e+02 3.81e+02  -1.0 2.99e+03    -  4.21e-03 5.09e-01f  1\n",
      " 102  4.1723564e+06 5.70e+02 3.43e+02  -1.0 2.23e+05    -  6.93e-03 5.45e-03f  1\n",
      " 103  4.1646412e+06 4.62e+02 3.39e+02  -1.0 5.70e+02    -  1.09e-01 1.89e-01f  1\n",
      " 104  4.0572683e+06 4.42e+02 3.51e+02  -1.0 7.94e+04    -  1.25e-03 4.40e-02f  1\n",
      " 105  4.0562033e+06 4.42e+02 3.42e+02  -1.0 2.71e+05    -  1.50e-02 1.29e-04f  1\n",
      " 106  4.0317459e+06 2.80e+02 4.12e+02  -1.0 6.11e+02    -  4.95e-02 3.65e-01f  1\n",
      " 107  3.7104596e+06 2.78e+02 4.13e+02  -1.0 4.31e+05    -  5.23e-04 7.56e-03f  1\n",
      " 108  3.7072480e+06 2.78e+02 4.11e+02  -1.0 7.37e+05    -  4.84e-03 4.42e-05f  1\n",
      " 109  3.7068996e+06 2.76e+02 3.05e+02  -1.0 7.29e+02    -  1.84e-01 8.62e-03h  1\n",
      "iter    objective    inf_pr   inf_du lg(mu)  ||d||  lg(rg) alpha_du alpha_pr  ls\n",
      " 110  3.5997080e+06 2.34e+02 3.30e+02  -1.0 9.34e+03    -  2.60e-03 1.53e-01f  1\n",
      " 111  3.5956530e+06 2.29e+02 3.07e+02  -1.0 1.08e+03    -  5.51e-02 2.18e-02f  1\n",
      " 112  3.5541375e+06 2.18e+02 3.10e+02  -1.0 1.16e+04    -  7.43e-03 4.81e-02f  1\n",
      " 113  3.5494344e+06 2.06e+02 2.45e+02  -1.0 9.85e+02    -  1.62e-01 5.31e-02f  1\n",
      " 114  3.4844753e+06 1.52e+02 2.78e+02  -1.0 4.16e+03    -  2.96e-03 2.64e-01f  1\n",
      " 115  3.4420252e+06 1.30e+02 2.65e+02  -1.0 6.44e+03    -  7.03e-02 1.40e-01f  1\n",
      " 116  3.4301706e+06 1.28e+02 2.64e+02  -1.0 7.07e+04    -  8.06e-03 1.48e-02f  1\n",
      " 117  3.4295451e+06 1.25e+02 1.30e+02  -1.0 4.48e+02    -  3.94e-01 2.34e-02h  1\n",
      " 118  3.4251046e+06 1.16e+02 1.35e+02  -1.0 1.95e+03    -  6.49e-03 7.80e-02f  1\n",
      " 119  3.2955765e+06 1.15e+02 1.35e+02  -1.0 6.58e+05    -  1.06e-04 5.20e-03f  1\n",
      "iter    objective    inf_pr   inf_du lg(mu)  ||d||  lg(rg) alpha_du alpha_pr  ls\n",
      " 120  3.2942802e+06 1.15e+02 1.33e+02  -1.0 3.81e+05    -  1.06e-02 8.99e-05f  1\n",
      " 121  3.2837004e+06 4.84e+01 1.43e+02  -1.0 1.15e+02    -  1.56e-01 5.78e-01f  1\n",
      " 122  3.2749418e+06 4.72e+01 1.43e+02  -1.0 2.86e+04    -  1.97e-03 2.56e-02f  1\n",
      " 123  3.2748304e+06 4.71e+01 1.20e+02  -1.0 3.70e+03    -  1.32e-01 1.98e-03f  1\n",
      " 124  3.1352759e+06 3.05e+01 1.31e+02  -1.0 4.81e+03    -  1.53e-03 3.52e-01f  1\n",
      " 125  3.0816537e+06 3.04e+01 1.30e+02  -1.0 3.39e+05    -  5.11e-03 2.04e-03f  1\n",
      " 126  3.0811215e+06 3.04e+01 1.25e+02  -1.0 2.11e+04    -  7.53e-02 2.94e-04f  1\n",
      " 127  3.0735317e+06 2.83e+01 1.17e+02  -1.0 7.22e+03    -  6.45e-02 6.91e-02f  1\n",
      " 128  2.9518436e+06 2.61e+01 1.11e+02  -1.0 4.54e+04    -  6.96e-04 7.84e-02f  1\n",
      " 129  2.9506104e+06 2.61e+01 1.12e+02  -1.0 3.06e+06    -  5.64e-04 1.16e-05f  1\n",
      "iter    objective    inf_pr   inf_du lg(mu)  ||d||  lg(rg) alpha_du alpha_pr  ls\n",
      " 130  2.9484958e+06 2.35e+01 9.76e+01  -1.0 1.14e+03    -  1.72e-01 1.00e-01f  1\n",
      " 131  2.9447460e+06 1.78e+01 7.46e+01  -1.0 6.24e+02    -  2.24e-01 2.42e-01f  1\n",
      " 132  2.9055672e+06 1.21e+01 7.62e+01  -1.0 1.09e+04    -  2.86e-03 3.18e-01f  1\n",
      " 133  2.9051961e+06 1.21e+01 6.78e+01  -1.0 9.29e+04    -  2.74e-02 3.72e-04f  1\n",
      " 134  2.8862069e+06 1.21e+01 6.79e+01  -1.0 3.73e+06    -  4.45e-05 3.67e-04f  1\n",
      " 135  2.8849531e+06 1.20e+01 5.75e+01  -1.0 1.48e+05    -  3.59e-02 5.95e-04f  1\n",
      " 136  2.8831080e+06 8.87e+00 4.21e+01  -1.0 2.35e+02    -  2.77e-01 2.61e-01h  1\n",
      " 137  2.8804873e+06 4.76e+00 1.34e+02  -1.0 5.95e+01    -  1.85e-01 4.56e-01h  1\n",
      " 138  2.8630763e+06 2.58e+00 4.15e+02  -1.0 3.60e+03    -  2.28e-03 4.46e-01f  1\n",
      " 139  2.8628805e+06 2.57e+00 3.06e+02  -1.0 6.64e+03    -  8.00e-02 2.42e-03f  1\n",
      "iter    objective    inf_pr   inf_du lg(mu)  ||d||  lg(rg) alpha_du alpha_pr  ls\n",
      " 140  2.8569697e+06 2.03e+00 3.60e+02  -1.0 1.39e+03  -4.5 1.18e-01 2.01e-01f  1\n",
      " 141  2.8499186e+06 1.80e+00 2.51e+02  -1.0 3.99e+03  -5.0 1.47e-01 1.06e-01f  1\n",
      " 142  2.8453798e+06 1.70e+00 3.24e+02  -1.0 1.03e+04  -5.4 6.77e-03 5.09e-02f  1\n",
      " 143  2.8447412e+06 1.68e+00 6.70e+02  -1.0 4.82e+03  -5.0 4.93e-01 1.05e-02f  1\n",
      " 144  2.8446086e+06 1.65e+00 7.94e+02  -1.0 2.66e+02    -  8.30e-02 1.75e-02h  2\n",
      " 145  2.8441931e+06 1.57e+00 2.51e+03  -1.0 2.70e+03    -  8.72e-01 4.26e-02f  1\n",
      " 146  2.8436858e+06 1.21e+00 3.71e+03  -1.0 3.34e+01    -  1.00e+00 2.14e-01h  1\n",
      " 147  2.8425617e+06 3.76e-01 2.47e+03  -1.0 2.55e+01    -  1.00e+00 6.21e-01h  1\n",
      " 148  2.8418874e+06 6.34e-02 3.78e+03  -1.0 9.81e+00    -  1.00e+00 6.17e-01h  1\n",
      " 149  2.8415615e+06 1.84e-02 1.30e+04  -1.0 3.74e+00    -  1.00e+00 4.38e-01h  1\n",
      "iter    objective    inf_pr   inf_du lg(mu)  ||d||  lg(rg) alpha_du alpha_pr  ls\n",
      " 150  2.8412556e+06 6.12e-03 1.74e+04  -1.0 2.10e+00    -  1.00e+00 6.31e-01h  1\n",
      " 151  2.8411338e+06 3.21e-03 5.17e+04  -1.0 7.74e-01    -  1.00e+00 5.28e-01h  1\n",
      " 152  2.8410680e+06 9.63e-04 8.20e+04  -1.0 3.66e-01    -  1.00e+00 6.63e-01h  1\n",
      " 153  2.8410502e+06 5.46e-04 3.11e+05  -1.0 1.23e-01    -  1.00e+00 4.96e-01h  1\n",
      " 154  2.8410387e+06 1.56e-04 4.08e+05  -1.0 6.22e-02    -  1.00e+00 6.77e-01h  1\n",
      " 155  2.8410359e+06 9.04e-05 1.32e+06  -1.0 2.01e-02    -  1.00e+00 4.87e-01h  1\n",
      " 156  2.8410340e+06 2.56e-05 1.21e+06  -1.0 1.03e-02    -  1.00e+00 6.81e-01h  1\n",
      " 157  2.8410335e+06 1.48e-05 1.86e+06  -1.0 3.29e-03    -  1.00e+00 4.87e-01h  1\n",
      " 158  2.8410332e+06 4.12e-06 8.69e+05  -1.0 1.69e-03    -  1.00e+00 6.85e-01h  1\n",
      " 159  2.8410331e+06 2.33e-06 8.39e+05  -1.0 5.32e-04    -  1.00e+00 5.00e-01h  1\n",
      "iter    objective    inf_pr   inf_du lg(mu)  ||d||  lg(rg) alpha_du alpha_pr  ls\n",
      " 160  2.8410331e+06 5.91e-07 8.64e+05  -1.0 2.66e-04    -  1.00e+00 7.06e-01h  1\n",
      " 161  2.8410331e+06 2.85e-07 1.64e+06  -1.0 7.84e-05    -  1.00e+00 5.85e-01h  1\n",
      " 162  2.8410331e+06 2.51e-08 6.32e+05  -1.0 3.25e-05    -  1.00e+00 8.46e-01h  1\n",
      " 163  2.8410331e+06 2.45e-08 3.92e+06  -1.0 4.99e-06    -  1.00e+00 1.56e-02f  7\n",
      " 164  2.8410331e+06 0.00e+00 1.00e-06  -1.0 4.91e-06    -  1.00e+00 1.00e+00h  1\n",
      " 165  2.8289914e+06 0.00e+00 6.02e+06  -8.6 4.88e+01    -  3.97e-01 9.98e-01f  1\n",
      " 166  2.8280690e+06 0.00e+00 5.52e+06  -8.6 1.25e+01    -  8.56e-02 9.99e-01f  1\n",
      " 167  2.8280559e+06 0.00e+00 2.01e+06  -8.6 2.89e+00    -  6.35e-01 1.00e+00f  1\n",
      " 168  2.8277590e+06 0.00e+00 1.91e+06  -8.6 4.20e+00    -  5.12e-02 1.00e+00f  1\n",
      " 169  2.8277565e+06 0.00e+00 3.60e+05  -8.6 1.86e+00    -  8.11e-01 1.00e+00f  1\n",
      "iter    objective    inf_pr   inf_du lg(mu)  ||d||  lg(rg) alpha_du alpha_pr  ls\n",
      " 170  2.8277033e+06 0.00e+00 3.43e+05  -8.6 1.01e+00    -  4.93e-02 1.00e+00f  1\n",
      " 171  2.8277033e+06 0.00e+00 6.11e+04  -8.6 3.28e-01    -  8.22e-01 1.00e+00f  1\n"
     ]
    },
    {
     "name": "stdout",
     "output_type": "stream",
     "text": [
      " 172  2.8277029e+06 0.00e+00 2.10e+03  -8.6 2.53e+00    -  9.66e-01 9.96e-01f  1\n",
      " 173  2.8277029e+06 0.00e+00 4.17e+01  -8.6 5.67e-01    -  9.80e-01 9.99e-01f  1\n",
      " 174  2.8277029e+06 0.00e+00 2.99e+01  -8.6 2.46e-05    -  2.82e-01 1.00e+00f  1\n",
      " 175  2.8277029e+06 0.00e+00 2.37e+01  -8.6 1.83e-07    -  2.09e-01 1.00e+00f  1\n",
      " 176  2.8277029e+06 0.00e+00 7.74e+00  -8.6 3.86e-08    -  6.73e-01 1.00e+00f  1\n",
      " 177  2.8277029e+06 0.00e+00 3.20e+00  -8.6 1.09e-07    -  5.87e-01 1.00e+00f  1\n",
      " 178  2.8277029e+06 0.00e+00 5.20e-01  -8.6 8.24e-08    -  8.37e-01 1.00e+00h  1\n",
      " 179  2.8277029e+06 0.00e+00 4.26e-14  -8.6 3.76e-09    -  1.00e+00 1.00e+00f  1\n",
      "\n",
      "Number of Iterations....: 179\n",
      "\n",
      "                                   (scaled)                 (unscaled)\n",
      "Objective...............:   1.9893759250380648e+04    2.8277029186009555e+06\n",
      "Dual infeasibility......:   4.2632564145606011e-14    6.0598011941692672e-12\n",
      "Constraint violation....:   0.0000000000000000e+00    0.0000000000000000e+00\n",
      "Complementarity.........:   2.6654547517739397e-09    3.7886827150809814e-07\n",
      "Overall NLP error.......:   2.6654547517739397e-09    3.7886827150809814e-07\n",
      "\n",
      "\n",
      "Number of objective function evaluations             = 190\n",
      "Number of objective gradient evaluations             = 176\n",
      "Number of equality constraint evaluations            = 0\n",
      "Number of inequality constraint evaluations          = 190\n",
      "Number of equality constraint Jacobian evaluations   = 0\n",
      "Number of inequality constraint Jacobian evaluations = 181\n",
      "Number of Lagrangian Hessian evaluations             = 179\n",
      "Total CPU secs in IPOPT (w/o function evaluations)   =     13.332\n",
      "Total CPU secs in NLP function evaluations           =      0.050\n",
      "\n",
      "EXIT: Optimal Solution Found.\n",
      "\n",
      "Objective is: 2827702\n"
     ]
    }
   ],
   "source": [
    "looptimestamp = datetime.now().strftime('%Y-%m-%d_%H%M%S')\n",
    "\n",
    "myobj = SolveAndParse(instance=mdl, data=data, localsolver=localsolver, solvername=solvername)\n",
    "# set filepath for saving information about all of the solver iterates\n",
    "output_file_name=os.path.join(projectpath, ''.join(['output/single_CostObj_', looptimestamp, '.iters']))\n",
    "myobj.modify_ipopt_options(optionsfilepath='ipopt.opt', newoutputfilepath=output_file_name)\n",
    "\n",
    "merged_df = myobj.solve()\n",
    "print('\\nObjective is: %d' % oe.value(mdl.Total_Cost))"
   ]
  },
  {
   "cell_type": "code",
   "execution_count": 7,
   "metadata": {},
   "outputs": [
    {
     "ename": "NameError",
     "evalue": "name 'asdkjhg' is not defined",
     "output_type": "error",
     "traceback": [
      "\u001b[0;31m---------------------------------------------------------------------------\u001b[0m",
      "\u001b[0;31mNameError\u001b[0m                                 Traceback (most recent call last)",
      "\u001b[0;32m<ipython-input-7-ce5a8439e0e1>\u001b[0m in \u001b[0;36m<module>\u001b[0;34m()\u001b[0m\n\u001b[0;32m----> 1\u001b[0;31m \u001b[0masdkjhg\u001b[0m\u001b[0;34m\u001b[0m\u001b[0m\n\u001b[0m\u001b[1;32m      2\u001b[0m \u001b[0;32mfrom\u001b[0m \u001b[0mutil\u001b[0m\u001b[0;34m.\u001b[0m\u001b[0msolution_wrangler\u001b[0m \u001b[0;32mimport\u001b[0m \u001b[0mget_nonzero_var_names_and_values\u001b[0m\u001b[0;34m\u001b[0m\u001b[0m\n\u001b[1;32m      3\u001b[0m \u001b[0mnzvnames\u001b[0m\u001b[0;34m,\u001b[0m \u001b[0mnzvvalues\u001b[0m \u001b[0;34m=\u001b[0m \u001b[0mget_nonzero_var_names_and_values\u001b[0m\u001b[0;34m(\u001b[0m\u001b[0mmdl\u001b[0m\u001b[0;34m)\u001b[0m\u001b[0;34m\u001b[0m\u001b[0m\n\u001b[1;32m      4\u001b[0m \u001b[0mprint\u001b[0m\u001b[0;34m(\u001b[0m\u001b[0mlen\u001b[0m\u001b[0;34m(\u001b[0m\u001b[0mnzvnames\u001b[0m\u001b[0;34m)\u001b[0m\u001b[0;34m)\u001b[0m\u001b[0;34m\u001b[0m\u001b[0m\n\u001b[1;32m      5\u001b[0m \u001b[0mnzvnames\u001b[0m\u001b[0;34m[\u001b[0m\u001b[0;36m1\u001b[0m\u001b[0;34m]\u001b[0m\u001b[0;34m\u001b[0m\u001b[0m\n",
      "\u001b[0;31mNameError\u001b[0m: name 'asdkjhg' is not defined"
     ]
    }
   ],
   "source": [
    "asdkjhg\n",
    "from util.solution_wrangler import get_nonzero_var_names_and_values\n",
    "nzvnames, nzvvalues = get_nonzero_var_names_and_values(mdl)\n",
    "print(len(nzvnames))\n",
    "nzvnames[1]"
   ]
  },
  {
   "cell_type": "code",
   "execution_count": null,
   "metadata": {},
   "outputs": [],
   "source": [
    "for ii in mdl.x.iteritems():\n",
    "    print(ii)"
   ]
  },
  {
   "cell_type": "code",
   "execution_count": null,
   "metadata": {},
   "outputs": [],
   "source": [
    "tol = 1e-2\n",
    "nzvarnames = []\n",
    "nzvarvalus = []\n",
    "i=0\n",
    "for k in mdl.x.keys():\n",
    "#     print(k)\n",
    "    if not not mdl.x[k].value:\n",
    "#         print(mdl.x[k].value)\n",
    "        if abs(mdl.x[k].value) > tol:\n",
    "            nzvarnames.append(mdl.x[k].getname())\n",
    "            nzvarvalus.append(mdl.x[k].value)\n",
    "    i+=1\n",
    "#     if i > 100:\n",
    "#         break\n",
    "print(i)"
   ]
  },
  {
   "cell_type": "code",
   "execution_count": null,
   "metadata": {},
   "outputs": [],
   "source": [
    "print(output_file_name)\n",
    "dict_of_iterates = myobj.parse_output_file(output_file_name)\n",
    "# dict_of_iterates.keys()"
   ]
  },
  {
   "cell_type": "code",
   "execution_count": null,
   "metadata": {},
   "outputs": [],
   "source": [
    "varvals = {}\n",
    "varvals[0] = []\n",
    "for ii in dict_of_iterates.keys():\n",
    "    df = dict_of_iterates[ii]\n",
    "#     display(df.head(5))\n",
    "    val = float(df.loc[(df.outputname=='curr_x') &\n",
    "                       (df.varname=='x') & \n",
    "                       (df.index.get_level_values('varindex')=='[ConPlan,N42071SL2_2410_2700,pas]')]['value'][0])\n",
    "#     print(val)\n",
    "    varvals[0].append(val)\n",
    "\n",
    "varvals[1] = []\n",
    "for ii in dict_of_iterates.keys():\n",
    "    df = dict_of_iterates[ii]\n",
    "    varvals[1].append(float(df.loc[(df.outputname=='curr_x') &\n",
    "                                   (df.varname=='x') & \n",
    "                                   (df.index.get_level_values('varindex')=='[UrbanNMPlanHR,N42071SL2_2410_2700,ntg]')]['value'][0]))"
   ]
  },
  {
   "cell_type": "code",
   "execution_count": null,
   "metadata": {},
   "outputs": [],
   "source": [
    "# Make Figure\n",
    "\n",
    "fig = plt.figure(figsize=(10, 4))\n",
    "rects = plt.plot(range(len(varvals[0])), varvals[0])\n",
    "ax = plt.gca()\n",
    "plt.ylabel('varvals[0]')\n",
    "plt.xlabel('iteration')\n",
    "\n",
    "fig = plt.figure(figsize=(10, 4))\n",
    "rects = plt.plot(range(len(varvals[1])), varvals[1])\n",
    "ax = plt.gca()\n",
    "plt.ylabel('varvals[1]')\n",
    "plt.xlabel('iteration')\n",
    "\n",
    "fig = plt.figure(figsize=(10, 4))\n",
    "rects = plt.scatter(varvals[0], varvals[1], c=range(len(varvals[1])))\n",
    "ax = plt.gca()\n",
    "plt.colorbar()\n",
    "plt.xlabel('varvals[0]')\n",
    "plt.ylabel('varvals[1]')"
   ]
  },
  {
   "cell_type": "markdown",
   "metadata": {},
   "source": [
    "## Visualize"
   ]
  },
  {
   "cell_type": "code",
   "execution_count": null,
   "metadata": {},
   "outputs": [],
   "source": [
    "merged_df.tail(50)"
   ]
  },
  {
   "cell_type": "code",
   "execution_count": null,
   "metadata": {},
   "outputs": [],
   "source": [
    "for l in mdl.LRSEGS:\n",
    "    for p in mdl.PLTNTS:\n",
    "        print('%s: %d' % (mdl.TargetPercentReduction[l,p], oe.value(mdl.TargetPercentReduction[l,p].body)))"
   ]
  },
  {
   "cell_type": "code",
   "execution_count": null,
   "metadata": {},
   "outputs": [],
   "source": [
    "from datetime import datetime\n",
    "# ---- Make zL Figure ----\n",
    "filenamestr = ''.join(['output/costobj_zL_tau', taustr, '_', solvername, '_',\n",
    "                       datetime.now().strftime('%Y-%m-%d_%H%M%S'),\n",
    "                       '.png'])\n",
    "savefilepathandname = os.path.join(projectpath, filenamestr)\n",
    "\n",
    "zL_bars(df=merged_df, instance=mdl,\n",
    "        savefig=True, savefilepathandname=savefilepathandname)"
   ]
  },
  {
   "cell_type": "code",
   "execution_count": null,
   "metadata": {},
   "outputs": [],
   "source": [
    "# ---- Acres Figure ----\n",
    "sorteddf_byacres = merged_df.sort_values(by='acres')\n",
    "\n",
    "filenamestr = ''.join(['output/costobj_x_tau', taustr, '_', solvername, '_',\n",
    "                       datetime.now().strftime('%Y-%m-%d_%H%M%S'), '.png'])\n",
    "savefilepathandname = os.path.join(projectpath, filenamestr)\n",
    "\n",
    "objstr = ''.join(['Objective is: ', str(round(mdl.Total_Cost(), 2))])\n",
    "titlestr = '\\n'.join([objstr, 'labels are (cost per unit, total bmp instance cost)'])\n",
    "\n",
    "acres_bars(df=sorteddf_byacres, instance=mdl, titlestr=titlestr,\n",
    "           savefig=True, savefilepathandname=savefilepathandname)"
   ]
  },
  {
   "cell_type": "markdown",
   "metadata": {},
   "source": [
    "## Gradient, Jacobian, Hessian"
   ]
  },
  {
   "cell_type": "code",
   "execution_count": null,
   "metadata": {},
   "outputs": [],
   "source": [
    "gjh_filename, g = gjh_solve(instance=mdl,\n",
    "                            keepfiles=True,\n",
    "                            amplenv=ampl,\n",
    "                            basegjhpath=os.getcwd())\n",
    "\n",
    "g_df = make_df(instance=mdl, filterbydf=merged_df, g=g)\n",
    "\n",
    "g_df = sorteddf_byacres.merge(g_df, how='left',\n",
    "                              on=['bmpshortname', 'landriversegment', 'loadsource'],\n",
    "                              sort=False)"
   ]
  },
  {
   "cell_type": "code",
   "execution_count": null,
   "metadata": {},
   "outputs": [],
   "source": [
    "# ---- Make gradient Figure ----\n",
    "# g_df_filtered = g_df.loc[abs(g_df['g'])>0.001,:].copy()\n",
    "g_df_filtered = g_df\n",
    "# sorteddf = g_df_filtered.sort_values(by='g')\n",
    "# sorteddf_byacres\n",
    "\n",
    "# sorteddf_byacres\n",
    "# g_df = g_df.merge(sorteddf_byacres, how='right',\n",
    "#                on=['bmpshortname', 'landriversegment', 'loadsource'])\n",
    "\n",
    "keystrs = [str([x, y]) for x, y in zip(g_df_filtered['bmpshortname'], g_df_filtered['loadsource'])]\n",
    "# Make Figure\n",
    "fig = plt.figure(figsize=(10, 4))\n",
    "rects = plt.barh(y=keystrs, width=g_df_filtered['g'])\n",
    "ax = plt.gca()\n",
    "\n",
    "ax.set_position([0.3,0.1,0.5,0.8])\n",
    "\n",
    "\n",
    "filenamestr = ''.join(['output/costobj_g_tau', taustr, '_', solvername, '_',\n",
    "                       datetime.now().strftime('%Y-%m-%d_%H%M%S'),\n",
    "                       '.png'])\n",
    "plt.savefig(os.path.join(projectpath, filenamestr))"
   ]
  },
  {
   "cell_type": "code",
   "execution_count": null,
   "metadata": {},
   "outputs": [],
   "source": [
    "# #Read number of variables and constraints\n",
    "# nl_file = open(''.join([filecode, '.pyomo.nl']),'r')\n",
    "# nl_lines = nl_file.readlines()\n",
    "# num_variables = int(nl_lines[1].split(' ')[1])\n",
    "# num_constraints = int(nl_lines[1].split(' ')[2])"
   ]
  },
  {
   "cell_type": "code",
   "execution_count": null,
   "metadata": {},
   "outputs": [],
   "source": [
    "for v in mdl.component_objects(oe.Var, active=True):\n",
    "    print (\"Variable component object\",v)\n",
    "    i=0\n",
    "    for index in v:\n",
    "        try:\n",
    "            x_value = oe.value(v[index])\n",
    "            i+=1\n",
    "            try:\n",
    "                print (i,\"   \", index, v[index].value, g[i])\n",
    "            except:\n",
    "                print (i,\"   \", index, v[index].value)\n",
    "        except:\n",
    "            pass"
   ]
  },
  {
   "cell_type": "code",
   "execution_count": null,
   "metadata": {},
   "outputs": [],
   "source": [
    "# #Read number of variables and constraints\n",
    "# gjh_file = open(''.join([filecode, '.pyomo.gjh']),'r')\n",
    "# gjh_lines = gjh_file.readlines()"
   ]
  },
  {
   "cell_type": "code",
   "execution_count": null,
   "metadata": {},
   "outputs": [],
   "source": [
    "# print(gjh_lines[1])"
   ]
  },
  {
   "cell_type": "code",
   "execution_count": null,
   "metadata": {},
   "outputs": [],
   "source": [
    "# num_variables = int(gjh_lines[1].split(' ')[1])\n",
    "# num_constraints = int(gjh_lines[1].split(' ')[2])"
   ]
  },
  {
   "cell_type": "code",
   "execution_count": null,
   "metadata": {},
   "outputs": [],
   "source": [
    "# #Read gjh output file\n",
    "# gjh = oe.AbstractModel()\n",
    "# # gjh.n_var = oe.Set(initialize=range(1,num_variables+1))\n",
    "# # gjh.n_cons = oe.Set(initialize=range(1,num_constraints+1))\n",
    "# # gjh.g = oe.Param(gjh.n_var, default=0)\n",
    "# # gjh.J = oe.Param(gjh.n_cons, gjh.n_var, default=0)\n",
    "# # gjh.H = oe.Param(gjh.n_var, gjh.n_var, default=0)\n",
    "# # os.rename(''.join([filecode, '.pyomo.gjh']), ''.join([filecode, '.pyomo.gjh.dat']))\n",
    "# gjh_ins = gjh.create_instance(''.join([filecode, '.pyomo.gjh.dat']))\n",
    "\n",
    "# #Print\n",
    "# for i in gjh_ins.n_var:\n",
    "#     print(gjh_ins.g[i])"
   ]
  },
  {
   "cell_type": "code",
   "execution_count": null,
   "metadata": {},
   "outputs": [],
   "source": []
  }
 ],
 "metadata": {
  "kernelspec": {
   "display_name": "Python [conda env:OptSubProblem]",
   "language": "python",
   "name": "conda-env-OptSubProblem-py"
  },
  "language_info": {
   "codemirror_mode": {
    "name": "ipython",
    "version": 3
   },
   "file_extension": ".py",
   "mimetype": "text/x-python",
   "name": "python",
   "nbconvert_exporter": "python",
   "pygments_lexer": "ipython3",
   "version": "3.6.6"
  }
 },
 "nbformat": 4,
 "nbformat_minor": 2
}
