{
 "cells": [
  {
   "cell_type": "code",
   "execution_count": 1,
   "metadata": {},
   "outputs": [
    {
     "name": "stdout",
     "output_type": "stream",
     "text": [
      "Populating the interactive namespace from numpy and matplotlib\n"
     ]
    }
   ],
   "source": [
    "import sys\n",
    "sys.path.append('..')  # allow this notebook to find equal-level directories\n",
    "%pylab inline\n",
    "from importing_modules import *\n",
    "# pyomo.environ as oe, seaborn as sns, plotly.plotly as py, plotly.graph_objs as go\n",
    "# from util.gjh_wrapper import gjh_solve, make_df, from vis import acres_bars, zL_bars"
   ]
  },
  {
   "cell_type": "code",
   "execution_count": 2,
   "metadata": {},
   "outputs": [],
   "source": [
    "from sys import path as pylib #im naming it as pylib so that we won't get confused between os.path and sys.path \n",
    "# pylib += [os.path.abspath(os.path.join(ROOT_DIR, '../castjeeves'))]\n",
    "pylib.append(os.path.abspath('/Users/Danny/Desktop/CATEGORIES/CAREER_MANAGEMENT/CRC_ResearchScientist_Optimization/Optimization_Tool/2_ExperimentFolder/CastJeeves'))\n",
    "# print(pylib)\n",
    "from CastJeeves.jeeves import Jeeves"
   ]
  },
  {
   "cell_type": "code",
   "execution_count": null,
   "metadata": {},
   "outputs": [],
   "source": [
    "cj = Jeeves()\n",
    "# print(cj.geo.all_geotypes())"
   ]
  },
  {
   "cell_type": "markdown",
   "metadata": {},
   "source": [
    "## Create problem instance"
   ]
  },
  {
   "cell_type": "code",
   "execution_count": 3,
   "metadata": {},
   "outputs": [],
   "source": [
    "# Load data for each set, parameter, etc. to define a problem instance\n",
    "objwrapper = LoadObj()\n",
    "# lrsegs = ['N42071SL2_2410_2700']\n",
    "lrsegs = ['N51133RL0_6450_0000']\n",
    "data = objwrapper.load_data(savedata2file=False, lrsegs_list=lrsegs)\n",
    "\n",
    "# Set the cost bound ----\n",
    "data.totalcostupperbound = 100000\n",
    "costboundstr = str(round(data.totalcostupperbound, 1))\n",
    "\n",
    "# Create concrete problem instance using the separately defined optimization model\n",
    "mdl = objwrapper.create_concrete(data=data)\n",
    "\n",
    "# Retain only the Nitrogen load objective, and deactivate the others\n",
    "mdl.PercentReduction['P'].deactivate()\n",
    "mdl.PercentReduction['S'].deactivate()\n",
    "\n",
    "# ---- Solver name ----\n",
    "localsolver = True\n",
    "solvername = 'ipopt'\n",
    "# solvername = 'minos'"
   ]
  },
  {
   "cell_type": "markdown",
   "metadata": {},
   "source": [
    "## Solve problem instance"
   ]
  },
  {
   "cell_type": "code",
   "execution_count": 4,
   "metadata": {},
   "outputs": [
    {
     "name": "stdout",
     "output_type": "stream",
     "text": [
      "Solver log file: 'logfile_loadobjective.log'\n",
      "Solver solution file: '/var/folders/qx/2v7d4gls4d10zzr_ptplrx240000gr/T/tmpqjqlyyfx.pyomo.sol'\n",
      "Solver problem files: ('/var/folders/qx/2v7d4gls4d10zzr_ptplrx240000gr/T/tmpqjqlyyfx.pyomo.nl',)\n",
      "Ipopt 3.12.8: \n",
      "\n",
      "******************************************************************************\n",
      "This program contains Ipopt, a library for large-scale nonlinear optimization.\n",
      " Ipopt is released as open source code under the Eclipse Public License (EPL).\n",
      "         For more information visit http://projects.coin-or.org/Ipopt\n",
      "******************************************************************************\n",
      "\n",
      "This is Ipopt version 3.12.8, running with linear solver mumps.\n",
      "NOTE: Other linear solvers might be more efficient (see Ipopt documentation).\n",
      "\n",
      "Number of nonzeros in equality constraint Jacobian...:        0\n",
      "Number of nonzeros in inequality constraint Jacobian.:     2628\n",
      "Number of nonzeros in Lagrangian Hessian.............:     5278\n",
      "\n",
      "Total number of variables............................:     1339\n",
      "                     variables with only lower bounds:     1339\n",
      "                variables with lower and upper bounds:        0\n",
      "                     variables with only upper bounds:        0\n",
      "Total number of equality constraints.................:        0\n",
      "Total number of inequality constraints...............:     1108\n",
      "        inequality constraints with only lower bounds:        0\n",
      "   inequality constraints with lower and upper bounds:        0\n",
      "        inequality constraints with only upper bounds:     1108\n",
      "\n",
      "iter    objective    inf_pr   inf_du lg(mu)  ||d||  lg(rg) alpha_du alpha_pr  ls\n",
      "   0 -2.5111689e-03 2.41e-01 1.00e+00  -1.0 0.00e+00    -  0.00e+00 0.00e+00   0\n",
      "   1 -6.6245586e-03 1.99e-01 1.22e+01  -1.0 4.51e+01    -  9.90e-01 1.69e-01f  1\n",
      "   2 -3.4759010e-01 5.08e-02 5.88e+00  -1.0 6.03e+02    -  9.56e-01 7.32e-01f  1\n",
      "   3 -9.3169927e-01 2.65e-02 4.52e+00  -1.0 1.45e+03    -  3.15e-01 4.40e-01h  1\n",
      "   4 -2.8185644e+00 1.41e-02 3.84e+01  -1.0 4.08e+03    -  9.99e-01 5.04e-01h  1\n",
      "   5 -3.3803999e+00 5.57e-03 8.64e+01  -1.0 2.69e+03    -  1.00e+00 5.74e-01h  1\n",
      "   6 -3.6273636e+00 2.44e-03 1.88e+02  -1.0 4.98e+02    -  1.00e+00 5.94e-01h  1\n",
      "   7 -3.7088188e+00 9.36e-04 4.68e+02  -1.0 1.70e+02    -  1.00e+00 5.86e-01h  1\n",
      "   8 -3.7425283e+00 4.23e-04 1.14e+03  -1.0 7.19e+01    -  1.00e+00 5.82e-01h  1\n",
      "   9 -3.7569489e+00 1.60e-04 2.67e+03  -1.0 3.01e+01    -  1.00e+00 5.92e-01h  1\n",
      "iter    objective    inf_pr   inf_du lg(mu)  ||d||  lg(rg) alpha_du alpha_pr  ls\n",
      "  10 -3.7626683e+00 7.26e-05 6.68e+03  -1.0 1.23e+01    -  1.00e+00 5.79e-01h  1\n",
      "  11 -3.7651518e+00 2.72e-05 1.54e+04  -1.0 5.16e+00    -  1.00e+00 5.94e-01h  1\n",
      "  12 -3.7661312e+00 1.23e-05 3.85e+04  -1.0 2.09e+00    -  1.00e+00 5.81e-01h  1\n",
      "  13 -3.7665575e+00 4.55e-06 8.71e+04  -1.0 8.77e-01    -  1.00e+00 6.00e-01h  1\n",
      "  14 -3.7667254e+00 2.00e-06 2.09e+05  -1.0 3.51e-01    -  1.00e+00 5.94e-01h  1\n",
      "  15 -3.7667984e+00 6.60e-07 4.24e+05  -1.0 1.42e-01    -  1.00e+00 6.34e-01h  1\n",
      "  16 -3.7668268e+00 2.36e-07 7.76e+05  -1.0 5.21e-02    -  1.00e+00 6.76e-01h  1\n",
      "  17 -3.7668386e+00 1.23e-08 5.50e+05  -1.0 1.69e-02    -  1.00e+00 8.59e-01h  1\n",
      "  18 -3.7668390e+00 7.74e-09 2.52e+06  -1.0 2.38e-03    -  1.00e+00 2.50e-01f  3\n",
      "  19 -3.7668405e+00 0.00e+00 1.00e-06  -1.0 1.79e-03    -  1.00e+00 1.00e+00h  1\n",
      "iter    objective    inf_pr   inf_du lg(mu)  ||d||  lg(rg) alpha_du alpha_pr  ls\n",
      "  20 -4.4111390e+00 0.00e+00 3.69e+06  -8.6 6.50e+02    -  6.30e-01 1.00e+00f  1\n",
      "  21 -4.7554479e+00 0.00e+00 1.66e+06  -8.6 1.04e+03    -  5.50e-01 1.00e+00f  1\n",
      "  22 -4.9043316e+00 0.00e+00 6.67e+05  -8.6 7.88e+02    -  5.99e-01 1.00e+00f  1\n",
      "  23 -4.9711071e+00 0.00e+00 2.27e+05  -8.6 8.63e+01    -  6.59e-01 9.99e-01f  1\n",
      "  24 -6.6030422e+00 0.00e+00 2.26e+05  -8.6 1.33e+03    -  3.93e-03 9.80e-01f  1\n",
      "  25 -6.7590664e+00 0.00e+00 1.15e+05  -8.6 1.06e+02    -  4.94e-01 9.99e-01f  1\n",
      "  26 -6.7835918e+00 0.00e+00 3.46e+04  -8.6 5.44e+01    -  6.98e-01 9.99e-01f  1\n",
      "  27 -6.7875880e+00 0.00e+00 2.01e+04  -8.6 8.16e+01    -  4.18e-01 9.80e-01f  1\n",
      "  28 -6.8084992e+00 0.00e+00 6.61e+03  -8.6 1.42e+01    -  6.72e-01 1.00e+00f  1\n",
      "  29 -6.8153569e+00 0.00e+00 1.96e+03  -8.6 4.34e+00    -  7.03e-01 1.00e+00f  1\n",
      "iter    objective    inf_pr   inf_du lg(mu)  ||d||  lg(rg) alpha_du alpha_pr  ls\n",
      "  30 -6.8154834e+00 0.00e+00 1.16e+03  -8.6 2.18e+01    -  4.07e-01 1.00e+00f  1\n",
      "  31 -6.8166640e+00 0.00e+00 3.35e+02  -8.6 1.89e+00    -  7.12e-01 1.00e+00f  1\n",
      "  32 -6.8166790e+00 0.00e+00 1.40e+02  -8.6 6.83e+00    -  5.81e-01 9.97e-01f  1\n",
      "  33 -6.8166838e+00 0.00e+00 4.24e+01  -8.6 7.44e+00    -  6.98e-01 1.00e+00f  1\n",
      "  34 -6.8166854e+00 0.00e+00 1.22e+00  -8.6 2.35e+00    -  9.71e-01 1.00e+00h  1\n",
      "  35 -6.8166854e+00 0.00e+00 2.54e-14  -8.6 5.62e-01    -  1.00e+00 1.00e+00h  1\n",
      "\n",
      "Number of Iterations....: 35\n",
      "\n",
      "                                   (scaled)                 (unscaled)\n",
      "Objective...............:  -6.8166854445566036e+00   -6.8166854445566036e+00\n",
      "Dual infeasibility......:   2.5368596112684827e-14    2.5368596112684827e-14\n",
      "Constraint violation....:   0.0000000000000000e+00    0.0000000000000000e+00\n",
      "Complementarity.........:   9.4534236045964587e-09    9.4534236045964587e-09\n",
      "Overall NLP error.......:   9.4534236045964587e-09    9.4534236045964587e-09\n",
      "\n",
      "\n",
      "Number of objective function evaluations             = 38\n",
      "Number of objective gradient evaluations             = 36\n",
      "Number of equality constraint evaluations            = 0\n",
      "Number of inequality constraint evaluations          = 38\n",
      "Number of equality constraint Jacobian evaluations   = 0\n",
      "Number of inequality constraint Jacobian evaluations = 36\n",
      "Number of Lagrangian Hessian evaluations             = 35\n",
      "Total CPU secs in IPOPT (w/o function evaluations)   =      2.290\n",
      "Total CPU secs in NLP function evaluations           =      0.006\n",
      "\n",
      "EXIT: Optimal Solution Found.\n",
      "\n",
      "Objective is: 6\n"
     ]
    }
   ],
   "source": [
    "looptimestamp = datetime.now().strftime('%Y-%m-%d_%H%M%S')\n",
    "\n",
    "myobj = SolveAndParse(instance=mdl, data=data, localsolver=localsolver, solvername=solvername)\n",
    "\n",
    "# set filepath for saving information about all of the solver iterates\n",
    "output_file_name=os.path.join(projectpath, ''.join(['output/single_LoadObj_', looptimestamp, '.iters']))\n",
    "myobj.modify_ipopt_options(optionsfilepath='ipopt.opt', newoutputfilepath=output_file_name)\n",
    "\n",
    "merged_df = myobj.solve()\n",
    "print('\\nObjective is: %d' % oe.value(mdl.PercentReduction['N']))\n"
   ]
  },
  {
   "cell_type": "code",
   "execution_count": 11,
   "metadata": {},
   "outputs": [
    {
     "name": "stdout",
     "output_type": "stream",
     "text": [
      "lambda : Direction=Suffix.IMPORT, Datatype=Suffix.FLOAT\n",
      "    Key : Value\n"
     ]
    }
   ],
   "source": [
    "getattr(mdl, 'lambda').pprint()"
   ]
  },
  {
   "cell_type": "code",
   "execution_count": 7,
   "metadata": {},
   "outputs": [
    {
     "data": {
      "text/html": [
       "<div>\n",
       "<style scoped>\n",
       "    .dataframe tbody tr th:only-of-type {\n",
       "        vertical-align: middle;\n",
       "    }\n",
       "\n",
       "    .dataframe tbody tr th {\n",
       "        vertical-align: top;\n",
       "    }\n",
       "\n",
       "    .dataframe thead th {\n",
       "        text-align: right;\n",
       "    }\n",
       "</style>\n",
       "<table border=\"1\" class=\"dataframe\">\n",
       "  <thead>\n",
       "    <tr style=\"text-align: right;\">\n",
       "      <th></th>\n",
       "      <th>key</th>\n",
       "      <th>value</th>\n",
       "    </tr>\n",
       "  </thead>\n",
       "  <tbody>\n",
       "    <tr>\n",
       "      <th>1103</th>\n",
       "      <td>(115, N51133RL0_6450_0000, soy)</td>\n",
       "      <td>1.510736e-12</td>\n",
       "    </tr>\n",
       "    <tr>\n",
       "      <th>1104</th>\n",
       "      <td>(115, N51133RL0_6450_0000, swm)</td>\n",
       "      <td>5.748889e-10</td>\n",
       "    </tr>\n",
       "    <tr>\n",
       "      <th>1105</th>\n",
       "      <td>(115, N51133RL0_6450_0000, wat)</td>\n",
       "      <td>1.753441e-12</td>\n",
       "    </tr>\n",
       "    <tr>\n",
       "      <th>1106</th>\n",
       "      <td>(115, N51133RL0_6450_0000, wfp)</td>\n",
       "      <td>3.072721e-12</td>\n",
       "    </tr>\n",
       "    <tr>\n",
       "      <th>1107</th>\n",
       "      <td>(115, N51133RL0_6450_0000, wto)</td>\n",
       "      <td>3.044986e-12</td>\n",
       "    </tr>\n",
       "  </tbody>\n",
       "</table>\n",
       "</div>"
      ],
      "text/plain": [
       "                                  key         value\n",
       "1103  (115, N51133RL0_6450_0000, soy)  1.510736e-12\n",
       "1104  (115, N51133RL0_6450_0000, swm)  5.748889e-10\n",
       "1105  (115, N51133RL0_6450_0000, wat)  1.753441e-12\n",
       "1106  (115, N51133RL0_6450_0000, wfp)  3.072721e-12\n",
       "1107  (115, N51133RL0_6450_0000, wto)  3.044986e-12"
      ]
     },
     "metadata": {},
     "output_type": "display_data"
    },
    {
     "name": "stdout",
     "output_type": "stream",
     "text": [
      "1108\n"
     ]
    },
    {
     "data": {
      "text/html": [
       "<div>\n",
       "<style scoped>\n",
       "    .dataframe tbody tr th:only-of-type {\n",
       "        vertical-align: middle;\n",
       "    }\n",
       "\n",
       "    .dataframe tbody tr th {\n",
       "        vertical-align: top;\n",
       "    }\n",
       "\n",
       "    .dataframe thead th {\n",
       "        text-align: right;\n",
       "    }\n",
       "</style>\n",
       "<table border=\"1\" class=\"dataframe\">\n",
       "  <thead>\n",
       "    <tr style=\"text-align: right;\">\n",
       "      <th></th>\n",
       "      <th>key</th>\n",
       "      <th>value</th>\n",
       "    </tr>\n",
       "  </thead>\n",
       "  <tbody>\n",
       "  </tbody>\n",
       "</table>\n",
       "</div>"
      ],
      "text/plain": [
       "Empty DataFrame\n",
       "Columns: [key, value]\n",
       "Index: []"
      ]
     },
     "metadata": {},
     "output_type": "display_data"
    },
    {
     "name": "stdout",
     "output_type": "stream",
     "text": [
      "0\n"
     ]
    }
   ],
   "source": [
    "temp_df = pd.DataFrame([[k.index(), mdl.dual[k]]\n",
    "                            for k in mdl.dual.keys()],\n",
    "                           columns=['key', 'value'])\n",
    "# temp_df.dropna(inplace=True)\n",
    "display(temp_df.tail(5))\n",
    "print(temp_df.shape[0])\n",
    "\n",
    "# [mdl.BMPS[temp_df.key[x][0]] for x in range(1,temp_df.shape[0])]\n",
    "# mdl.BMPS[temp_df.key[x][0] for x in temp_df.shape[0]]\n",
    "\n",
    "temp_df = pd.DataFrame([[k.index(), getattr(mdl, 'lambda')[k]]\n",
    "                            for k in getattr(mdl, 'lambda').keys()],\n",
    "                           columns=['key', 'value'])\n",
    "# temp_df.dropna(inplace=True)\n",
    "display(temp_df.tail(5))\n",
    "print(temp_df.shape[0])"
   ]
  },
  {
   "cell_type": "code",
   "execution_count": null,
   "metadata": {},
   "outputs": [],
   "source": []
  },
  {
   "cell_type": "code",
   "execution_count": null,
   "metadata": {},
   "outputs": [],
   "source": [
    "from util.solution_wrangler import get_dual_df\n",
    "dual_df = get_dual_df(mdl)\n",
    "display(dual_df.tail(5))"
   ]
  },
  {
   "cell_type": "code",
   "execution_count": null,
   "metadata": {},
   "outputs": [],
   "source": [
    "# display(dual_df.loc[dual_df.bmpshortname == 'HRTill'])\n",
    "# display(dual_df.tail(20))"
   ]
  },
  {
   "cell_type": "code",
   "execution_count": null,
   "metadata": {},
   "outputs": [],
   "source": [
    "# tempdf_withduals = merged_df.merge(dual_df, how='left',\n",
    "#                                    on=['bmpshortname', 'landriversegment', 'loadsource'])\n",
    "# display(tempdf_withduals.head(30))"
   ]
  },
  {
   "cell_type": "markdown",
   "metadata": {},
   "source": [
    "## Visualize"
   ]
  },
  {
   "cell_type": "code",
   "execution_count": null,
   "metadata": {},
   "outputs": [],
   "source": [
    "dual_df[(dual_df['bmpshortname']=='ConPlan')]\n",
    "# dual_df.shape\n",
    "# merged_df.shape\n",
    "display(dual_df.head(10))\n",
    "display(dual_df.bmpshortname.unique())"
   ]
  },
  {
   "cell_type": "code",
   "execution_count": null,
   "metadata": {},
   "outputs": [],
   "source": [
    "# ---- Make Dual Figure ----\n",
    "# # zL_df_filtered = merged_df.loc[abs(merged_df['zL'])>0.45,:].copy()\n",
    "\n",
    "dual_df_nonzeros = merged_df.merge(dual_df, how='left',\n",
    "                       on=['bmpshortname', 'landriversegment', 'loadsource'],\n",
    "                       sort=False)\n",
    "\n",
    "keystrs = [str([x, y]) for x, y in zip(dual_df_nonzeros['bmpshortname'], dual_df_nonzeros['loadsource'])]\n",
    "# Make Figure\n",
    "fig = plt.figure(figsize=(10, 4))\n",
    "rects = plt.barh(y=keystrs, width=dual_df_nonzeros['dual'])\n",
    "ax = plt.gca()\n",
    "\n",
    "ax.set_position([0.3,0.1,0.5,0.8])"
   ]
  },
  {
   "cell_type": "code",
   "execution_count": null,
   "metadata": {},
   "outputs": [],
   "source": [
    "# ---- Make zL Figure ----\n",
    "# # zL_df_filtered = merged_df.loc[abs(merged_df['zL'])>0.45,:].copy()\n",
    "# keystrs = [str([x, y]) for x, y in zip(merged_df['bmpshortname'], merged_df['loadsource'])]\n",
    "# # Make Figure\n",
    "# fig = plt.figure(figsize=(10, 4))\n",
    "# rects = plt.barh(y=keystrs, width=merged_df['zL'])\n",
    "# ax = plt.gca()\n",
    "\n",
    "# ax.set_position([0.3,0.1,0.5,0.8])\n",
    "\n",
    "\n",
    "# filenamestr = ''.join(['output/loadobj_zL_costbound', costboundstr, '_', solvername, '_',\n",
    "#                        datetime.now().strftime('%Y-%m-%d_%H%M%S'),\n",
    "#                        '.png'])\n",
    "# plt.savefig(os.path.join(projectpath, filenamestr))\n",
    "\n",
    "# ---- Make zL Figure ----\n",
    "filenamestr = ''.join(['output/loadobj_zL_costbound', costboundstr, '_', solvername, '_',\n",
    "                       datetime.now().strftime('%Y-%m-%d_%H%M%S'),\n",
    "                       '.png'])\n",
    "savefilepathandname = os.path.join(projectpath, filenamestr)\n",
    "\n",
    "zL_bars(df=merged_df, instance=mdl,\n",
    "        savefig=True, savefilepathandname=savefilepathandname)"
   ]
  },
  {
   "cell_type": "code",
   "execution_count": null,
   "metadata": {},
   "outputs": [],
   "source": [
    "# ---- Acres Figure ----\n",
    "sorteddf_byacres = merged_df.sort_values(by='acres')\n",
    "\n",
    "filenamestr = ''.join(['output/loadobj_x_costbound', costboundstr, '_', solvername, '_',\n",
    "                       datetime.now().strftime('%Y-%m-%d_%H%M%S'), '.png'])\n",
    "savefilepathandname = os.path.join(projectpath, filenamestr)\n",
    "\n",
    "objstr = ''.join(['Objective is: ', str(round(oe.value(mdl.PercentReduction['N']),2))])\n",
    "coststr = ''.join(['Total cost is: ', str(round(oe.value(mdl.Total_Cost.body),1))])\n",
    "titlestr = '\\n'.join([objstr, coststr, 'labels are (cost per unit, total bmp instance cost)'])\n",
    "\n",
    "acres_bars(df=sorteddf_byacres, instance=mdl, titlestr=titlestr,\n",
    "           savefig=True, savefilepathandname=savefilepathandname)"
   ]
  },
  {
   "cell_type": "markdown",
   "metadata": {},
   "source": [
    "## Gradient, Jacobian, Hessian"
   ]
  },
  {
   "cell_type": "code",
   "execution_count": null,
   "metadata": {},
   "outputs": [],
   "source": [
    "gjh_filename, g = gjh_solve(instance=mdl,\n",
    "                            keepfiles=True,\n",
    "                            amplenv=ampl,\n",
    "                            basegjhpath=os.getcwd())\n",
    "\n",
    "g_df = make_df(instance=mdl, filterbydf=merged_df, g=g)\n",
    "\n",
    "g_df = sorteddf_byacres.merge(g_df, how='left',\n",
    "                              on=['bmpshortname', 'landriversegment', 'loadsource'],\n",
    "                              sort=False)"
   ]
  },
  {
   "cell_type": "code",
   "execution_count": null,
   "metadata": {},
   "outputs": [],
   "source": [
    "# ---- Make gradient Figure ----\n",
    "# g_df_filtered = g_df.loc[abs(g_df['g'])>0.001,:].copy()\n",
    "g_df_filtered = g_df\n",
    "# sorteddf = g_df_filtered.sort_values(by='g')\n",
    "# sorteddf_byacres\n",
    "\n",
    "# sorteddf_byacres\n",
    "# g_df = g_df.merge(sorteddf_byacres, how='right',\n",
    "#                on=['bmpshortname', 'landriversegment', 'loadsource'])\n",
    "\n",
    "keystrs = [str([x, y]) for x, y in zip(g_df_filtered['bmpshortname'], g_df_filtered['loadsource'])]\n",
    "# Make Figure\n",
    "fig = plt.figure(figsize=(10, 4))\n",
    "rects = plt.barh(y=keystrs, width=g_df_filtered['g'])\n",
    "ax = plt.gca()\n",
    "\n",
    "ax.set_position([0.3,0.1,0.5,0.8])\n",
    "\n",
    "\n",
    "filenamestr = ''.join(['output/loadobj_g_costbound', costboundstr, '_', solvername, '_',\n",
    "                       datetime.now().strftime('%Y-%m-%d_%H%M%S'),\n",
    "                       '.png'])\n",
    "plt.savefig(os.path.join(projectpath, filenamestr))"
   ]
  },
  {
   "cell_type": "markdown",
   "metadata": {},
   "source": [
    "## Use the IPOPT derivative test"
   ]
  },
  {
   "cell_type": "code",
   "execution_count": null,
   "metadata": {},
   "outputs": [],
   "source": [
    "solver = SolverFactory(solvername)\n",
    "\n",
    "# Using the 'ipopt.opt' options file if in this same directory\n",
    "\n",
    "mdl.jac_g = oe.Suffix(direction=oe.Suffix.IMPORT)\n",
    "mdl.grad_f = oe.Suffix(direction=oe.Suffix.IMPORT)\n",
    "\n",
    "results = solver.solve(mdl, tee=True, symbolic_solver_labels=True, keepfiles=True,\n",
    "                       logfile='logfile_loadobjective_derivativetest.log')"
   ]
  },
  {
   "cell_type": "code",
   "execution_count": null,
   "metadata": {},
   "outputs": [],
   "source": [
    "mdl.grad_f.pprint()"
   ]
  },
  {
   "cell_type": "code",
   "execution_count": null,
   "metadata": {},
   "outputs": [],
   "source": [
    "mdl.x.pprint()"
   ]
  },
  {
   "cell_type": "code",
   "execution_count": null,
   "metadata": {},
   "outputs": [],
   "source": []
  }
 ],
 "metadata": {
  "kernelspec": {
   "display_name": "Python [conda env:OptSubProblem]",
   "language": "python",
   "name": "conda-env-OptSubProblem-py"
  },
  "language_info": {
   "codemirror_mode": {
    "name": "ipython",
    "version": 3
   },
   "file_extension": ".py",
   "mimetype": "text/x-python",
   "name": "python",
   "nbconvert_exporter": "python",
   "pygments_lexer": "ipython3",
   "version": "3.6.6"
  }
 },
 "nbformat": 4,
 "nbformat_minor": 2
}
