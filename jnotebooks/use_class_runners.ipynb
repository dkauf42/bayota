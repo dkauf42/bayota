{
 "cells": [
  {
   "cell_type": "code",
   "execution_count": 2,
   "metadata": {},
   "outputs": [],
   "source": [
    "_project_root = '/Users/Danny/Desktop/CATEGORIES/CAREER_MANAGEMENT/' \\\n",
    "        'CRC_ResearchScientist_Optimization/Optimization_Tool/' \\\n",
    "        '2_ExperimentFolder/bayota/'\n",
    "_package_root = '/Users/Danny/Desktop/CATEGORIES/CAREER_MANAGEMENT/' \\\n",
    "        'CRC_ResearchScientist_Optimization/Optimization_Tool/' \\\n",
    "        '2_ExperimentFolder/bayota/efficiencysubproblem/'\n",
    "import sys\n",
    "if _project_root not in sys.path:\n",
    "    sys.path.append(_project_root)  # allow this notebook to find equal-level directories\n",
    "if _package_root not in sys.path:\n",
    "    sys.path.append(_package_root)  # allow this notebook to find equal-level directories\n",
    "\n",
    "from src.study import Study"
   ]
  },
  {
   "cell_type": "code",
   "execution_count": 7,
   "metadata": {},
   "outputs": [
    {
     "name": "stdout",
     "output_type": "stream",
     "text": [
      "DataLoader.init(): LRsegs: ['N24009XL3_4950_0000', 'N24009XL3_4713_0000', 'N24009XL3_4951_0000', 'N24009XL3_4952_0000', 'N24009XL0_5350_0000', 'N24009XL0_4954_0000', 'N24009XL0_5348_0000', 'N24009WL0_4772_0000', 'N24009WL0_4920_0000', 'N24009WL0_4921_0000', 'N24009WL0_4922_0000', 'N24009WL0_4925_0000', 'N24009WL0_4923_0000', 'N24009XL0_5320_0001', 'N24009XL0_5341_0000', 'N24009XL0_5345_0000', 'N24009XL0_5346_0000', 'N24009XL0_5342_0000', 'N24009XL0_5343_0000']\n",
      "*model instantiation done* <- it took 16.939660 seconds>\n"
     ]
    }
   ],
   "source": [
    "s = Study(objectivetype='costmin',\n",
    "          geoscale='county', geoentities=['Calvert, MD'],\n",
    "          baseconstraint=3)"
   ]
  },
  {
   "cell_type": "code",
   "execution_count": 4,
   "metadata": {},
   "outputs": [
    {
     "name": "stdout",
     "output_type": "stream",
     "text": [
      "Solver log file: 'logfile_loadobjective.log'\n",
      "Solver solution file: '/var/folders/qx/2v7d4gls4d10zzr_ptplrx240000gr/T/tmp73braluo.pyomo.sol'\n",
      "Solver problem files: ('/var/folders/qx/2v7d4gls4d10zzr_ptplrx240000gr/T/tmp73braluo.pyomo.nl',)\n",
      "Ipopt 3.12.8: \n",
      "\n",
      "******************************************************************************\n",
      "This program contains Ipopt, a library for large-scale nonlinear optimization.\n",
      " Ipopt is released as open source code under the Eclipse Public License (EPL).\n",
      "         For more information visit http://projects.coin-or.org/Ipopt\n",
      "******************************************************************************\n",
      "\n",
      "This is Ipopt version 3.12.8, running with linear solver mumps.\n",
      "NOTE: Other linear solvers might be more efficient (see Ipopt documentation).\n",
      "\n",
      "Number of nonzeros in equality constraint Jacobian...:        0\n",
      "Number of nonzeros in inequality constraint Jacobian.:     2474\n",
      "Number of nonzeros in Lagrangian Hessian.............:     5278\n",
      "\n",
      "Total number of variables............................:     1339\n",
      "                     variables with only lower bounds:     1339\n",
      "                variables with lower and upper bounds:        0\n",
      "                     variables with only upper bounds:        0\n",
      "Total number of equality constraints.................:        0\n",
      "Total number of inequality constraints...............:     1108\n",
      "        inequality constraints with only lower bounds:        1\n",
      "   inequality constraints with lower and upper bounds:        0\n",
      "        inequality constraints with only upper bounds:     1107\n",
      "\n",
      "iter    objective    inf_pr   inf_du lg(mu)  ||d||  lg(rg) alpha_du alpha_pr  ls\n",
      "   0  1.6347641e+04 4.99e+00 6.34e+01  -1.0 0.00e+00    -  0.00e+00 0.00e+00   0\n",
      "   1  7.5437095e+03 4.99e+00 6.13e+01  -1.0 9.64e+00    -  3.05e-02 1.10e-02f  1\n",
      "   2  5.1504624e+03 4.99e+00 5.31e+01  -1.0 9.74e+00    -  9.70e-02 3.55e-02f  1\n",
      "   3  5.2542175e+03 4.99e+00 4.25e+01  -1.0 1.01e+01    -  9.52e-01 6.64e-02f  1\n",
      "   4  5.3144366e+03 4.99e+00 4.25e+01  -1.0 2.99e+02    -  2.63e-04 1.02e-03f  1\n",
      "   5  1.0835379e+04 2.72e+00 9.54e+02  -1.0 4.02e+03    -  4.14e-05 4.56e-01f  1\n",
      "   6  1.1612631e+04 1.52e+00 5.31e+02  -1.0 1.74e+03    -  1.95e-01 4.39e-01h  1\n",
      "   7  1.1994884e+04 1.15e+00 4.15e+02  -1.0 9.97e+02    -  8.19e-01 2.44e-01h  1\n",
      "   8  1.2749906e+04 2.85e-01 1.03e+02  -1.0 6.10e+02    -  6.47e-01 7.49e-01h  1\n",
      "   9  1.2743376e+04 2.16e-01 1.72e+02  -1.0 9.53e+02    -  9.93e-01 2.32e-01h  1\n",
      "iter    objective    inf_pr   inf_du lg(mu)  ||d||  lg(rg) alpha_du alpha_pr  ls\n",
      "  10  1.2815096e+04 8.29e-04 4.24e+01  -1.0 6.39e+02    -  1.00e+00 9.01e-01h  1\n",
      "  11  1.2834575e+04 7.06e-04 2.10e+03  -1.0 8.12e+02    -  1.00e+00 1.88e-01h  1\n",
      "  12  1.2851521e+04 8.68e-05 6.61e+02  -1.0 6.46e+02    -  1.00e+00 8.73e-01h  1\n",
      "  13  1.2852358e+04 6.94e-05 1.97e+04  -1.0 8.40e+01    -  1.00e+00 2.23e-01h  1\n",
      "  14  1.2854245e+04 8.34e-06 6.35e+03  -1.0 6.52e+01    -  1.00e+00 8.76e-01h  1\n",
      "  15  1.2854327e+04 6.64e-06 1.98e+05  -1.0 8.07e+00    -  1.00e+00 2.25e-01h  1\n",
      "  16  1.2854514e+04 6.36e-07 5.12e+04  -1.0 6.25e+00    -  1.00e+00 8.99e-01h  1\n",
      "  17  1.2854521e+04 5.04e-07 1.81e+06  -1.0 6.29e-01    -  1.00e+00 2.39e-01h  1\n",
      "  18  1.2854537e+04 0.00e+00 1.00e-06  -1.0 4.78e-01    -  1.00e+00 1.00e+00h  1\n",
      "  19  1.2293619e+03 0.00e+00 3.01e+06  -8.6 4.30e+01    -  4.06e-01 9.98e-01f  1\n",
      "iter    objective    inf_pr   inf_du lg(mu)  ||d||  lg(rg) alpha_du alpha_pr  ls\n",
      "  20  3.4160671e+02 0.00e+00 2.78e+06  -8.6 1.22e+01    -  8.06e-02 9.99e-01f  1\n",
      "  21  3.3408454e+02 0.00e+00 9.95e+05  -8.6 5.87e-01    -  6.42e-01 1.00e+00f  1\n",
      "  22  5.1321307e+01 0.00e+00 9.46e+05  -8.6 4.07e+00    -  4.96e-02 1.00e+00f  1\n",
      "  23  5.0759451e+01 0.00e+00 1.78e+05  -8.6 1.92e-01    -  8.12e-01 1.00e+00f  1\n",
      "  24  8.8609551e-03 0.00e+00 1.69e+05  -8.6 7.32e-01    -  5.13e-02 1.00e+00f  1\n",
      "  25 -6.5298820e-03 0.00e+00 1.05e+02  -8.6 9.96e-03    -  9.99e-01 1.00e+00f  1\n",
      "  26 -1.0535898e-02 0.00e+00 3.04e+01  -8.6 9.88e-04    -  7.11e-01 1.00e+00f  1\n",
      "  27 -1.4400953e-02 0.00e+00 1.91e+01  -8.6 8.30e-04    -  3.72e-01 1.00e+00f  1\n",
      "  28 -1.5712921e-02 0.00e+00 8.06e+00  -8.6 1.03e-03    -  5.79e-01 1.00e+00f  1\n",
      "  29 -1.5810257e-02 0.00e+00 3.32e+00  -8.6 1.04e-02    -  5.88e-01 1.00e+00h  1\n",
      "iter    objective    inf_pr   inf_du lg(mu)  ||d||  lg(rg) alpha_du alpha_pr  ls\n",
      "  30 -1.5889898e-02 0.00e+00 5.72e-01  -8.6 8.34e-08  -4.0 8.28e-01 1.00e+00h  1\n",
      "  31 -1.5889536e-02 0.00e+00 1.08e-13  -8.6 4.00e-09  -4.5 1.00e+00 1.00e+00h  1\n",
      "\n",
      "Number of Iterations....: 31\n",
      "\n",
      "                                   (scaled)                 (unscaled)\n",
      "Objective...............:  -1.1178776997028555e-04   -1.5889535981130382e-02\n",
      "Dual infeasibility......:   1.0828837826437621e-13    1.5392131744174085e-11\n",
      "Constraint violation....:   0.0000000000000000e+00    0.0000000000000000e+00\n",
      "Complementarity.........:   2.6682870695180214e-09    3.7927085771870546e-07\n",
      "Overall NLP error.......:   2.6682870695180214e-09    3.7927085771870546e-07\n",
      "\n",
      "\n",
      "Number of objective function evaluations             = 32\n",
      "Number of objective gradient evaluations             = 32\n",
      "Number of equality constraint evaluations            = 0\n",
      "Number of inequality constraint evaluations          = 32\n",
      "Number of equality constraint Jacobian evaluations   = 0\n",
      "Number of inequality constraint Jacobian evaluations = 32\n",
      "Number of Lagrangian Hessian evaluations             = 31\n",
      "Total CPU secs in IPOPT (w/o function evaluations)   =      0.379\n",
      "Total CPU secs in NLP function evaluations           =      0.005\n",
      "\n",
      "EXIT: Optimal Solution Found.\n",
      "\n",
      "Objective is: 0\n"
     ]
    }
   ],
   "source": [
    "fname, df = s.go()"
   ]
  },
  {
   "cell_type": "code",
   "execution_count": null,
   "metadata": {},
   "outputs": [],
   "source": [
    "print(s)"
   ]
  },
  {
   "cell_type": "code",
   "execution_count": null,
   "metadata": {},
   "outputs": [],
   "source": [
    "s = Study(objectivetype='costmin',\n",
    "          geoscale='lrseg', geoentities=['N51133RL0_6530_0000'],\n",
    "          baseconstraint=12)"
   ]
  },
  {
   "cell_type": "code",
   "execution_count": null,
   "metadata": {
    "scrolled": true
   },
   "outputs": [],
   "source": [
    "print(s)"
   ]
  },
  {
   "cell_type": "code",
   "execution_count": null,
   "metadata": {},
   "outputs": [],
   "source": [
    "output_file_names, alldfs = s.go(constraints=)\n",
    "# output_file_names, alldfs = s.go_constraintsequence(constraints=[5, 12])"
   ]
  },
  {
   "cell_type": "code",
   "execution_count": null,
   "metadata": {},
   "outputs": [],
   "source": []
  }
 ],
 "metadata": {
  "kernelspec": {
   "display_name": "Python [conda env:OptSubProblem]",
   "language": "python",
   "name": "conda-env-OptSubProblem-py"
  },
  "language_info": {
   "codemirror_mode": {
    "name": "ipython",
    "version": 3
   },
   "file_extension": ".py",
   "mimetype": "text/x-python",
   "name": "python",
   "nbconvert_exporter": "python",
   "pygments_lexer": "ipython3",
   "version": "3.6.6"
  }
 },
 "nbformat": 4,
 "nbformat_minor": 2
}
