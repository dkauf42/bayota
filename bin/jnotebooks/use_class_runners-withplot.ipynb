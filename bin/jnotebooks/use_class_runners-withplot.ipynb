{
 "cells": [
  {
   "cell_type": "code",
   "execution_count": 1,
   "metadata": {},
   "outputs": [
    {
     "name": "stdout",
     "output_type": "stream",
     "text": [
      "user_config is /Users/Danny/.config/Danny/bayota_user_config.ini\n",
      "outputdir_top_level is /Users/Danny/.config/Danny/bayota_user_config.ini\n",
      "outputdir_top_level is /Users/Danny/.config/Danny/bayota_user_config.ini\n"
     ]
    }
   ],
   "source": [
    "_project_root = '/Users/Danny/Desktop/CATEGORIES/CAREER_MANAGEMENT/' \\\n",
    "        'CRC_ResearchScientist_Optimization/Optimization_Tool/' \\\n",
    "        '2_ExperimentFolder/bayota/'\n",
    "_package_root = '/Users/Danny/Desktop/CATEGORIES/CAREER_MANAGEMENT/' \\\n",
    "        'CRC_ResearchScientist_Optimization/Optimization_Tool/' \\\n",
    "        '2_ExperimentFolder/bayota/efficiencysubproblem/'\n",
    "import sys\n",
    "if _project_root not in sys.path:\n",
    "    sys.path.append(_project_root)  # allow this notebook to find equal-level directories\n",
    "if _package_root not in sys.path:\n",
    "    sys.path.append(_package_root)  # allow this notebook to find equal-level directories\n",
    "\n",
    "from src.study import Study\n",
    "from src.solver_handling.solvehandler import SolveHandler\n",
    "\n",
    "import pyomo.environ as oe"
   ]
  },
  {
   "cell_type": "code",
   "execution_count": 2,
   "metadata": {},
   "outputs": [
    {
     "name": "stdout",
     "output_type": "stream",
     "text": [
      "INFO     **********************************************\n",
      "INFO     *********** Study creation started ***********\n",
      "INFO     ***********   [scale=lrseg]\n",
      "INFO     ***********   [entities=['N51133RL0_6450_0000']]\n",
      "INFO     **********************************************\n",
      "INFO     LRsegs loaded: ['N51133RL0_6450_0000']\n",
      "INFO     *model instantiation done* <- it took 2.855308 seconds>\n"
     ]
    }
   ],
   "source": [
    "\n",
    "# N51133RL0_6450_0000 = Northumberland County, VA\n",
    "# N24031PM0_4640_4820 = Cabin John Creek, in Montgomery County\n",
    "\n",
    "s = Study(objectivetype='costmin',\n",
    "          geoscale='lrseg', geoentities=['N51133RL0_6450_0000'])"
   ]
  },
  {
   "cell_type": "code",
   "execution_count": null,
   "metadata": {},
   "outputs": [],
   "source": [
    "for k,v in s."
   ]
  },
  {
   "cell_type": "code",
   "execution_count": null,
   "metadata": {},
   "outputs": [],
   "source": [
    "with open('model_pprint_output_20181019.txt', 'w') as f:\n",
    "    f.write(\"My description of the instance!\\n\")\n",
    "    s.modelhandler.model.pprint(ostream=f)"
   ]
  },
  {
   "cell_type": "code",
   "execution_count": 3,
   "metadata": {},
   "outputs": [
    {
     "name": "stdout",
     "output_type": "stream",
     "text": [
      "Solver log file: 'logfile_loadobjective.log'\n",
      "Solver solution file: '/var/folders/qx/2v7d4gls4d10zzr_ptplrx240000gr/T/tmp_2frzg95.pyomo.sol'\n",
      "Solver problem files: ('/var/folders/qx/2v7d4gls4d10zzr_ptplrx240000gr/T/tmp_2frzg95.pyomo.nl',)\n",
      "Ipopt 3.12.8: \n",
      "\n",
      "******************************************************************************\n",
      "This program contains Ipopt, a library for large-scale nonlinear optimization.\n",
      " Ipopt is released as open source code under the Eclipse Public License (EPL).\n",
      "         For more information visit http://projects.coin-or.org/Ipopt\n",
      "******************************************************************************\n",
      "\n",
      "This is Ipopt version 3.12.8, running with linear solver mumps.\n",
      "NOTE: Other linear solvers might be more efficient (see Ipopt documentation).\n",
      "\n",
      "Number of nonzeros in equality constraint Jacobian...:        0\n",
      "Number of nonzeros in inequality constraint Jacobian.:     2474\n",
      "Number of nonzeros in Lagrangian Hessian.............:     5278\n",
      "\n",
      "Total number of variables............................:     1339\n",
      "                     variables with only lower bounds:     1339\n",
      "                variables with lower and upper bounds:        0\n",
      "                     variables with only upper bounds:        0\n",
      "Total number of equality constraints.................:        0\n",
      "Total number of inequality constraints...............:     1108\n",
      "        inequality constraints with only lower bounds:        1\n",
      "   inequality constraints with lower and upper bounds:        0\n",
      "        inequality constraints with only upper bounds:     1107\n",
      "\n",
      "iter    objective    inf_pr   inf_du lg(mu)  ||d||  lg(rg) alpha_du alpha_pr  ls\n",
      "   0  1.6347641e+04 4.98e+00 6.34e+01  -1.0 0.00e+00    -  0.00e+00 0.00e+00   0\n",
      "   1  7.5436213e+03 4.98e+00 6.13e+01  -1.0 9.65e+00    -  3.05e-02 1.10e-02f  1\n",
      "   2  5.1512811e+03 4.98e+00 5.31e+01  -1.0 9.73e+00    -  9.70e-02 3.55e-02f  1\n",
      "   3  5.3081261e+03 4.97e+00 4.11e+01  -1.0 1.01e+01    -  9.64e-01 9.87e-02f  1\n",
      "   4  5.3840158e+03 4.97e+00 4.11e+01  -1.0 1.62e+02    -  5.60e-04 1.50e-03f  1\n",
      "   5  8.5077236e+03 3.92e+00 3.65e+02  -1.0 3.74e+03    -  4.32e-05 2.11e-01f  1\n",
      "   6  8.9068013e+03 3.87e+00 3.77e+02  -1.0 1.04e+03    -  4.74e-03 1.23e-02f  1\n",
      "   7  1.1135111e+04 2.26e+00 2.25e+02  -1.0 3.46e+03    -  7.15e-03 4.17e-01h  1\n",
      "   8  1.2164973e+04 1.27e+00 1.23e+02  -1.0 1.48e+03    -  2.24e-01 4.38e-01h  1\n",
      "   9  1.2475392e+04 9.65e-01 9.99e+01  -1.0 8.78e+02    -  5.21e-01 2.38e-01h  1\n",
      "iter    objective    inf_pr   inf_du lg(mu)  ||d||  lg(rg) alpha_du alpha_pr  ls\n",
      "  10  1.2902635e+04 3.02e-01 3.12e+01  -1.0 5.85e+02    -  6.57e-01 6.83e-01h  1\n",
      "  11  1.2876934e+04 2.17e-01 1.48e+02  -1.0 9.93e+02    -  9.67e-01 2.65e-01h  1\n",
      "  12  1.2890491e+04 3.30e-03 1.57e+02  -1.0 2.82e+03    -  1.00e+00 6.12e-01h  1\n",
      "  13  1.2895384e+04 1.17e-03 2.85e+02  -1.0 2.31e+03    -  1.00e+00 6.52e-01h  1\n",
      "  14  1.2897367e+04 2.18e-04 4.35e+02  -1.0 3.21e+02    -  1.00e+00 8.01e-01h  1\n",
      "  15  1.2898678e+04 1.68e-04 7.27e+03  -1.0 1.03e+02    -  1.00e+00 2.73e-01h  1\n",
      "  16  1.2899121e+04 2.14e-05 2.75e+03  -1.0 7.51e+01    -  1.00e+00 8.65e-01h  1\n",
      "  17  1.2899238e+04 1.73e-05 7.55e+04  -1.0 1.01e+01    -  1.00e+00 2.39e-01h  1\n",
      "  18  1.2899289e+04 2.04e-06 2.54e+04  -1.0 7.70e+00    -  1.00e+00 8.74e-01h  1\n",
      "  19  1.2899301e+04 1.64e-06 6.98e+05  -1.0 9.73e-01    -  1.00e+00 2.46e-01h  1\n",
      "iter    objective    inf_pr   inf_du lg(mu)  ||d||  lg(rg) alpha_du alpha_pr  ls\n",
      "  20  1.2899306e+04 3.57e-08 6.31e+04  -1.0 7.34e-01    -  1.00e+00 9.64e-01h  1\n",
      "  21  1.2899307e+04 3.51e-08 5.74e+06  -1.0 2.65e-02    -  1.00e+00 7.69e-02f  3\n",
      "  22  1.2899308e+04 0.00e+00 1.00e-06  -1.0 2.44e-02    -  1.00e+00 1.00e+00h  1\n",
      "  23  1.2538582e+03 0.00e+00 5.90e+06  -8.6 7.21e+01    -  3.89e-01 9.99e-01f  1\n",
      "  24  3.5159312e+02 0.00e+00 5.38e+06  -8.6 1.25e+01    -  8.96e-02 9.99e-01f  1\n",
      "  25  3.4399352e+02 0.00e+00 1.95e+06  -8.6 6.18e-01    -  6.37e-01 1.00e+00f  1\n",
      "  26  5.2707759e+01 0.00e+00 1.85e+06  -8.6 4.20e+00    -  5.06e-02 1.00e+00f  1\n",
      "  27  5.2246958e+01 0.00e+00 3.49e+05  -8.6 1.04e-01    -  8.12e-01 1.00e+00f  1\n",
      "  28 -3.8207419e-03 0.00e+00 3.32e+05  -8.6 7.55e-01    -  4.89e-02 1.00e+00f  1\n",
      "  29 -7.6250762e-03 0.00e+00 4.28e+01  -8.6 1.50e-03    -  1.00e+00 1.00e+00f  1\n",
      "iter    objective    inf_pr   inf_du lg(mu)  ||d||  lg(rg) alpha_du alpha_pr  ls\n",
      "  30 -1.3038638e-02 0.00e+00 3.18e+01  -8.6 7.76e-05  -4.0 2.56e-01 1.00e+00f  1\n",
      "  31 -1.5133143e-02 0.00e+00 1.95e+01  -8.6 2.13e-07  -4.5 3.89e-01 9.51e-01f  1\n",
      "  32 -1.5716802e-02 0.00e+00 5.32e+00  -8.6 1.64e-07  -5.0 7.27e-01 1.00e+00f  1\n",
      "  33 -1.5842427e-02 0.00e+00 3.26e+00  -8.6 1.99e-07  -5.4 3.88e-01 1.00e+00h  1\n",
      "  34 -1.5889523e-02 0.00e+00 2.39e-01  -8.6 5.91e-07  -5.9 9.26e-01 1.00e+00h  1\n",
      "  35 -1.5889494e-02 0.00e+00 7.64e-13  -8.6 1.80e-06  -6.4 1.00e+00 1.00e+00h  1\n",
      "\n",
      "Number of Iterations....: 35\n",
      "\n",
      "                                   (scaled)                 (unscaled)\n",
      "Objective...............:  -1.1178747551216134e-04   -1.5889494126793715e-02\n",
      "Dual infeasibility......:   7.6379999373397967e-13    1.0856668386934661e-10\n",
      "Constraint violation....:   0.0000000000000000e+00    0.0000000000000000e+00\n",
      "Complementarity.........:   2.5968317734305143e-09    3.6911418764176801e-07\n",
      "Overall NLP error.......:   2.5968317734305143e-09    3.6911418764176801e-07\n",
      "\n",
      "\n",
      "Number of objective function evaluations             = 38\n",
      "Number of objective gradient evaluations             = 36\n",
      "Number of equality constraint evaluations            = 0\n",
      "Number of inequality constraint evaluations          = 38\n",
      "Number of equality constraint Jacobian evaluations   = 0\n",
      "Number of inequality constraint Jacobian evaluations = 36\n",
      "Number of Lagrangian Hessian evaluations             = 35\n",
      "Total CPU secs in IPOPT (w/o function evaluations)   =      0.132\n",
      "Total CPU secs in NLP function evaluations           =      0.005\n",
      "\n",
      "EXIT: Optimal Solution Found.\n",
      "INFO: *solving done* <- it took 0.350479 seconds>\n",
      "INFO     *solving done* <- it took 0.350479 seconds>\n"
     ]
    },
    {
     "ename": "KeyError",
     "evalue": "\"Index 'N' is not valid for indexed component 'originalload'\"",
     "output_type": "error",
     "traceback": [
      "\u001b[0;31m---------------------------------------------------------------------------\u001b[0m",
      "\u001b[0;31mKeyError\u001b[0m                                  Traceback (most recent call last)",
      "\u001b[0;32m<ipython-input-3-17bcc7138c2f>\u001b[0m in \u001b[0;36m<module>\u001b[0;34m()\u001b[0m\n\u001b[1;32m      3\u001b[0m \u001b[0mmdf\u001b[0m\u001b[0;34m,\u001b[0m\u001b[0;34m\u001b[0m\u001b[0m\n\u001b[1;32m      4\u001b[0m \u001b[0msolution_objective\u001b[0m\u001b[0;34m,\u001b[0m\u001b[0;34m\u001b[0m\u001b[0m\n\u001b[0;32m----> 5\u001b[0;31m feasible_solution) = s.go(constraint=5)\n\u001b[0m",
      "\u001b[0;32m~/Desktop/CATEGORIES/CAREER_MANAGEMENT/CRC_ResearchScientist_Optimization/Optimization_Tool/2_ExperimentFolder/bayota/efficiencysubproblem/src/study.py\u001b[0m in \u001b[0;36mgo\u001b[0;34m(self, constraint, fileprintlevel)\u001b[0m\n\u001b[1;32m    169\u001b[0m                 \u001b[0;32mbreak\u001b[0m\u001b[0;34m\u001b[0m\u001b[0m\n\u001b[1;32m    170\u001b[0m \u001b[0;34m\u001b[0m\u001b[0m\n\u001b[0;32m--> 171\u001b[0;31m             \u001b[0mmerged_df\u001b[0m\u001b[0;34m[\u001b[0m\u001b[0;34m'originalload'\u001b[0m\u001b[0;34m]\u001b[0m \u001b[0;34m=\u001b[0m \u001b[0moe\u001b[0m\u001b[0;34m.\u001b[0m\u001b[0mvalue\u001b[0m\u001b[0;34m(\u001b[0m\u001b[0mmdl\u001b[0m\u001b[0;34m.\u001b[0m\u001b[0moriginalload\u001b[0m\u001b[0;34m[\u001b[0m\u001b[0;34m'N'\u001b[0m\u001b[0;34m]\u001b[0m\u001b[0;34m)\u001b[0m\u001b[0;34m\u001b[0m\u001b[0m\n\u001b[0m\u001b[1;32m    172\u001b[0m             \u001b[0mmerged_df\u001b[0m\u001b[0;34m[\u001b[0m\u001b[0;34m'N_pounds_reduced'\u001b[0m\u001b[0;34m]\u001b[0m \u001b[0;34m=\u001b[0m \u001b[0;34m(\u001b[0m\u001b[0moe\u001b[0m\u001b[0;34m.\u001b[0m\u001b[0mvalue\u001b[0m\u001b[0;34m(\u001b[0m\u001b[0mmdl\u001b[0m\u001b[0;34m.\u001b[0m\u001b[0mTargetPercentReduction\u001b[0m\u001b[0;34m[\u001b[0m\u001b[0;34m'N'\u001b[0m\u001b[0;34m]\u001b[0m\u001b[0;34m.\u001b[0m\u001b[0mbody\u001b[0m\u001b[0;34m)\u001b[0m \u001b[0;34m/\u001b[0m \u001b[0;36m100\u001b[0m\u001b[0;34m)\u001b[0m \u001b[0;34m*\u001b[0m\u001b[0;31m \u001b[0m\u001b[0;31m\\\u001b[0m\u001b[0;34m\u001b[0m\u001b[0m\n\u001b[1;32m    173\u001b[0m                                             \u001b[0moe\u001b[0m\u001b[0;34m.\u001b[0m\u001b[0mvalue\u001b[0m\u001b[0;34m(\u001b[0m\u001b[0mmdl\u001b[0m\u001b[0;34m.\u001b[0m\u001b[0moriginalload\u001b[0m\u001b[0;34m[\u001b[0m\u001b[0;34m'N'\u001b[0m\u001b[0;34m]\u001b[0m\u001b[0;34m)\u001b[0m\u001b[0;34m\u001b[0m\u001b[0m\n",
      "\u001b[0;32m~/anaconda3/envs/OptSubProblem/lib/python3.6/site-packages/pyomo/core/base/indexed_component.py\u001b[0m in \u001b[0;36m__getitem__\u001b[0;34m(self, index)\u001b[0m\n\u001b[1;32m    541\u001b[0m             \u001b[0;32mif\u001b[0m \u001b[0mindex\u001b[0m\u001b[0;34m.\u001b[0m\u001b[0m__class__\u001b[0m \u001b[0;32mis\u001b[0m \u001b[0mEXPR\u001b[0m\u001b[0;34m.\u001b[0m\u001b[0mGetItemExpression\u001b[0m\u001b[0;34m:\u001b[0m\u001b[0;34m\u001b[0m\u001b[0m\n\u001b[1;32m    542\u001b[0m                 \u001b[0;32mreturn\u001b[0m \u001b[0mindex\u001b[0m\u001b[0;34m\u001b[0m\u001b[0m\n\u001b[0;32m--> 543\u001b[0;31m             \u001b[0mindex\u001b[0m \u001b[0;34m=\u001b[0m \u001b[0mself\u001b[0m\u001b[0;34m.\u001b[0m\u001b[0m_validate_index\u001b[0m\u001b[0;34m(\u001b[0m\u001b[0mindex\u001b[0m\u001b[0;34m)\u001b[0m\u001b[0;34m\u001b[0m\u001b[0m\n\u001b[0m\u001b[1;32m    544\u001b[0m             \u001b[0;31m# _processUnhashableIndex could have found a slice, or\u001b[0m\u001b[0;34m\u001b[0m\u001b[0;34m\u001b[0m\u001b[0m\n\u001b[1;32m    545\u001b[0m             \u001b[0;31m# _validate could have found an Ellipsis and returned a\u001b[0m\u001b[0;34m\u001b[0m\u001b[0;34m\u001b[0m\u001b[0m\n",
      "\u001b[0;32m~/anaconda3/envs/OptSubProblem/lib/python3.6/site-packages/pyomo/core/base/indexed_component.py\u001b[0m in \u001b[0;36m_validate_index\u001b[0;34m(self, idx)\u001b[0m\n\u001b[1;32m    693\u001b[0m         raise KeyError(\n\u001b[1;32m    694\u001b[0m             \u001b[0;34m\"Index '%s' is not valid for indexed component '%s'\"\u001b[0m\u001b[0;34m\u001b[0m\u001b[0m\n\u001b[0;32m--> 695\u001b[0;31m             % ( idx, self.name, ))\n\u001b[0m\u001b[1;32m    696\u001b[0m \u001b[0;34m\u001b[0m\u001b[0m\n\u001b[1;32m    697\u001b[0m     \u001b[0;32mdef\u001b[0m \u001b[0m_processUnhashableIndex\u001b[0m\u001b[0;34m(\u001b[0m\u001b[0mself\u001b[0m\u001b[0;34m,\u001b[0m \u001b[0midx\u001b[0m\u001b[0;34m,\u001b[0m \u001b[0m_exception\u001b[0m\u001b[0;34m=\u001b[0m\u001b[0;32mNone\u001b[0m\u001b[0;34m)\u001b[0m\u001b[0;34m:\u001b[0m\u001b[0;34m\u001b[0m\u001b[0m\n",
      "\u001b[0;31mKeyError\u001b[0m: \"Index 'N' is not valid for indexed component 'originalload'\""
     ]
    }
   ],
   "source": [
    "(solver_output_filepaths,\n",
    "solution_csv_filepath,\n",
    "mdf,\n",
    "solution_objective, \n",
    "feasible_solution) = s.go(constraint=5)"
   ]
  },
  {
   "cell_type": "code",
   "execution_count": null,
   "metadata": {},
   "outputs": [],
   "source": [
    "oe.value(s.modelhandler.model.x['HRTill','N42041SL3_2400_2440','nci'])"
   ]
  },
  {
   "cell_type": "code",
   "execution_count": null,
   "metadata": {},
   "outputs": [],
   "source": [
    "feasible_solution"
   ]
  },
  {
   "cell_type": "code",
   "execution_count": null,
   "metadata": {},
   "outputs": [],
   "source": [
    "(solver_output_filepaths,\n",
    "solution_csv_filepath,\n",
    "mdf,\n",
    "solution_objective,\n",
    "feasibility_list)= s.go_constraintsequence(range(3, 4))"
   ]
  },
  {
   "cell_type": "code",
   "execution_count": null,
   "metadata": {},
   "outputs": [],
   "source": [
    "(solver_output_filepaths,\n",
    "solution_csv_filepath,\n",
    "mdf,\n",
    "solution_objective,\n",
    "feasibility_list) = s.go_constraintsequence(range(1, 11))"
   ]
  },
  {
   "cell_type": "code",
   "execution_count": null,
   "metadata": {},
   "outputs": [],
   "source": [
    "feasibility_list"
   ]
  },
  {
   "cell_type": "code",
   "execution_count": null,
   "metadata": {},
   "outputs": [],
   "source": [
    "for k, v in s.modelhandler.model.TargetPercentReduction.items():\n",
    "    print(v)"
   ]
  },
  {
   "cell_type": "code",
   "execution_count": null,
   "metadata": {},
   "outputs": [],
   "source": [
    "oe.value(s.modelhandler.model.tau['N'])\n"
   ]
  },
  {
   "cell_type": "code",
   "execution_count": null,
   "metadata": {},
   "outputs": [],
   "source": [
    "original_load = oe.value(s.modelhandler.model.originalload['N'])\n",
    "\n",
    "percent_reduction = oe.value(s.modelhandler.model.tau['N'])\n",
    "absolute_reduction = (percent_reduction / 100) * original_load\n",
    "\n",
    "display(original_load)\n",
    "display(absolute_reduction)"
   ]
  },
  {
   "cell_type": "code",
   "execution_count": null,
   "metadata": {},
   "outputs": [],
   "source": [
    "s.modelhandler.datahandler."
   ]
  },
  {
   "cell_type": "code",
   "execution_count": null,
   "metadata": {},
   "outputs": [],
   "source": []
  },
  {
   "cell_type": "code",
   "execution_count": null,
   "metadata": {},
   "outputs": [],
   "source": [
    "solver_output_filepaths, solution_csv_filepath, mdf, solution_objective = s.go_constraintsequence(range(1, 21))"
   ]
  },
  {
   "cell_type": "code",
   "execution_count": null,
   "metadata": {},
   "outputs": [],
   "source": [
    "solution_csv_filepath"
   ]
  },
  {
   "cell_type": "code",
   "execution_count": null,
   "metadata": {},
   "outputs": [],
   "source": [
    "import os\n",
    "import pandas as pd\n",
    "import seaborn as sns\n",
    "import plotly.plotly as py\n",
    "import plotly.graph_objs as go\n",
    "%pylab inline\n",
    "from efficiencysubproblem.src.vis.sequence_plot import plotly_costobj\n",
    "from efficiencysubproblem.src.vis.acres_heatmap import heatmap_costobj"
   ]
  },
  {
   "cell_type": "code",
   "execution_count": null,
   "metadata": {},
   "outputs": [],
   "source": [
    "constraintvar = 'tau'\n",
    "from src.solution_handling.solutionhandler import SolutionHandler\n",
    "df_piv = SolutionHandler.make_pivot_from_solution_sequence(solution_csv_filepath=solution_csv_filepath,\n",
    "                                                           constraint_sequencing_var=constraintvar)\n",
    "\n",
    "fig = plotly_costobj(df=df_piv, xname=constraintvar)\n",
    "py.iplot(fig, filename='styled-line')"
   ]
  },
  {
   "cell_type": "code",
   "execution_count": null,
   "metadata": {},
   "outputs": [],
   "source": [
    "# Filepath to save to\n",
    "timestamp = datetime.datetime.now().strftime('%Y-%m-%d_%H%M%S')\n",
    "# filenamestr = ''.join(['output/costobj_heatmap_difstartpoints_', 'ipopt', '_',\n",
    "#                            timestamp, '.png'])\n",
    "filenamestr = ''.join(['output/costobj_heatmap_tausequence_', 'ipopt', '_',\n",
    "                           timestamp, '.png'])\n",
    "savefilepathandname = os.path.join(_package_root, filenamestr)\n",
    "\n",
    "# heatmap_costobj(df=df_piv, savefilepathandname=None, xname='startpointiterate')\n",
    "heatmap_costobj(df=df_piv, figsize=(10,20),\n",
    "                savefilepathandname=savefilepathandname, xname='tau')"
   ]
  },
  {
   "cell_type": "code",
   "execution_count": null,
   "metadata": {},
   "outputs": [],
   "source": []
  }
 ],
 "metadata": {
  "kernelspec": {
   "display_name": "Python [conda env:OptSubProblem]",
   "language": "python",
   "name": "conda-env-OptSubProblem-py"
  },
  "language_info": {
   "codemirror_mode": {
    "name": "ipython",
    "version": 3
   },
   "file_extension": ".py",
   "mimetype": "text/x-python",
   "name": "python",
   "nbconvert_exporter": "python",
   "pygments_lexer": "ipython3",
   "version": "3.6.6"
  }
 },
 "nbformat": 4,
 "nbformat_minor": 2
}
