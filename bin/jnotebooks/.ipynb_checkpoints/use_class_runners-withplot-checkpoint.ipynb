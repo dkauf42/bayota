{
 "cells": [
  {
   "cell_type": "code",
   "execution_count": 1,
   "metadata": {},
   "outputs": [],
   "source": [
    "_project_root = '/Users/Danny/Desktop/CATEGORIES/CAREER_MANAGEMENT/' \\\n",
    "        'CRC_ResearchScientist_Optimization/Optimization_Tool/' \\\n",
    "        '2_ExperimentFolder/bayota/'\n",
    "_package_root = '/Users/Danny/Desktop/CATEGORIES/CAREER_MANAGEMENT/' \\\n",
    "        'CRC_ResearchScientist_Optimization/Optimization_Tool/' \\\n",
    "        '2_ExperimentFolder/bayota/efficiencysubproblem/'\n",
    "import sys\n",
    "if _project_root not in sys.path:\n",
    "    sys.path.append(_project_root)  # allow this notebook to find equal-level directories\n",
    "if _package_root not in sys.path:\n",
    "    sys.path.append(_package_root)  # allow this notebook to find equal-level directories\n",
    "\n",
    "from src.study import Study\n",
    "from src.solver_handling.solvehandler import SolveHandler\n",
    "\n",
    "import pyomo.environ as oe"
   ]
  },
  {
   "cell_type": "code",
   "execution_count": 2,
   "metadata": {},
   "outputs": [
    {
     "name": "stdout",
     "output_type": "stream",
     "text": [
      "INFO     **********************************************\n",
      "INFO     *********** Study creation started ***********\n",
      "INFO     ***********   [scale=lrseg]\n",
      "INFO     ***********   [entities=['N24031PM0_4640_4820']]\n",
      "INFO     **********************************************\n",
      "INFO     LRsegs loaded: ['N24031PM0_4640_4820']\n",
      "INFO     *model instantiation done* <- it took 3.539247 seconds>\n"
     ]
    }
   ],
   "source": [
    "\n",
    "# N51133RL0_6450_0000 = Northumberland County, VA\n",
    "# N24031PM0_4640_4820 = Cabin John Creek, in Montgomery County\n",
    "\n",
    "s = Study(objectivetype='costmin',\n",
    "          geoscale='lrseg', geoentities=['N24031PM0_4640_4820'])"
   ]
  },
  {
   "cell_type": "code",
   "execution_count": null,
   "metadata": {},
   "outputs": [],
   "source": [
    "for k,v in s."
   ]
  },
  {
   "cell_type": "code",
   "execution_count": null,
   "metadata": {},
   "outputs": [],
   "source": [
    "with open('model_pprint_output_20181019.txt', 'w') as f:\n",
    "    f.write(\"My description of the instance!\\n\")\n",
    "    s.modelhandler.model.pprint(ostream=f)"
   ]
  },
  {
   "cell_type": "code",
   "execution_count": 3,
   "metadata": {},
   "outputs": [
    {
     "name": "stdout",
     "output_type": "stream",
     "text": [
      "Ipopt 3.12.8: \n",
      "\n",
      "******************************************************************************\n",
      "This program contains Ipopt, a library for large-scale nonlinear optimization.\n",
      " Ipopt is released as open source code under the Eclipse Public License (EPL).\n",
      "         For more information visit http://projects.coin-or.org/Ipopt\n",
      "******************************************************************************\n",
      "\n",
      "This is Ipopt version 3.12.8, running with linear solver mumps.\n",
      "NOTE: Other linear solvers might be more efficient (see Ipopt documentation).\n",
      "\n",
      "Number of nonzeros in equality constraint Jacobian...:        0\n",
      "Number of nonzeros in inequality constraint Jacobian.:    36278\n",
      "Number of nonzeros in Lagrangian Hessian.............:    77448\n",
      "\n",
      "Total number of variables............................:    20085\n",
      "                     variables with only lower bounds:    20085\n",
      "                variables with lower and upper bounds:        0\n",
      "                     variables with only upper bounds:        0\n",
      "Total number of equality constraints.................:        0\n",
      "Total number of inequality constraints...............:    16606\n",
      "        inequality constraints with only lower bounds:        1\n",
      "   inequality constraints with lower and upper bounds:        0\n",
      "        inequality constraints with only upper bounds:    16605\n",
      "\n",
      "iter    objective    inf_pr   inf_du lg(mu)  ||d||  lg(rg) alpha_du alpha_pr  ls\n",
      "   0  2.4521461e+05 4.99e+00 6.34e+01  -1.0 0.00e+00    -  0.00e+00 0.00e+00   0\n",
      "   1  1.0037982e+05 4.99e+00 6.13e+01  -1.0 9.69e+00    -  2.98e-02 1.10e-02f  1\n",
      "   2  7.8609565e+04 4.99e+00 5.43e+01  -1.0 9.78e+00    -  8.53e-02 3.45e-02f  1\n",
      "   3  8.2237901e+04 4.98e+00 4.04e+01  -1.0 1.00e+01    -  9.89e-01 1.17e-01f  1\n",
      "   4  8.2477245e+04 4.98e+00 1.03e+02  -1.0 4.63e+01    -  1.01e-02 1.38e-03f  1\n",
      "   5  8.2855086e+04 4.98e+00 4.04e+01  -1.0 1.83e+04    -  2.74e-06 3.04e-04f  1\n",
      "   6  8.4913433e+04 4.92e+00 1.29e+02  -1.0 5.17e+04    -  6.58e-04 1.18e-02f  1\n",
      "   7  9.2929606e+04 4.66e+00 2.48e+02  -1.0 5.17e+04    -  5.38e-04 5.27e-02f  1\n",
      "   8  9.8301127e+04 4.49e+00 3.53e+02  -1.0 1.97e+04    -  3.54e-03 3.56e-02f  1\n",
      "   9  1.2920360e+05 3.46e+00 3.72e+02  -1.0 2.01e+04    -  1.83e-02 2.31e-01f  1\n",
      "iter    objective    inf_pr   inf_du lg(mu)  ||d||  lg(rg) alpha_du alpha_pr  ls\n",
      "  10  1.7259885e+05 2.00e+00 2.86e+02  -1.0 1.36e+04    -  4.56e-02 4.23e-01h  1\n",
      "  11  2.0108513e+05 9.96e-01 1.52e+02  -1.0 6.32e+03    -  1.35e-01 5.01e-01h  1\n",
      "  12  2.0638018e+05 8.15e-01 1.32e+02  -1.0 2.77e+03    -  3.10e-01 1.82e-01h  1\n",
      "  13  2.1839880e+05 3.65e-01 3.06e+01  -1.0 1.91e+03    -  2.43e-01 5.52e-01h  1\n",
      "  14  2.2022381e+05 2.86e-01 8.16e+01  -1.0 7.03e+02    -  7.47e-01 2.15e-01h  1\n",
      "  15  2.2546685e+05 5.79e-02 5.53e+01  -1.0 1.34e+03    -  9.76e-01 7.89e-01h  1\n",
      "  16  2.2596910e+05 7.54e-03 6.52e+02  -1.0 8.00e+03    -  9.07e-01 2.79e-01h  1\n",
      "  17  2.2659449e+05 3.71e-03 7.35e+02  -1.0 6.96e+03    -  8.15e-01 5.08e-01h  1\n",
      "  18  2.2710312e+05 7.79e-04 7.32e+02  -1.0 3.15e+03    -  1.00e+00 7.90e-01h  1\n",
      "  19  2.2721947e+05 6.35e-05 1.13e+03  -1.0 9.94e+02    -  1.00e+00 9.18e-01h  1\n",
      "iter    objective    inf_pr   inf_du lg(mu)  ||d||  lg(rg) alpha_du alpha_pr  ls\n",
      "  20  2.2722090e+05 5.55e-05 1.39e+05  -1.0 3.65e+02    -  1.00e+00 1.25e-01h  1\n",
      "  21  2.2722820e+05 8.19e-06 4.67e+04  -1.0 3.31e+02    -  1.00e+00 8.52e-01h  1\n",
      "  22  2.2722859e+05 5.81e-06 7.91e+05  -1.0 4.92e+01    -  1.00e+00 2.90e-01h  1\n",
      "  23  2.2722945e+05 2.30e-07 8.54e+04  -1.0 3.49e+01    -  1.00e+00 9.59e-01h  1\n",
      "  24  2.2722945e+05 2.27e-07 5.92e+06  -1.0 1.44e+00    -  1.00e+00 1.19e-02f  6\n",
      "  25  2.2722949e+05 0.00e+00 1.00e-06  -1.0 1.42e+00    -  1.00e+00 1.00e+00h  1\n",
      "  26  1.2695957e+03 0.00e+00 7.24e+06  -8.6 2.18e+02    -  2.57e-01 1.00e+00f  1\n",
      "  27  2.7694685e+02 0.00e+00 3.33e+06  -8.6 2.58e+00    -  5.40e-01 1.00e+00f  1\n",
      "  28  9.8767390e+01 0.00e+00 1.45e+06  -8.6 8.46e-01    -  5.64e-01 1.00e+00f  1\n",
      "  29  3.9070129e+01 0.00e+00 7.82e+05  -8.6 4.65e-01    -  4.61e-01 1.00e+00f  1\n",
      "iter    objective    inf_pr   inf_du lg(mu)  ||d||  lg(rg) alpha_du alpha_pr  ls\n",
      "  30  1.0919753e+01 0.00e+00 4.11e+05  -8.6 2.21e-01    -  4.74e-01 1.00e+00f  1\n",
      "  31  4.9671260e+00 0.00e+00 2.51e+05  -8.6 8.40e-02    -  3.90e-01 1.00e+00f  1\n",
      "  32  7.6318300e-01 0.00e+00 1.11e+05  -8.6 2.20e-02    -  5.56e-01 1.00e+00f  1\n",
      "  33 -8.8755262e-02 0.00e+00 4.46e+03  -8.6 2.55e-02    -  9.60e-01 1.00e+00f  1\n",
      "  34 -1.6865433e-01 0.00e+00 4.13e+02  -8.6 2.45e-02    -  9.07e-01 1.00e+00f  1\n",
      "  35 -1.8044856e-01 0.00e+00 4.00e+01  -8.6 2.14e-03  -4.0 9.03e-01 1.00e+00f  1\n",
      "  36 -2.1744644e-01 0.00e+00 2.75e+01  -8.6 9.56e-05  -4.5 3.13e-01 1.00e+00f  1\n",
      "  37 -2.3317487e-01 0.00e+00 1.72e+01  -8.6 2.83e-04  -5.0 3.73e-01 9.64e-01h  1\n",
      "  38 -2.3620241e-01 0.00e+00 4.11e+00  -8.6 8.14e-04  -5.4 7.61e-01 1.00e+00f  1\n",
      "  39 -2.3775487e-01 0.00e+00 1.30e+00  -8.6 2.17e-03  -5.9 6.84e-01 1.00e+00h  1\n",
      "iter    objective    inf_pr   inf_du lg(mu)  ||d||  lg(rg) alpha_du alpha_pr  ls\n",
      "  40 -2.3773913e-01 0.00e+00 2.28e-01  -8.6 4.66e-03  -6.4 8.25e-01 1.00e+00h  1\n",
      "  41 -2.3873084e-01 0.00e+00 8.50e-10  -8.6 6.19e-03  -6.9 1.00e+00 1.00e+00h  1\n",
      "  42 -2.3845929e-01 0.00e+00 1.61e-10  -8.6 3.53e-03  -7.3 1.00e+00 1.00e+00h  1\n",
      "  43 -2.4267755e-01 0.00e+00 4.00e-02  -9.0 2.55e-04  -7.8 7.49e-01 1.00e+00h  1\n",
      "  44 -2.4272148e-01 0.00e+00 1.68e-12  -9.0 3.32e-04  -8.3 1.00e+00 1.00e+00h  1\n",
      "\n",
      "Number of Iterations....: 44\n",
      "\n",
      "                                   (scaled)                 (unscaled)\n",
      "Objective...............:  -1.7076202517898825e-03   -2.4272148411346428e-01\n",
      "Dual infeasibility......:   1.6761156843816324e-12    2.3824341860114208e-10\n",
      "Constraint violation....:   0.0000000000000000e+00    0.0000000000000000e+00\n",
      "Complementarity.........:   9.4570917568245314e-10    1.3442329137333902e-07\n",
      "Overall NLP error.......:   9.4570917568245314e-10    1.3442329137333902e-07\n",
      "\n",
      "\n",
      "Number of objective function evaluations             = 50\n",
      "Number of objective gradient evaluations             = 45\n",
      "Number of equality constraint evaluations            = 0\n",
      "Number of inequality constraint evaluations          = 50\n",
      "Number of equality constraint Jacobian evaluations   = 0\n",
      "Number of inequality constraint Jacobian evaluations = 45\n",
      "Number of Lagrangian Hessian evaluations             = 44\n",
      "Total CPU secs in IPOPT (w/o function evaluations)   =      2.673\n",
      "Total CPU secs in NLP function evaluations           =      0.136\n",
      "\n",
      "EXIT: Optimal Solution Found.\n",
      "INFO: *solving done* <- it took 5.235614 seconds>\n",
      "INFO     *solving done* <- it took 5.235614 seconds>\n",
      "infeasible.log_infeasible_constraints(): in the method\n",
      "INFO     \n",
      "Objective is: 0\n"
     ]
    }
   ],
   "source": [
    "(solver_output_filepaths,\n",
    "solution_csv_filepath,\n",
    "mdf,\n",
    "solution_objective, \n",
    "feasible_solution) = s.go(constraint=5)"
   ]
  },
  {
   "cell_type": "code",
   "execution_count": null,
   "metadata": {},
   "outputs": [],
   "source": [
    "oe.value(s.modelhandler.model.x['HRTill','N42041SL3_2400_2440','nci'])"
   ]
  },
  {
   "cell_type": "code",
   "execution_count": null,
   "metadata": {},
   "outputs": [],
   "source": [
    "feasible_solution"
   ]
  },
  {
   "cell_type": "code",
   "execution_count": null,
   "metadata": {},
   "outputs": [],
   "source": [
    "(solver_output_filepaths,\n",
    "solution_csv_filepath,\n",
    "mdf,\n",
    "solution_objective,\n",
    "feasibility_list)= s.go_constraintsequence(range(3, 4))"
   ]
  },
  {
   "cell_type": "code",
   "execution_count": 3,
   "metadata": {},
   "outputs": [
    {
     "name": "stdout",
     "output_type": "stream",
     "text": [
      "INFO     constraint = 1\n",
      "INFO     constraint = 1\n",
      "INFO     constraint = 1\n",
      "Ipopt 3.12.8: \n",
      "\n",
      "******************************************************************************\n",
      "This program contains Ipopt, a library for large-scale nonlinear optimization.\n",
      " Ipopt is released as open source code under the Eclipse Public License (EPL).\n",
      "         For more information visit http://projects.coin-or.org/Ipopt\n",
      "******************************************************************************\n",
      "\n",
      "This is Ipopt version 3.12.8, running with linear solver mumps.\n",
      "NOTE: Other linear solvers might be more efficient (see Ipopt documentation).\n",
      "\n",
      "Number of nonzeros in equality constraint Jacobian...:        0\n",
      "Number of nonzeros in inequality constraint Jacobian.:     1364\n",
      "Number of nonzeros in Lagrangian Hessian.............:      100\n",
      "\n",
      "Total number of variables............................:     1339\n",
      "                     variables with only lower bounds:     1339\n",
      "                variables with lower and upper bounds:        0\n",
      "                     variables with only upper bounds:        0\n",
      "Total number of equality constraints.................:        0\n",
      "Total number of inequality constraints...............:     1108\n",
      "        inequality constraints with only lower bounds:        1\n",
      "   inequality constraints with lower and upper bounds:        0\n",
      "        inequality constraints with only upper bounds:     1107\n",
      "\n",
      "iter    objective    inf_pr   inf_du lg(mu)  ||d||  lg(rg) alpha_du alpha_pr  ls\n",
      "   0  1.6347641e+04 1.02e+00 6.40e+01  -1.0 0.00e+00    -  0.00e+00 0.00e+00   0\n",
      "   1  6.7689810e+03 1.00e+00 6.18e+01  -1.0 6.96e-01    -  3.05e-02 1.52e-02f  1\n",
      "   2  4.6726565e+03 9.62e-01 5.28e+01  -1.0 6.13e-01    -  1.07e-01 4.19e-02f  1\n",
      "   3  3.5875331e+03 7.56e-01 3.58e+01  -1.0 6.98e-01    -  1.00e+00 2.14e-01h  1\n",
      "   4  3.1470822e+03 4.54e-01 2.64e+01  -1.0 5.26e+00    -  1.00e+00 3.99e-01h  1\n",
      "   5  2.1991638e+03 1.85e-01 1.68e+01  -1.0 2.79e+00    -  1.00e+00 5.93e-01h  1\n",
      "   6  1.5779377e+03 1.01e-01 3.93e+01  -1.0 1.06e+00    -  1.00e+00 4.56e-01h  1\n",
      "   7  1.0157520e+03 3.99e-02 5.53e+01  -1.0 5.66e-01    -  1.00e+00 6.03e-01h  1\n",
      "   8  7.1051270e+02 1.77e-02 1.39e+02  -1.0 2.23e-01    -  1.00e+00 5.56e-01h  1\n",
      "   9  5.6191365e+02 6.50e-03 2.63e+02  -1.0 9.90e-02    -  1.00e+00 6.32e-01h  1\n",
      "iter    objective    inf_pr   inf_du lg(mu)  ||d||  lg(rg) alpha_du alpha_pr  ls\n",
      "  10  5.1379349e+02 3.08e-03 8.68e+02  -1.0 3.64e-02    -  1.00e+00 5.27e-01h  1\n",
      "  11  4.8701216e+02 1.08e-03 1.47e+03  -1.0 1.72e-02    -  1.00e+00 6.49e-01h  1\n",
      "  12  4.7917007e+02 5.20e-04 5.26e+03  -1.0 6.04e-03    -  1.00e+00 5.18e-01h  1\n",
      "  13  4.7460527e+02 1.80e-04 8.59e+03  -1.0 2.91e-03    -  1.00e+00 6.53e-01h  1\n",
      "  14  4.7329558e+02 8.71e-05 3.12e+04  -1.0 1.01e-03    -  1.00e+00 5.17e-01h  1\n",
      "  15  4.7252538e+02 2.98e-05 4.98e+04  -1.0 4.88e-04    -  1.00e+00 6.58e-01h  1\n",
      "  16  4.7230597e+02 1.41e-05 1.78e+05  -1.0 1.67e-04    -  1.00e+00 5.24e-01h  1\n",
      "  17  4.7217594e+02 4.46e-06 2.57e+05  -1.0 7.92e-05    -  1.00e+00 6.85e-01h  1\n",
      "  18  4.7213982e+02 1.89e-06 8.10e+05  -1.0 2.50e-05    -  1.00e+00 5.74e-01h  1\n",
      "  19  4.7211803e+02 2.62e-07 4.74e+05  -1.0 1.07e-05    -  1.00e+00 8.57e-01h  1\n",
      "iter    objective    inf_pr   inf_du lg(mu)  ||d||  lg(rg) alpha_du alpha_pr  ls\n",
      "  20  4.7211426e+02 8.61e-09 2.85e+05  -1.0 1.52e-06    -  1.00e+00 9.32e-01h  1\n",
      "  21  4.7211425e+02 6.28e-09 1.10e+06  -1.0 1.04e-07    -  1.00e+00 1.25e-01f  4\n",
      "  22  4.7211412e+02 0.00e+00 1.00e-06  -1.0 9.11e-08    -  1.00e+00 1.00e+00h  1\n",
      "  23  2.5410510e+02 0.00e+00 4.54e+06  -8.6 8.64e-01    -  5.46e-01 1.00e+00f  1\n",
      "  24  9.8651668e+01 4.55e-03 1.90e+06  -8.6 4.33e+00    -  5.82e-01 9.71e-01f  1\n",
      "  25  4.8148487e+01 0.00e+00 9.61e+05  -8.6 2.98e-03    -  4.94e-01 1.00e+00f  1\n",
      "In iteration 25, 1 Slack too small, adjusting variable bound\n",
      "  26  2.9715896e+01 0.00e+00 5.21e+05  -8.6 2.39e-03    -  4.58e-01 7.48e-01f  1\n",
      "  27  1.1765579e+01 0.00e+00 2.37e+05  -8.6 1.20e-02    -  5.45e-01 1.00e+00f  1\n",
      "  28  3.9846059e+00 0.00e+00 1.76e+05  -8.6 5.17e-03    -  2.57e-01 1.00e+00f  1\n",
      "  29  2.1575720e+00 0.00e+00 7.36e+04  -8.6 1.55e-03    -  5.82e-01 1.00e+00f  1\n",
      "iter    objective    inf_pr   inf_du lg(mu)  ||d||  lg(rg) alpha_du alpha_pr  ls\n",
      "  30  1.6765923e+00 0.00e+00 3.32e+03  -8.6 1.86e-03    -  9.55e-01 1.00e+00f  1\n",
      "  31  1.6742618e+00 0.00e+00 2.56e+02  -8.6 1.11e-03    -  9.23e-01 1.00e+00f  1\n",
      "  32  1.6697943e+00 0.00e+00 3.56e+01  -8.6 1.36e-03    -  8.61e-01 1.00e+00f  1\n",
      "  33  1.6641407e+00 0.00e+00 2.57e+01  -8.6 8.01e-05    -  2.78e-01 1.00e+00f  1\n",
      "  34  1.6619318e+00 0.00e+00 1.53e+01  -8.6 2.30e-07    -  4.03e-01 1.00e+00f  1\n",
      "  35  1.6615658e+00 0.00e+00 3.89e+00  -8.6 1.42e-07    -  7.46e-01 1.00e+00f  1\n",
      "  36  1.6613669e+00 0.00e+00 1.13e+00  -8.6 9.49e-08    -  7.09e-01 1.00e+00f  1\n",
      "  37  1.6613596e+00 0.00e+00 2.28e-01  -8.6 5.81e-09    -  7.99e-01 1.00e+00f  1\n",
      "  38  1.6608762e+00 0.00e+00 2.84e-14  -8.6 7.71e-07    -  1.00e+00 1.00e+00f  1\n",
      "  39  1.6610048e+00 0.00e+00 2.84e-14  -8.6 2.10e-07    -  1.00e+00 1.00e+00f  1\n",
      "iter    objective    inf_pr   inf_du lg(mu)  ||d||  lg(rg) alpha_du alpha_pr  ls\n",
      "  40  1.6607908e+00 0.00e+00 4.14e-02  -9.0 2.27e-07    -  7.41e-01 1.00e+00f  1\n",
      "  41  1.6607697e+00 0.00e+00 1.42e-14  -9.0 3.15e-08    -  1.00e+00 1.00e+00h  1\n",
      "\n",
      "Number of Iterations....: 41\n",
      "\n",
      "                                   (scaled)                 (unscaled)\n",
      "Objective...............:   1.1684025685822857e-02    1.6607697477879981e+00\n",
      "Dual infeasibility......:   1.4210854715202004e-14    2.0199337313897557e-12\n",
      "Constraint violation....:   0.0000000000000000e+00    0.0000000000000000e+00\n",
      "Complementarity.........:   9.4584967671815080e-10    1.3444326221865330e-07\n",
      "Overall NLP error.......:   9.4584967671815080e-10    1.3444326221865330e-07\n",
      "\n",
      "\n",
      "Number of objective function evaluations             = 45\n",
      "Number of objective gradient evaluations             = 42\n",
      "Number of equality constraint evaluations            = 0\n",
      "Number of inequality constraint evaluations          = 45\n",
      "Number of equality constraint Jacobian evaluations   = 0\n",
      "Number of inequality constraint Jacobian evaluations = 42\n",
      "Number of Lagrangian Hessian evaluations             = 41\n",
      "Total CPU secs in IPOPT (w/o function evaluations)   =      0.157\n",
      "Total CPU secs in NLP function evaluations           =      0.003\n",
      "\n",
      "EXIT: Optimal Solution Found.\n",
      "INFO: *solving done* <- it took 0.370739 seconds>\n",
      "INFO     *solving done* <- it took 0.370739 seconds>\n"
     ]
    },
    {
     "ename": "KeyError",
     "evalue": "\"Index 'N' is not valid for indexed component 'originalload'\"",
     "output_type": "error",
     "traceback": [
      "\u001b[0;31m---------------------------------------------------------------------------\u001b[0m",
      "\u001b[0;31mKeyError\u001b[0m                                  Traceback (most recent call last)",
      "\u001b[0;32m<ipython-input-3-3f4b367381c8>\u001b[0m in \u001b[0;36m<module>\u001b[0;34m()\u001b[0m\n\u001b[1;32m      3\u001b[0m \u001b[0mmdf\u001b[0m\u001b[0;34m,\u001b[0m\u001b[0;34m\u001b[0m\u001b[0m\n\u001b[1;32m      4\u001b[0m \u001b[0msolution_objective\u001b[0m\u001b[0;34m,\u001b[0m\u001b[0;34m\u001b[0m\u001b[0m\n\u001b[0;32m----> 5\u001b[0;31m feasibility_list) = s.go_constraintsequence(range(1, 21))\n\u001b[0m",
      "\u001b[0;32m~/Desktop/CATEGORIES/CAREER_MANAGEMENT/CRC_ResearchScientist_Optimization/Optimization_Tool/2_ExperimentFolder/bayota/efficiencysubproblem/src/study.py\u001b[0m in \u001b[0;36mgo_constraintsequence\u001b[0;34m(self, constraints, fileprintlevel)\u001b[0m\n\u001b[1;32m    243\u001b[0m                                                                                                  fileprintlevel=fileprintlevel)\n\u001b[1;32m    244\u001b[0m \u001b[0;34m\u001b[0m\u001b[0m\n\u001b[0;32m--> 245\u001b[0;31m                 \u001b[0mmerged_df\u001b[0m\u001b[0;34m[\u001b[0m\u001b[0;34m'originalload'\u001b[0m\u001b[0;34m]\u001b[0m \u001b[0;34m=\u001b[0m \u001b[0moe\u001b[0m\u001b[0;34m.\u001b[0m\u001b[0mvalue\u001b[0m\u001b[0;34m(\u001b[0m\u001b[0mmdl\u001b[0m\u001b[0;34m.\u001b[0m\u001b[0moriginalload\u001b[0m\u001b[0;34m[\u001b[0m\u001b[0;34m'N'\u001b[0m\u001b[0;34m]\u001b[0m\u001b[0;34m)\u001b[0m\u001b[0;34m\u001b[0m\u001b[0m\n\u001b[0m\u001b[1;32m    246\u001b[0m                 \u001b[0mmerged_df\u001b[0m\u001b[0;34m[\u001b[0m\u001b[0;34m'N_pounds_reduced'\u001b[0m\u001b[0;34m]\u001b[0m \u001b[0;34m=\u001b[0m \u001b[0;34m(\u001b[0m\u001b[0moe\u001b[0m\u001b[0;34m.\u001b[0m\u001b[0mvalue\u001b[0m\u001b[0;34m(\u001b[0m\u001b[0mmdl\u001b[0m\u001b[0;34m.\u001b[0m\u001b[0mTargetPercentReduction\u001b[0m\u001b[0;34m[\u001b[0m\u001b[0;34m'N'\u001b[0m\u001b[0;34m]\u001b[0m\u001b[0;34m.\u001b[0m\u001b[0mbody\u001b[0m\u001b[0;34m)\u001b[0m \u001b[0;34m/\u001b[0m \u001b[0;36m100\u001b[0m\u001b[0;34m)\u001b[0m \u001b[0;34m*\u001b[0m\u001b[0;31m \u001b[0m\u001b[0;31m\\\u001b[0m\u001b[0;34m\u001b[0m\u001b[0m\n\u001b[1;32m    247\u001b[0m                                             \u001b[0moe\u001b[0m\u001b[0;34m.\u001b[0m\u001b[0mvalue\u001b[0m\u001b[0;34m(\u001b[0m\u001b[0mmdl\u001b[0m\u001b[0;34m.\u001b[0m\u001b[0moriginalload\u001b[0m\u001b[0;34m[\u001b[0m\u001b[0;34m'N'\u001b[0m\u001b[0;34m]\u001b[0m\u001b[0;34m)\u001b[0m\u001b[0;34m\u001b[0m\u001b[0m\n",
      "\u001b[0;32m~/anaconda3/envs/OptSubProblem/lib/python3.6/site-packages/pyomo/core/base/indexed_component.py\u001b[0m in \u001b[0;36m__getitem__\u001b[0;34m(self, index)\u001b[0m\n\u001b[1;32m    541\u001b[0m             \u001b[0;32mif\u001b[0m \u001b[0mindex\u001b[0m\u001b[0;34m.\u001b[0m\u001b[0m__class__\u001b[0m \u001b[0;32mis\u001b[0m \u001b[0mEXPR\u001b[0m\u001b[0;34m.\u001b[0m\u001b[0mGetItemExpression\u001b[0m\u001b[0;34m:\u001b[0m\u001b[0;34m\u001b[0m\u001b[0m\n\u001b[1;32m    542\u001b[0m                 \u001b[0;32mreturn\u001b[0m \u001b[0mindex\u001b[0m\u001b[0;34m\u001b[0m\u001b[0m\n\u001b[0;32m--> 543\u001b[0;31m             \u001b[0mindex\u001b[0m \u001b[0;34m=\u001b[0m \u001b[0mself\u001b[0m\u001b[0;34m.\u001b[0m\u001b[0m_validate_index\u001b[0m\u001b[0;34m(\u001b[0m\u001b[0mindex\u001b[0m\u001b[0;34m)\u001b[0m\u001b[0;34m\u001b[0m\u001b[0m\n\u001b[0m\u001b[1;32m    544\u001b[0m             \u001b[0;31m# _processUnhashableIndex could have found a slice, or\u001b[0m\u001b[0;34m\u001b[0m\u001b[0;34m\u001b[0m\u001b[0m\n\u001b[1;32m    545\u001b[0m             \u001b[0;31m# _validate could have found an Ellipsis and returned a\u001b[0m\u001b[0;34m\u001b[0m\u001b[0;34m\u001b[0m\u001b[0m\n",
      "\u001b[0;32m~/anaconda3/envs/OptSubProblem/lib/python3.6/site-packages/pyomo/core/base/indexed_component.py\u001b[0m in \u001b[0;36m_validate_index\u001b[0;34m(self, idx)\u001b[0m\n\u001b[1;32m    693\u001b[0m         raise KeyError(\n\u001b[1;32m    694\u001b[0m             \u001b[0;34m\"Index '%s' is not valid for indexed component '%s'\"\u001b[0m\u001b[0;34m\u001b[0m\u001b[0m\n\u001b[0;32m--> 695\u001b[0;31m             % ( idx, self.name, ))\n\u001b[0m\u001b[1;32m    696\u001b[0m \u001b[0;34m\u001b[0m\u001b[0m\n\u001b[1;32m    697\u001b[0m     \u001b[0;32mdef\u001b[0m \u001b[0m_processUnhashableIndex\u001b[0m\u001b[0;34m(\u001b[0m\u001b[0mself\u001b[0m\u001b[0;34m,\u001b[0m \u001b[0midx\u001b[0m\u001b[0;34m,\u001b[0m \u001b[0m_exception\u001b[0m\u001b[0;34m=\u001b[0m\u001b[0;32mNone\u001b[0m\u001b[0;34m)\u001b[0m\u001b[0;34m:\u001b[0m\u001b[0;34m\u001b[0m\u001b[0m\n",
      "\u001b[0;31mKeyError\u001b[0m: \"Index 'N' is not valid for indexed component 'originalload'\""
     ]
    }
   ],
   "source": [
    "(solver_output_filepaths,\n",
    "solution_csv_filepath,\n",
    "mdf,\n",
    "solution_objective,\n",
    "feasibility_list) = s.go_constraintsequence(range(1, 21))"
   ]
  },
  {
   "cell_type": "code",
   "execution_count": null,
   "metadata": {},
   "outputs": [],
   "source": [
    "feasibility_list"
   ]
  },
  {
   "cell_type": "code",
   "execution_count": null,
   "metadata": {},
   "outputs": [],
   "source": [
    "for k, v in s.modelhandler.model.TargetPercentReduction.items():\n",
    "    print(v)"
   ]
  },
  {
   "cell_type": "code",
   "execution_count": null,
   "metadata": {},
   "outputs": [],
   "source": [
    "oe.value(s.modelhandler.model.tau['N'])\n"
   ]
  },
  {
   "cell_type": "code",
   "execution_count": null,
   "metadata": {},
   "outputs": [],
   "source": [
    "original_load = oe.value(s.modelhandler.model.originalload['N'])\n",
    "\n",
    "percent_reduction = oe.value(s.modelhandler.model.tau['N'])\n",
    "absolute_reduction = (percent_reduction / 100) * original_load\n",
    "\n",
    "display(original_load)\n",
    "display(absolute_reduction)"
   ]
  },
  {
   "cell_type": "code",
   "execution_count": null,
   "metadata": {},
   "outputs": [],
   "source": [
    "s.modelhandler.datahandler."
   ]
  },
  {
   "cell_type": "code",
   "execution_count": null,
   "metadata": {},
   "outputs": [],
   "source": []
  },
  {
   "cell_type": "code",
   "execution_count": null,
   "metadata": {},
   "outputs": [],
   "source": [
    "solver_output_filepaths, solution_csv_filepath, mdf, solution_objective = s.go_constraintsequence(range(1, 21))"
   ]
  },
  {
   "cell_type": "code",
   "execution_count": null,
   "metadata": {},
   "outputs": [],
   "source": [
    "solution_csv_filepath"
   ]
  },
  {
   "cell_type": "code",
   "execution_count": null,
   "metadata": {},
   "outputs": [],
   "source": [
    "import os\n",
    "import pandas as pd\n",
    "import seaborn as sns\n",
    "import plotly.plotly as py\n",
    "import plotly.graph_objs as go\n",
    "%pylab inline\n",
    "from efficiencysubproblem.src.vis.sequence_plot import plotly_costobj\n",
    "from efficiencysubproblem.src.vis.acres_heatmap import heatmap_costobj"
   ]
  },
  {
   "cell_type": "code",
   "execution_count": null,
   "metadata": {},
   "outputs": [],
   "source": [
    "constraintvar = 'tau'\n",
    "from src.solution_handling.solutionhandler import SolutionHandler\n",
    "df_piv = SolutionHandler.make_pivot_from_solution_sequence(solution_csv_filepath=solution_csv_filepath,\n",
    "                                                           constraint_sequencing_var=constraintvar)\n",
    "\n",
    "fig = plotly_costobj(df=df_piv, xname=constraintvar)\n",
    "py.iplot(fig, filename='styled-line')"
   ]
  },
  {
   "cell_type": "code",
   "execution_count": null,
   "metadata": {},
   "outputs": [],
   "source": [
    "# Filepath to save to\n",
    "timestamp = datetime.datetime.now().strftime('%Y-%m-%d_%H%M%S')\n",
    "# filenamestr = ''.join(['output/costobj_heatmap_difstartpoints_', 'ipopt', '_',\n",
    "#                            timestamp, '.png'])\n",
    "filenamestr = ''.join(['output/costobj_heatmap_tausequence_', 'ipopt', '_',\n",
    "                           timestamp, '.png'])\n",
    "savefilepathandname = os.path.join(_package_root, filenamestr)\n",
    "\n",
    "# heatmap_costobj(df=df_piv, savefilepathandname=None, xname='startpointiterate')\n",
    "heatmap_costobj(df=df_piv, figsize=(10,20),\n",
    "                savefilepathandname=savefilepathandname, xname='tau')"
   ]
  },
  {
   "cell_type": "code",
   "execution_count": null,
   "metadata": {},
   "outputs": [],
   "source": []
  }
 ],
 "metadata": {
  "kernelspec": {
   "display_name": "Python [conda env:OptSubProblem]",
   "language": "python",
   "name": "conda-env-OptSubProblem-py"
  },
  "language_info": {
   "codemirror_mode": {
    "name": "ipython",
    "version": 3
   },
   "file_extension": ".py",
   "mimetype": "text/x-python",
   "name": "python",
   "nbconvert_exporter": "python",
   "pygments_lexer": "ipython3",
   "version": "3.6.6"
  }
 },
 "nbformat": 4,
 "nbformat_minor": 2
}
