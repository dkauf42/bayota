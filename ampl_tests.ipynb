{
 "cells": [
  {
   "cell_type": "code",
   "execution_count": 1,
   "metadata": {},
   "outputs": [],
   "source": [
    "import os\n",
    "from amplpy import AMPL, Environment"
   ]
  },
  {
   "cell_type": "markdown",
   "metadata": {},
   "source": [
    "**File Paths**"
   ]
  },
  {
   "cell_type": "code",
   "execution_count": 2,
   "metadata": {},
   "outputs": [],
   "source": [
    "baseexppath = '/Users/Danny/Desktop/CATEGORIES/CAREER_MANAGEMENT/CRC_ResearchScientist_Optimization/Optimization_Tool/2_ExperimentFolder/'\n",
    "amplappdir = os.path.join(baseexppath, 'ampl/amplide.macosx64/')\n",
    "projectpath = os.path.join(baseexppath, 'ampl/OptEfficiencySubProblem/')\n",
    "\n",
    "# Specify model and data files\n",
    "# f_mod = os.path.join(baseexppath, 'ampl/example/steel3.mod')\n",
    "f_mod = os.path.join(projectpath, 'test4.mod')\n",
    "# f_dat = os.path.join(baseexppath, 'ampl/example/steel3.dat')\n",
    "f_dat = os.path.join(projectpath, 'test4.dat')\n",
    "\n",
    "# Specify AMPL solver to be used\n",
    "f_minos_solver = os.path.join(projectpath, 'amplide.macosx64/minos')\n",
    "f_gurobi_solver = os.path.join(projectpath, 'amplide.macosx64/gurobi')\n",
    "f_solver = f_minos_solver\n",
    "\n",
    "# Data table directories\n",
    "sourcedatadir = os.path.join(baseexppath, 'OptSandbox/data/test_source/')\n",
    "metadatadir = os.path.join(baseexppath, 'OptSandbox/data/test_metadata/')"
   ]
  },
  {
   "cell_type": "markdown",
   "metadata": {},
   "source": [
    "**Set up the AMPL environment**"
   ]
  },
  {
   "cell_type": "code",
   "execution_count": 3,
   "metadata": {},
   "outputs": [
    {
     "name": "stdout",
     "output_type": "stream",
     "text": [
      "/Users/Danny/Desktop/CATEGORIES/CAREER_MANAGEMENT/CRC_ResearchScientist_Optimization/Optimization_Tool/2_ExperimentFolder/ampl/OptEfficiencySubProblem/amplide.macosx64/minos\n"
     ]
    }
   ],
   "source": [
    "ampl = AMPL(Environment(amplappdir))\n",
    "ampl.setOption('solver', f_solver)\n",
    "value = ampl.getOption('solver')\n",
    "print(value)"
   ]
  },
  {
   "cell_type": "markdown",
   "metadata": {},
   "source": [
    "**Read in the model**"
   ]
  },
  {
   "cell_type": "code",
   "execution_count": 4,
   "metadata": {},
   "outputs": [],
   "source": [
    "ampl.read(f_mod)"
   ]
  },
  {
   "cell_type": "markdown",
   "metadata": {},
   "source": [
    "**Read in the data**"
   ]
  },
  {
   "cell_type": "code",
   "execution_count": 5,
   "metadata": {},
   "outputs": [],
   "source": [
    "import pandas as pd\n",
    "from IPython.display import display"
   ]
  },
  {
   "cell_type": "code",
   "execution_count": 6,
   "metadata": {},
   "outputs": [],
   "source": [
    "# Read in the data tables\n",
    "TblBmp = pd.read_csv(os.path.join(sourcedatadir, 'TblBmp.csv'))\n",
    "TblBmpGroup = pd.read_csv(os.path.join(sourcedatadir, 'TblBmpGroup.csv'))\n",
    "TblBmpLoadSourceGroup = pd.read_csv(os.path.join(sourcedatadir, 'TblBmpLoadSourceGroup.csv'))\n",
    "TblBmpType = pd.read_csv(os.path.join(sourcedatadir, 'TblBmpType.csv'))\n",
    "TblLoadSource = pd.read_csv(os.path.join(sourcedatadir, 'TblLoadSource.csv'))\n",
    "TblLoadSourceGroup = pd.read_csv(os.path.join(sourcedatadir, 'TblLoadSourceGroup.csv'))\n",
    "TblLoadSourceGroupLoadSource = pd.read_csv(os.path.join(sourcedatadir, 'TblLoadSourceGroupLoadSource.csv'))\n",
    "TblLandRiverSegment = pd.read_csv(os.path.join(sourcedatadir, 'TblLandRiverSegment.csv'))"
   ]
  },
  {
   "cell_type": "markdown",
   "metadata": {},
   "source": [
    "**SETS**"
   ]
  },
  {
   "cell_type": "code",
   "execution_count": 7,
   "metadata": {},
   "outputs": [
    {
     "name": "stdout",
     "output_type": "stream",
     "text": [
      "   PLTNTS   \n",
      "    'N'        \n",
      "    'P'        \n",
      "    'S'        \n",
      "\n",
      "   LRSEGS   \n",
      "'N51133RL0_6450_0000'   \n",
      "\n"
     ]
    }
   ],
   "source": [
    "# sets:\n",
    "# PLNTS\n",
    "# LRSEGS\n",
    "pltnts = ampl.getSet('PLTNTS')\n",
    "pltnts.setValues(['N', 'P', 'S'])\n",
    "print(pltnts.getValues())\n",
    "\n",
    "lrsegs = ampl.getSet('LRSEGS')\n",
    "lrsegs.setValues(['N51133RL0_6450_0000'])\n",
    "print(lrsegs.getValues())"
   ]
  },
  {
   "cell_type": "code",
   "execution_count": 8,
   "metadata": {},
   "outputs": [],
   "source": [
    "# sets:\n",
    "# LOADSRCS\n",
    "# LOADSRCGRPS\n",
    "# LOADSRCGRPING\n",
    "loadsrcs = ampl.getSet('LOADSRCS')\n",
    "loadsrcs.setValues(TblLoadSource.loadsourceid.tolist())\n",
    "#print(loadsrcs.getValues())\n",
    "\n",
    "loadsrcgrps = ampl.getSet('LOADSRCGRPS')\n",
    "loadsrcgrps.setValues(TblLoadSourceGroup.loadsourcegroupid.tolist())\n",
    "#print(loadsrcgrps.getValues())\n",
    "\n",
    "loadsrcgrping = ampl.getSet('LOADSRCGRPING')\n",
    "loadsrcgrping.setValues(list(zip(TblLoadSourceGroupLoadSource.loadsourcegroupid.tolist(),\n",
    "                             TblLoadSourceGroupLoadSource.loadsourceid.tolist())))\n",
    "#print(loadsrcgrping.getValues())"
   ]
  },
  {
   "cell_type": "code",
   "execution_count": 9,
   "metadata": {},
   "outputs": [],
   "source": [
    "# sets:\n",
    "# BMPS\n",
    "# BMPGRPS\n",
    "# BMPGRPING\n",
    "bmps = ampl.getSet('BMPS')\n",
    "bmps.setValues(TblBmp.bmpid.tolist())\n",
    "# print(bmps.getValues())\n",
    "\n",
    "bmpgrps = ampl.getSet('BMPGRPS')\n",
    "bmpgrps.setValues(TblBmpGroup.bmpgroupid.tolist())\n",
    "# print(bmpgrps.getValues())\n",
    "\n",
    "bmpgrping = ampl.getSet('BMPGRPING')\n",
    "bmpgrping.setValues(list(zip(TblBmp.bmpid.tolist(),\n",
    "                             TblBmp.bmpgroupid.tolist())))\n",
    "# print(bmpgrping.getValues())"
   ]
  },
  {
   "cell_type": "markdown",
   "metadata": {},
   "source": [
    "**PARAMETERS**"
   ]
  },
  {
   "cell_type": "code",
   "execution_count": 10,
   "metadata": {},
   "outputs": [],
   "source": [
    "# Read in the data tables\n",
    "TblCostBmpLand = pd.read_csv(os.path.join(metadatadir, 'TblCostBmpLand.csv'))\n",
    "TblBmpEfficiency = pd.read_csv(os.path.join(sourcedatadir, 'TblBmpEfficiency.csv'))\n",
    "# Target load reductions ???  (set this ourselves??)\n",
    "TblLandUsePreBmp = pd.read_csv(os.path.join(sourcedatadir, 'TblLandUsePreBmp.csv'))\n"
   ]
  },
  {
   "cell_type": "code",
   "execution_count": null,
   "metadata": {},
   "outputs": [],
   "source": []
  },
  {
   "cell_type": "code",
   "execution_count": 11,
   "metadata": {},
   "outputs": [
    {
     "name": "stdout",
     "output_type": "stream",
     "text": [
      "Warning: set is not defined\n"
     ]
    }
   ],
   "source": [
    "ampl.readData(f_dat)"
   ]
  },
  {
   "cell_type": "markdown",
   "metadata": {},
   "source": [
    "**Solve the problem**"
   ]
  },
  {
   "cell_type": "code",
   "execution_count": 12,
   "metadata": {},
   "outputs": [
    {
     "name": "stdout",
     "output_type": "stream",
     "text": [
      "Error: Error executing \"solve\" command:\n",
      "error processing param originalload['N51133RL0_6450_0000','N']:\n",
      "\tno value for phi['N51133RL0_6450_0000',1,'N']\n"
     ]
    },
    {
     "ename": "RuntimeError",
     "evalue": "Errors: 1; Warnings: 0",
     "output_type": "error",
     "traceback": [
      "\u001b[0;31m---------------------------------------------------------------------------\u001b[0m",
      "\u001b[0;31mRuntimeError\u001b[0m                              Traceback (most recent call last)",
      "\u001b[0;32m<ipython-input-12-348121fe8380>\u001b[0m in \u001b[0;36m<module>\u001b[0;34m()\u001b[0m\n\u001b[0;32m----> 1\u001b[0;31m \u001b[0mampl\u001b[0m\u001b[0;34m.\u001b[0m\u001b[0msolve\u001b[0m\u001b[0;34m(\u001b[0m\u001b[0;34m)\u001b[0m\u001b[0;34m\u001b[0m\u001b[0m\n\u001b[0m",
      "\u001b[0;32m~/anaconda3/envs/jupytering/lib/python3.6/site-packages/amplpy/ampl.py\u001b[0m in \u001b[0;36msolve\u001b[0;34m(self)\u001b[0m\n\u001b[1;32m    330\u001b[0m             \u001b[0mself\u001b[0m\u001b[0;34m.\u001b[0m\u001b[0m_lock\u001b[0m\u001b[0;34m\u001b[0m\u001b[0m\n\u001b[1;32m    331\u001b[0m         )\n\u001b[0;32m--> 332\u001b[0;31m         \u001b[0mself\u001b[0m\u001b[0;34m.\u001b[0m\u001b[0m_errorhandler\u001b[0m\u001b[0;34m.\u001b[0m\u001b[0mcheck\u001b[0m\u001b[0;34m(\u001b[0m\u001b[0;34m)\u001b[0m\u001b[0;34m\u001b[0m\u001b[0m\n\u001b[0m\u001b[1;32m    333\u001b[0m \u001b[0;34m\u001b[0m\u001b[0m\n\u001b[1;32m    334\u001b[0m     \u001b[0;32mdef\u001b[0m \u001b[0mreadAsync\u001b[0m\u001b[0;34m(\u001b[0m\u001b[0mself\u001b[0m\u001b[0;34m,\u001b[0m \u001b[0mfileName\u001b[0m\u001b[0;34m,\u001b[0m \u001b[0mcallback\u001b[0m\u001b[0;34m)\u001b[0m\u001b[0;34m:\u001b[0m\u001b[0;34m\u001b[0m\u001b[0m\n",
      "\u001b[0;32m~/anaconda3/envs/jupytering/lib/python3.6/site-packages/amplpy/errorhandler.py\u001b[0m in \u001b[0;36mcheck\u001b[0;34m(self)\u001b[0m\n\u001b[1;32m     36\u001b[0m         \u001b[0;32mif\u001b[0m \u001b[0mself\u001b[0m\u001b[0;34m.\u001b[0m\u001b[0merror_count\u001b[0m \u001b[0;34m!=\u001b[0m \u001b[0;36m0\u001b[0m\u001b[0;34m:\u001b[0m\u001b[0;34m\u001b[0m\u001b[0m\n\u001b[1;32m     37\u001b[0m             raise RuntimeError('Errors: {}; Warnings: {}'.format(\n\u001b[0;32m---> 38\u001b[0;31m                     self.error_count, self.warning_count))\n\u001b[0m\u001b[1;32m     39\u001b[0m \u001b[0;34m\u001b[0m\u001b[0m\n\u001b[1;32m     40\u001b[0m     \u001b[0;32mdef\u001b[0m \u001b[0merror\u001b[0m\u001b[0;34m(\u001b[0m\u001b[0mself\u001b[0m\u001b[0;34m,\u001b[0m \u001b[0mamplexception\u001b[0m\u001b[0;34m)\u001b[0m\u001b[0;34m:\u001b[0m\u001b[0;34m\u001b[0m\u001b[0m\n",
      "\u001b[0;31mRuntimeError\u001b[0m: Errors: 1; Warnings: 0"
     ]
    }
   ],
   "source": [
    "ampl.solve()"
   ]
  },
  {
   "cell_type": "code",
   "execution_count": null,
   "metadata": {},
   "outputs": [],
   "source": []
  }
 ],
 "metadata": {
  "kernelspec": {
   "display_name": "Python 3",
   "language": "python",
   "name": "python3"
  },
  "language_info": {
   "codemirror_mode": {
    "name": "ipython",
    "version": 3
   },
   "file_extension": ".py",
   "mimetype": "text/x-python",
   "name": "python",
   "nbconvert_exporter": "python",
   "pygments_lexer": "ipython3",
   "version": "3.6.5"
  }
 },
 "nbformat": 4,
 "nbformat_minor": 1
}
